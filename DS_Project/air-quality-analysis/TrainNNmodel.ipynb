{
 "nbformat": 4,
 "nbformat_minor": 0,
 "metadata": {
  "colab": {
   "provenance": [],
   "gpuType": "T4"
  },
  "kernelspec": {
   "name": "python3",
   "display_name": "Python 3 (ipykernel)",
   "language": "python"
  },
  "language_info": {
   "name": "python"
  },
  "accelerator": "GPU"
 },
 "cells": [
  {
   "cell_type": "code",
   "metadata": {
    "id": "tpj5tgZbx07c",
    "ExecuteTime": {
     "end_time": "2024-12-17T15:21:16.925019Z",
     "start_time": "2024-12-17T15:21:15.631358Z"
    }
   },
   "source": [
    "import torch\n",
    "from torch.utils.data import DataLoader\n",
    "import pandas as pd\n",
    "import torch.optim as optim\n",
    "import matplotlib.pyplot as plt\n",
    "import seaborn as sns\n",
    "from torch import nn\n",
    "from torch.utils.data import Dataset,TensorDataset"
   ],
   "outputs": [],
   "execution_count": 2
  },
  {
   "cell_type": "code",
   "source": [
    "device = (\"cuda\" if torch.cuda.is_available() else \"cpu\")"
   ],
   "metadata": {
    "id": "nMM1vjAAyEr9",
    "ExecuteTime": {
     "end_time": "2024-12-17T15:21:18.444844Z",
     "start_time": "2024-12-17T15:21:18.441415Z"
    }
   },
   "outputs": [],
   "execution_count": 3
  },
  {
   "cell_type": "code",
   "source": [
    "data = pd.read_csv(\"data/comb_PM25_wind_Hanoi_2018_v3.csv\")\n",
    "print(data.head(1))"
   ],
   "metadata": {
    "colab": {
     "base_uri": "https://localhost:8080/"
    },
    "collapsed": true,
    "id": "ss8VXWjTyMGo",
    "outputId": "11ecc9bd-00f4-42cd-dfd7-276cc3e6ea7a",
    "ExecuteTime": {
     "end_time": "2024-12-17T15:22:18.681830Z",
     "start_time": "2024-12-17T15:22:18.655156Z"
    }
   },
   "outputs": [
    {
     "name": "stdout",
     "output_type": "stream",
     "text": [
      "                  DATE  PM2.5    T2MDEW       T2M         PS        TQV  \\\n",
      "0  2018-01-01 01:00:00   69.2  10.79443  13.64376  100865.09  34.909637   \n",
      "\n",
      "        TQL      H1000     DISPH  FRCAN       HLML      RHOA  CIG  WS  CLDCR  \\\n",
      "0  0.009235  160.25461  0.256226    1.0  63.907425  1.216159  NaN NaN    NaN   \n",
      "\n",
      "   v_2m  v_50m  v_850  \n",
      "0   NaN    NaN    NaN  \n"
     ]
    }
   ],
   "execution_count": 6
  },
  {
   "cell_type": "code",
   "source": [
    "data = data.set_index(\"DATE\")"
   ],
   "metadata": {
    "id": "M4B6B9eiyWjM",
    "ExecuteTime": {
     "end_time": "2024-12-17T15:22:21.937271Z",
     "start_time": "2024-12-17T15:22:21.923989Z"
    }
   },
   "outputs": [],
   "execution_count": 7
  },
  {
   "cell_type": "code",
   "source": [
    "for col in data.columns:\n",
    "  data[col].fillna(data[col].median(), inplace=True)\n",
    "data.info()"
   ],
   "metadata": {
    "colab": {
     "base_uri": "https://localhost:8080/"
    },
    "collapsed": true,
    "id": "I-A9I2uUyfCz",
    "outputId": "d893c19c-5a90-49c1-d89e-c84fdb4534c8",
    "ExecuteTime": {
     "end_time": "2024-12-17T15:22:23.507992Z",
     "start_time": "2024-12-17T15:22:23.488154Z"
    }
   },
   "outputs": [
    {
     "name": "stdout",
     "output_type": "stream",
     "text": [
      "<class 'pandas.core.frame.DataFrame'>\n",
      "Index: 8116 entries, 2018-01-01 01:00:00 to 2018-12-31 00:00:00\n",
      "Data columns (total 17 columns):\n",
      " #   Column  Non-Null Count  Dtype  \n",
      "---  ------  --------------  -----  \n",
      " 0   PM2.5   8116 non-null   float64\n",
      " 1   T2MDEW  8116 non-null   float64\n",
      " 2   T2M     8116 non-null   float64\n",
      " 3   PS      8116 non-null   float64\n",
      " 4   TQV     8116 non-null   float64\n",
      " 5   TQL     8116 non-null   float64\n",
      " 6   H1000   8116 non-null   float64\n",
      " 7   DISPH   8116 non-null   float64\n",
      " 8   FRCAN   8116 non-null   float64\n",
      " 9   HLML    8116 non-null   float64\n",
      " 10  RHOA    8116 non-null   float64\n",
      " 11  CIG     8116 non-null   float64\n",
      " 12  WS      8116 non-null   float64\n",
      " 13  CLDCR   8116 non-null   float64\n",
      " 14  v_2m    0 non-null      float64\n",
      " 15  v_50m   0 non-null      float64\n",
      " 16  v_850   0 non-null      float64\n",
      "dtypes: float64(17)\n",
      "memory usage: 1.1+ MB\n"
     ]
    },
    {
     "name": "stderr",
     "output_type": "stream",
     "text": [
      "/tmp/ipykernel_48621/2211307647.py:2: FutureWarning: A value is trying to be set on a copy of a DataFrame or Series through chained assignment using an inplace method.\n",
      "The behavior will change in pandas 3.0. This inplace method will never work because the intermediate object on which we are setting values always behaves as a copy.\n",
      "\n",
      "For example, when doing 'df[col].method(value, inplace=True)', try using 'df.method({col: value}, inplace=True)' or df[col] = df[col].method(value) instead, to perform the operation inplace on the original object.\n",
      "\n",
      "\n",
      "  data[col].fillna(data[col].median(), inplace=True)\n",
      "/tmp/ipykernel_48621/2211307647.py:2: FutureWarning: A value is trying to be set on a copy of a DataFrame or Series through chained assignment using an inplace method.\n",
      "The behavior will change in pandas 3.0. This inplace method will never work because the intermediate object on which we are setting values always behaves as a copy.\n",
      "\n",
      "For example, when doing 'df[col].method(value, inplace=True)', try using 'df.method({col: value}, inplace=True)' or df[col] = df[col].method(value) instead, to perform the operation inplace on the original object.\n",
      "\n",
      "\n",
      "  data[col].fillna(data[col].median(), inplace=True)\n",
      "/tmp/ipykernel_48621/2211307647.py:2: FutureWarning: A value is trying to be set on a copy of a DataFrame or Series through chained assignment using an inplace method.\n",
      "The behavior will change in pandas 3.0. This inplace method will never work because the intermediate object on which we are setting values always behaves as a copy.\n",
      "\n",
      "For example, when doing 'df[col].method(value, inplace=True)', try using 'df.method({col: value}, inplace=True)' or df[col] = df[col].method(value) instead, to perform the operation inplace on the original object.\n",
      "\n",
      "\n",
      "  data[col].fillna(data[col].median(), inplace=True)\n",
      "/tmp/ipykernel_48621/2211307647.py:2: FutureWarning: A value is trying to be set on a copy of a DataFrame or Series through chained assignment using an inplace method.\n",
      "The behavior will change in pandas 3.0. This inplace method will never work because the intermediate object on which we are setting values always behaves as a copy.\n",
      "\n",
      "For example, when doing 'df[col].method(value, inplace=True)', try using 'df.method({col: value}, inplace=True)' or df[col] = df[col].method(value) instead, to perform the operation inplace on the original object.\n",
      "\n",
      "\n",
      "  data[col].fillna(data[col].median(), inplace=True)\n",
      "/tmp/ipykernel_48621/2211307647.py:2: FutureWarning: A value is trying to be set on a copy of a DataFrame or Series through chained assignment using an inplace method.\n",
      "The behavior will change in pandas 3.0. This inplace method will never work because the intermediate object on which we are setting values always behaves as a copy.\n",
      "\n",
      "For example, when doing 'df[col].method(value, inplace=True)', try using 'df.method({col: value}, inplace=True)' or df[col] = df[col].method(value) instead, to perform the operation inplace on the original object.\n",
      "\n",
      "\n",
      "  data[col].fillna(data[col].median(), inplace=True)\n",
      "/tmp/ipykernel_48621/2211307647.py:2: FutureWarning: A value is trying to be set on a copy of a DataFrame or Series through chained assignment using an inplace method.\n",
      "The behavior will change in pandas 3.0. This inplace method will never work because the intermediate object on which we are setting values always behaves as a copy.\n",
      "\n",
      "For example, when doing 'df[col].method(value, inplace=True)', try using 'df.method({col: value}, inplace=True)' or df[col] = df[col].method(value) instead, to perform the operation inplace on the original object.\n",
      "\n",
      "\n",
      "  data[col].fillna(data[col].median(), inplace=True)\n",
      "/tmp/ipykernel_48621/2211307647.py:2: FutureWarning: A value is trying to be set on a copy of a DataFrame or Series through chained assignment using an inplace method.\n",
      "The behavior will change in pandas 3.0. This inplace method will never work because the intermediate object on which we are setting values always behaves as a copy.\n",
      "\n",
      "For example, when doing 'df[col].method(value, inplace=True)', try using 'df.method({col: value}, inplace=True)' or df[col] = df[col].method(value) instead, to perform the operation inplace on the original object.\n",
      "\n",
      "\n",
      "  data[col].fillna(data[col].median(), inplace=True)\n",
      "/tmp/ipykernel_48621/2211307647.py:2: FutureWarning: A value is trying to be set on a copy of a DataFrame or Series through chained assignment using an inplace method.\n",
      "The behavior will change in pandas 3.0. This inplace method will never work because the intermediate object on which we are setting values always behaves as a copy.\n",
      "\n",
      "For example, when doing 'df[col].method(value, inplace=True)', try using 'df.method({col: value}, inplace=True)' or df[col] = df[col].method(value) instead, to perform the operation inplace on the original object.\n",
      "\n",
      "\n",
      "  data[col].fillna(data[col].median(), inplace=True)\n",
      "/tmp/ipykernel_48621/2211307647.py:2: FutureWarning: A value is trying to be set on a copy of a DataFrame or Series through chained assignment using an inplace method.\n",
      "The behavior will change in pandas 3.0. This inplace method will never work because the intermediate object on which we are setting values always behaves as a copy.\n",
      "\n",
      "For example, when doing 'df[col].method(value, inplace=True)', try using 'df.method({col: value}, inplace=True)' or df[col] = df[col].method(value) instead, to perform the operation inplace on the original object.\n",
      "\n",
      "\n",
      "  data[col].fillna(data[col].median(), inplace=True)\n",
      "/tmp/ipykernel_48621/2211307647.py:2: FutureWarning: A value is trying to be set on a copy of a DataFrame or Series through chained assignment using an inplace method.\n",
      "The behavior will change in pandas 3.0. This inplace method will never work because the intermediate object on which we are setting values always behaves as a copy.\n",
      "\n",
      "For example, when doing 'df[col].method(value, inplace=True)', try using 'df.method({col: value}, inplace=True)' or df[col] = df[col].method(value) instead, to perform the operation inplace on the original object.\n",
      "\n",
      "\n",
      "  data[col].fillna(data[col].median(), inplace=True)\n",
      "/tmp/ipykernel_48621/2211307647.py:2: FutureWarning: A value is trying to be set on a copy of a DataFrame or Series through chained assignment using an inplace method.\n",
      "The behavior will change in pandas 3.0. This inplace method will never work because the intermediate object on which we are setting values always behaves as a copy.\n",
      "\n",
      "For example, when doing 'df[col].method(value, inplace=True)', try using 'df.method({col: value}, inplace=True)' or df[col] = df[col].method(value) instead, to perform the operation inplace on the original object.\n",
      "\n",
      "\n",
      "  data[col].fillna(data[col].median(), inplace=True)\n",
      "/tmp/ipykernel_48621/2211307647.py:2: FutureWarning: A value is trying to be set on a copy of a DataFrame or Series through chained assignment using an inplace method.\n",
      "The behavior will change in pandas 3.0. This inplace method will never work because the intermediate object on which we are setting values always behaves as a copy.\n",
      "\n",
      "For example, when doing 'df[col].method(value, inplace=True)', try using 'df.method({col: value}, inplace=True)' or df[col] = df[col].method(value) instead, to perform the operation inplace on the original object.\n",
      "\n",
      "\n",
      "  data[col].fillna(data[col].median(), inplace=True)\n",
      "/tmp/ipykernel_48621/2211307647.py:2: FutureWarning: A value is trying to be set on a copy of a DataFrame or Series through chained assignment using an inplace method.\n",
      "The behavior will change in pandas 3.0. This inplace method will never work because the intermediate object on which we are setting values always behaves as a copy.\n",
      "\n",
      "For example, when doing 'df[col].method(value, inplace=True)', try using 'df.method({col: value}, inplace=True)' or df[col] = df[col].method(value) instead, to perform the operation inplace on the original object.\n",
      "\n",
      "\n",
      "  data[col].fillna(data[col].median(), inplace=True)\n",
      "/tmp/ipykernel_48621/2211307647.py:2: FutureWarning: A value is trying to be set on a copy of a DataFrame or Series through chained assignment using an inplace method.\n",
      "The behavior will change in pandas 3.0. This inplace method will never work because the intermediate object on which we are setting values always behaves as a copy.\n",
      "\n",
      "For example, when doing 'df[col].method(value, inplace=True)', try using 'df.method({col: value}, inplace=True)' or df[col] = df[col].method(value) instead, to perform the operation inplace on the original object.\n",
      "\n",
      "\n",
      "  data[col].fillna(data[col].median(), inplace=True)\n",
      "/home/thanhnt/.local/lib/python3.10/site-packages/numpy/lib/_nanfunctions_impl.py:1241: RuntimeWarning: Mean of empty slice\n",
      "  return np.nanmean(a, axis, out=out, keepdims=keepdims)\n",
      "/tmp/ipykernel_48621/2211307647.py:2: FutureWarning: A value is trying to be set on a copy of a DataFrame or Series through chained assignment using an inplace method.\n",
      "The behavior will change in pandas 3.0. This inplace method will never work because the intermediate object on which we are setting values always behaves as a copy.\n",
      "\n",
      "For example, when doing 'df[col].method(value, inplace=True)', try using 'df.method({col: value}, inplace=True)' or df[col] = df[col].method(value) instead, to perform the operation inplace on the original object.\n",
      "\n",
      "\n",
      "  data[col].fillna(data[col].median(), inplace=True)\n",
      "/home/thanhnt/.local/lib/python3.10/site-packages/numpy/lib/_nanfunctions_impl.py:1241: RuntimeWarning: Mean of empty slice\n",
      "  return np.nanmean(a, axis, out=out, keepdims=keepdims)\n",
      "/tmp/ipykernel_48621/2211307647.py:2: FutureWarning: A value is trying to be set on a copy of a DataFrame or Series through chained assignment using an inplace method.\n",
      "The behavior will change in pandas 3.0. This inplace method will never work because the intermediate object on which we are setting values always behaves as a copy.\n",
      "\n",
      "For example, when doing 'df[col].method(value, inplace=True)', try using 'df.method({col: value}, inplace=True)' or df[col] = df[col].method(value) instead, to perform the operation inplace on the original object.\n",
      "\n",
      "\n",
      "  data[col].fillna(data[col].median(), inplace=True)\n",
      "/home/thanhnt/.local/lib/python3.10/site-packages/numpy/lib/_nanfunctions_impl.py:1241: RuntimeWarning: Mean of empty slice\n",
      "  return np.nanmean(a, axis, out=out, keepdims=keepdims)\n",
      "/tmp/ipykernel_48621/2211307647.py:2: FutureWarning: A value is trying to be set on a copy of a DataFrame or Series through chained assignment using an inplace method.\n",
      "The behavior will change in pandas 3.0. This inplace method will never work because the intermediate object on which we are setting values always behaves as a copy.\n",
      "\n",
      "For example, when doing 'df[col].method(value, inplace=True)', try using 'df.method({col: value}, inplace=True)' or df[col] = df[col].method(value) instead, to perform the operation inplace on the original object.\n",
      "\n",
      "\n",
      "  data[col].fillna(data[col].median(), inplace=True)\n"
     ]
    }
   ],
   "execution_count": 8
  },
  {
   "cell_type": "code",
   "source": [
    "matric = data.corr()\n",
    "plt.figure(figsize = (12,6))\n",
    "sns.heatmap(data = matric, vmin = -1, vmax = 1,center = 0, cmap = \"coolwarm\",annot = True, fmt = \"0.2f\")\n",
    "plt.show()"
   ],
   "metadata": {
    "colab": {
     "base_uri": "https://localhost:8080/",
     "height": 567
    },
    "collapsed": true,
    "id": "wlIGad1kzdD4",
    "outputId": "fa0d040b-1be6-47f6-fc74-f9be556834ba",
    "ExecuteTime": {
     "end_time": "2024-12-17T15:22:27.026895Z",
     "start_time": "2024-12-17T15:22:26.581760Z"
    }
   },
   "outputs": [
    {
     "data": {
      "text/plain": [
       "<Figure size 1200x600 with 2 Axes>"
      ],
      "image/png": "[encoded data removed]"
     },
     "metadata": {},
     "output_type": "display_data"
    }
   ],
   "execution_count": 9
  },
  {
   "cell_type": "code",
   "source": [
    "data.columns = data.columns.str.lower()\n",
    "data.head()"
   ],
   "metadata": {
    "colab": {
     "base_uri": "https://localhost:8080/",
     "height": 431
    },
    "id": "SIaXfxnPzsBN",
    "outputId": "a26b1076-e7ce-4b2f-f2a6-222c87d0323b",
    "ExecuteTime": {
     "end_time": "2024-12-17T15:22:29.419108Z",
     "start_time": "2024-12-17T15:22:29.397441Z"
    }
   },
   "outputs": [
    {
     "data": {
      "text/plain": [
       "                     pm2.5    t2mdew       t2m         ps        tqv  \\\n",
       "DATE                                                                   \n",
       "2018-01-01 01:00:00   69.2  10.79443  13.64376  100865.09  34.909637   \n",
       "2018-01-01 02:00:00   75.5  10.72836  13.33932  100819.56  35.195385   \n",
       "2018-01-01 03:00:00   90.2  10.60630  13.09753  100793.71  35.590984   \n",
       "2018-01-01 04:00:00   97.6  10.50967  12.81360  100791.80  35.827934   \n",
       "2018-01-01 05:00:00   89.1  10.49365  12.71010  100808.45  35.953880   \n",
       "\n",
       "                          tql      h1000     disph     frcan       hlml  \\\n",
       "DATE                                                                      \n",
       "2018-01-01 01:00:00  0.009235  160.25461  0.256226  1.000000  63.907425   \n",
       "2018-01-01 02:00:00  0.006260  156.44829  0.256226  1.000000  63.832478   \n",
       "2018-01-01 03:00:00  0.003489  154.54437  0.256104  0.993164  63.766266   \n",
       "2018-01-01 04:00:00  0.002314  154.16837  0.255981  0.927490  63.718185   \n",
       "2018-01-01 05:00:00  0.001480  155.72943  0.255859  0.786133  63.684280   \n",
       "\n",
       "                         rhoa    cig   ws  cldcr  v_2m  v_50m  v_850  \n",
       "DATE                                                                  \n",
       "2018-01-01 01:00:00  1.216159  945.0  2.6    0.4   NaN    NaN    NaN  \n",
       "2018-01-01 02:00:00  1.217125  945.0  2.6    0.4   NaN    NaN    NaN  \n",
       "2018-01-01 03:00:00  1.218085  945.0  2.6    0.4   NaN    NaN    NaN  \n",
       "2018-01-01 04:00:00  1.218972  945.0  2.6    0.4   NaN    NaN    NaN  \n",
       "2018-01-01 05:00:00  1.219831  945.0  2.6    0.4   NaN    NaN    NaN  "
      ],
      "text/html": [
       "<div>\n",
       "<style scoped>\n",
       "    .dataframe tbody tr th:only-of-type {\n",
       "        vertical-align: middle;\n",
       "    }\n",
       "\n",
       "    .dataframe tbody tr th {\n",
       "        vertical-align: top;\n",
       "    }\n",
       "\n",
       "    .dataframe thead th {\n",
       "        text-align: right;\n",
       "    }\n",
       "</style>\n",
       "<table border=\"1\" class=\"dataframe\">\n",
       "  <thead>\n",
       "    <tr style=\"text-align: right;\">\n",
       "      <th></th>\n",
       "      <th>pm2.5</th>\n",
       "      <th>t2mdew</th>\n",
       "      <th>t2m</th>\n",
       "      <th>ps</th>\n",
       "      <th>tqv</th>\n",
       "      <th>tql</th>\n",
       "      <th>h1000</th>\n",
       "      <th>disph</th>\n",
       "      <th>frcan</th>\n",
       "      <th>hlml</th>\n",
       "      <th>rhoa</th>\n",
       "      <th>cig</th>\n",
       "      <th>ws</th>\n",
       "      <th>cldcr</th>\n",
       "      <th>v_2m</th>\n",
       "      <th>v_50m</th>\n",
       "      <th>v_850</th>\n",
       "    </tr>\n",
       "    <tr>\n",
       "      <th>DATE</th>\n",
       "      <th></th>\n",
       "      <th></th>\n",
       "      <th></th>\n",
       "      <th></th>\n",
       "      <th></th>\n",
       "      <th></th>\n",
       "      <th></th>\n",
       "      <th></th>\n",
       "      <th></th>\n",
       "      <th></th>\n",
       "      <th></th>\n",
       "      <th></th>\n",
       "      <th></th>\n",
       "      <th></th>\n",
       "      <th></th>\n",
       "      <th></th>\n",
       "      <th></th>\n",
       "    </tr>\n",
       "  </thead>\n",
       "  <tbody>\n",
       "    <tr>\n",
       "      <th>2018-01-01 01:00:00</th>\n",
       "      <td>69.2</td>\n",
       "      <td>10.79443</td>\n",
       "      <td>13.64376</td>\n",
       "      <td>100865.09</td>\n",
       "      <td>34.909637</td>\n",
       "      <td>0.009235</td>\n",
       "      <td>160.25461</td>\n",
       "      <td>0.256226</td>\n",
       "      <td>1.000000</td>\n",
       "      <td>63.907425</td>\n",
       "      <td>1.216159</td>\n",
       "      <td>945.0</td>\n",
       "      <td>2.6</td>\n",
       "      <td>0.4</td>\n",
       "      <td>NaN</td>\n",
       "      <td>NaN</td>\n",
       "      <td>NaN</td>\n",
       "    </tr>\n",
       "    <tr>\n",
       "      <th>2018-01-01 02:00:00</th>\n",
       "      <td>75.5</td>\n",
       "      <td>10.72836</td>\n",
       "      <td>13.33932</td>\n",
       "      <td>100819.56</td>\n",
       "      <td>35.195385</td>\n",
       "      <td>0.006260</td>\n",
       "      <td>156.44829</td>\n",
       "      <td>0.256226</td>\n",
       "      <td>1.000000</td>\n",
       "      <td>63.832478</td>\n",
       "      <td>1.217125</td>\n",
       "      <td>945.0</td>\n",
       "      <td>2.6</td>\n",
       "      <td>0.4</td>\n",
       "      <td>NaN</td>\n",
       "      <td>NaN</td>\n",
       "      <td>NaN</td>\n",
       "    </tr>\n",
       "    <tr>\n",
       "      <th>2018-01-01 03:00:00</th>\n",
       "      <td>90.2</td>\n",
       "      <td>10.60630</td>\n",
       "      <td>13.09753</td>\n",
       "      <td>100793.71</td>\n",
       "      <td>35.590984</td>\n",
       "      <td>0.003489</td>\n",
       "      <td>154.54437</td>\n",
       "      <td>0.256104</td>\n",
       "      <td>0.993164</td>\n",
       "      <td>63.766266</td>\n",
       "      <td>1.218085</td>\n",
       "      <td>945.0</td>\n",
       "      <td>2.6</td>\n",
       "      <td>0.4</td>\n",
       "      <td>NaN</td>\n",
       "      <td>NaN</td>\n",
       "      <td>NaN</td>\n",
       "    </tr>\n",
       "    <tr>\n",
       "      <th>2018-01-01 04:00:00</th>\n",
       "      <td>97.6</td>\n",
       "      <td>10.50967</td>\n",
       "      <td>12.81360</td>\n",
       "      <td>100791.80</td>\n",
       "      <td>35.827934</td>\n",
       "      <td>0.002314</td>\n",
       "      <td>154.16837</td>\n",
       "      <td>0.255981</td>\n",
       "      <td>0.927490</td>\n",
       "      <td>63.718185</td>\n",
       "      <td>1.218972</td>\n",
       "      <td>945.0</td>\n",
       "      <td>2.6</td>\n",
       "      <td>0.4</td>\n",
       "      <td>NaN</td>\n",
       "      <td>NaN</td>\n",
       "      <td>NaN</td>\n",
       "    </tr>\n",
       "    <tr>\n",
       "      <th>2018-01-01 05:00:00</th>\n",
       "      <td>89.1</td>\n",
       "      <td>10.49365</td>\n",
       "      <td>12.71010</td>\n",
       "      <td>100808.45</td>\n",
       "      <td>35.953880</td>\n",
       "      <td>0.001480</td>\n",
       "      <td>155.72943</td>\n",
       "      <td>0.255859</td>\n",
       "      <td>0.786133</td>\n",
       "      <td>63.684280</td>\n",
       "      <td>1.219831</td>\n",
       "      <td>945.0</td>\n",
       "      <td>2.6</td>\n",
       "      <td>0.4</td>\n",
       "      <td>NaN</td>\n",
       "      <td>NaN</td>\n",
       "      <td>NaN</td>\n",
       "    </tr>\n",
       "  </tbody>\n",
       "</table>\n",
       "</div>"
      ]
     },
     "execution_count": 10,
     "metadata": {},
     "output_type": "execute_result"
    }
   ],
   "execution_count": 10
  },
  {
   "cell_type": "code",
   "source": [
    "plt.figure(figsize= (12,6))\n",
    "plt.boxplot(data[\"pm2.5\"])"
   ],
   "metadata": {
    "colab": {
     "base_uri": "https://localhost:8080/",
     "height": 638
    },
    "collapsed": true,
    "id": "IalEUE-gpFR4",
    "outputId": "a83492e2-a303-4c8b-b2a2-2bb32d542f02"
   },
   "execution_count": 9,
   "outputs": [
    {
     "output_type": "execute_result",
     "data": {
      "text/plain": [
       "{'whiskers': [<matplotlib.lines.Line2D at 0x7d78af6330d0>,\n",
       "  <matplotlib.lines.Line2D at 0x7d78af6334f0>],\n",
       " 'caps': [<matplotlib.lines.Line2D at 0x7d78af630790>,\n",
       "  <matplotlib.lines.Line2D at 0x7d78af632830>],\n",
       " 'boxes': [<matplotlib.lines.Line2D at 0x7d78ad9b6bc0>],\n",
       " 'medians': [<matplotlib.lines.Line2D at 0x7d78af632cb0>],\n",
       " 'fliers': [<matplotlib.lines.Line2D at 0x7d78ad7340a0>],\n",
       " 'means': []}"
      ]
     },
     "metadata": {},
     "execution_count": 9
    },
    {
     "output_type": "display_data",
     "data": {
      "text/plain": [
       "<Figure size 1200x600 with 1 Axes>"
      ],
      "image/png": "[encoded data removed]"
     },
     "metadata": {}
    }
   ]
  },
  {
   "cell_type": "code",
   "source": [
    "Q1 = data[\"pm2.5\"].quantile(0.25)\n",
    "Q3 = data[\"pm2.5\"].quantile(0.75)\n",
    "IQR = Q3 - Q1\n",
    "\n",
    "# Loại bỏ outliers\n",
    "lower_bound = Q1 - 1.5 * IQR\n",
    "upper_bound = Q3 + 1.5 * IQR\n",
    "data = data[(data[\"pm2.5\"] >= lower_bound) & (data[\"pm2.5\"] <= upper_bound)]"
   ],
   "metadata": {
    "id": "w0T2onzWplQA"
   },
   "execution_count": 10,
   "outputs": []
  },
  {
   "cell_type": "code",
   "source": [
    "plt.figure(figsize= (12,6))\n",
    "plt.boxplot(data[\"pm2.5\"])"
   ],
   "metadata": {
    "colab": {
     "base_uri": "https://localhost:8080/",
     "height": 638
    },
    "collapsed": true,
    "id": "s3wIQ_QEpcg0",
    "outputId": "13e0cf28-aaa6-492c-bc41-3bce5f4eb8f7"
   },
   "execution_count": 11,
   "outputs": [
    {
     "output_type": "execute_result",
     "data": {
      "text/plain": [
       "{'whiskers': [<matplotlib.lines.Line2D at 0x7d78ad5ea650>,\n",
       "  <matplotlib.lines.Line2D at 0x7d78ad5ea8f0>],\n",
       " 'caps': [<matplotlib.lines.Line2D at 0x7d78ad5eab90>,\n",
       "  <matplotlib.lines.Line2D at 0x7d78ad5eae30>],\n",
       " 'boxes': [<matplotlib.lines.Line2D at 0x7d78ad5ea3b0>],\n",
       " 'medians': [<matplotlib.lines.Line2D at 0x7d78ad5eb0d0>],\n",
       " 'fliers': [<matplotlib.lines.Line2D at 0x7d78ad5eb370>],\n",
       " 'means': []}"
      ]
     },
     "metadata": {},
     "execution_count": 11
    },
    {
     "output_type": "display_data",
     "data": {
      "text/plain": [
       "<Figure size 1200x600 with 1 Axes>"
      ],
      "image/png": "[encoded data removed]"
     },
     "metadata": {}
    }
   ]
  },
  {
   "cell_type": "code",
   "source": [
    "y = data[\"pm2.5\"].values\n",
    "x = data.drop([\"pm2.5\"],axis = 1).values"
   ],
   "metadata": {
    "id": "NFXi9KO50GVE"
   },
   "execution_count": 12,
   "outputs": []
  },
  {
   "cell_type": "code",
   "source": [
    "x_tensor = torch.tensor(x, dtype = torch.float32)\n",
    "y_tensor = torch.tensor(y,dtype = torch.float32)"
   ],
   "metadata": {
    "id": "BCrNtyM10P-h"
   },
   "execution_count": 13,
   "outputs": []
  },
  {
   "cell_type": "code",
   "source": [
    "dataset_size = len(x_tensor)\n",
    "train_size = int(0.8 * dataset_size)\n",
    "valid_size = dataset_size - train_size"
   ],
   "metadata": {
    "id": "ijLh0Trr0cT7"
   },
   "execution_count": 14,
   "outputs": []
  },
  {
   "cell_type": "code",
   "source": [
    "train_dataset, valid_dataset = torch.utils.data.random_split(\n",
    "    list(zip(x_tensor, y_tensor)), [train_size, valid_size], generator=torch.Generator().manual_seed(42)\n",
    ")"
   ],
   "metadata": {
    "id": "-nEQ0Tyn0qCZ"
   },
   "execution_count": 15,
   "outputs": []
  },
  {
   "cell_type": "code",
   "source": [
    "print(dataset_size)\n",
    "print(len(train_dataset))\n",
    "print(len(valid_dataset))"
   ],
   "metadata": {
    "colab": {
     "base_uri": "https://localhost:8080/"
    },
    "collapsed": true,
    "id": "BWrTkM__0s0b",
    "outputId": "17d150f2-efb6-4269-8bfb-749ea7a3d17d"
   },
   "execution_count": 16,
   "outputs": [
    {
     "output_type": "stream",
     "name": "stdout",
     "text": [
      "7638\n",
      "6110\n",
      "1528\n"
     ]
    }
   ]
  },
  {
   "cell_type": "code",
   "source": [
    "x_train_tensor = torch.stack([x for x, _ in train_dataset])\n",
    "y_train_tensor = torch.stack([y for _, y in train_dataset])\n",
    "\n",
    "x_valid_tensor = torch.stack([x for x, _ in valid_dataset])\n",
    "y_valid_tensor = torch.stack([y for _, y in valid_dataset])"
   ],
   "metadata": {
    "id": "QVRKMGpD4ioE"
   },
   "execution_count": 17,
   "outputs": []
  },
  {
   "cell_type": "code",
   "source": [
    "x_train_min = x_train_tensor.min(dim=0, keepdim=True).values\n",
    "x_train_max = x_train_tensor.max(dim=0, keepdim=True).values\n",
    "x_valid_min = x_valid_tensor.min(dim=0, keepdim=True).values\n",
    "x_valid_max = x_valid_tensor.max(dim=0, keepdim=True).values"
   ],
   "metadata": {
    "id": "AnsCtmc04uQA"
   },
   "execution_count": 18,
   "outputs": []
  },
  {
   "cell_type": "code",
   "source": [
    "x_train_range = x_train_max-x_train_min\n",
    "x_valid_range = x_valid_max-x_valid_min"
   ],
   "metadata": {
    "id": "m-ws8Lp142tg"
   },
   "execution_count": 19,
   "outputs": []
  },
  {
   "cell_type": "code",
   "source": [
    "x_train_tensor = (x_train_tensor-x_train_min)/x_train_range\n",
    "x_valid_tensor = (x_valid_tensor - x_valid_min)/x_valid_range"
   ],
   "metadata": {
    "id": "lzPuZq7O-TAy"
   },
   "execution_count": 20,
   "outputs": []
  },
  {
   "cell_type": "code",
   "source": [
    "print(f\"X_train_tensor shape: {x_train_tensor.shape}\")\n",
    "print(f\"y_train_tensor shape: {y_train_tensor.shape}\")\n",
    "print(f\"X_valid_tensor shape: {x_valid_tensor.shape}\")\n",
    "print(f\"y_valid_tensor shape: {y_valid_tensor.shape}\")"
   ],
   "metadata": {
    "colab": {
     "base_uri": "https://localhost:8080/"
    },
    "id": "-vj_a1z-49G0",
    "outputId": "d8ce4b11-af64-480a-b21a-ce37cff6e959"
   },
   "execution_count": 21,
   "outputs": [
    {
     "output_type": "stream",
     "name": "stdout",
     "text": [
      "X_train_tensor shape: torch.Size([6110, 16])\n",
      "y_train_tensor shape: torch.Size([6110])\n",
      "X_valid_tensor shape: torch.Size([1528, 16])\n",
      "y_valid_tensor shape: torch.Size([1528])\n"
     ]
    }
   ]
  },
  {
   "cell_type": "code",
   "source": [
    "train_data = TensorDataset(x_train_tensor,y_train_tensor)\n",
    "valid_data = TensorDataset(x_valid_tensor,y_valid_tensor)"
   ],
   "metadata": {
    "id": "vJeF8uVe5EnX"
   },
   "execution_count": 22,
   "outputs": []
  },
  {
   "cell_type": "code",
   "source": [
    "train_loader = DataLoader(train_data, batch_size=32, shuffle=True)\n",
    "valid_loader = DataLoader(valid_data, batch_size=32, shuffle=False)"
   ],
   "metadata": {
    "id": "jSN0HDYV5muf"
   },
   "execution_count": 23,
   "outputs": []
  },
  {
   "cell_type": "code",
   "source": [
    "for inputs,label in train_loader:\n",
    "  print(inputs)\n",
    "  print(label)\n",
    "  break"
   ],
   "metadata": {
    "colab": {
     "base_uri": "https://localhost:8080/"
    },
    "collapsed": true,
    "id": "tbSNwERK5uEq",
    "outputId": "89751813-0cf6-4195-e922-d6efdd569393"
   },
   "execution_count": 24,
   "outputs": [
    {
     "output_type": "stream",
     "name": "stdout",
     "text": [
      "tensor([[8.2584e-01, 6.2808e-01, 4.2943e-01, 6.8234e-01, 3.5772e-01, 4.5212e-01,\n",
      "         4.2133e-01, 3.9050e-01, 6.3233e-01, 3.5343e-01, 1.6705e-02, 2.6271e-01,\n",
      "         0.0000e+00, 3.9546e-01, 4.3418e-01, 1.4253e-01],\n",
      "        [3.2509e-01, 3.1825e-01, 8.8070e-01, 3.1826e-01, 2.7505e-02, 8.9144e-01,\n",
      "         6.7035e-01, 7.3877e-01, 2.2866e-01, 7.9125e-01, 3.8979e-02, 3.4746e-01,\n",
      "         3.3333e-01, 4.5504e-01, 3.9293e-01, 1.4859e-01],\n",
      "        [8.8422e-01, 7.4690e-01, 2.0153e-01, 5.6867e-01, 4.6981e-02, 2.1251e-01,\n",
      "         7.8999e-01, 3.8721e-01, 8.6144e-01, 1.2851e-01, 1.0000e+00, 2.2034e-01,\n",
      "         3.3333e-01, 1.6846e-01, 4.1415e-01, 1.2297e-02],\n",
      "        [9.3435e-01, 8.3569e-01, 2.1076e-01, 8.2224e-01, 1.7115e-01, 2.2336e-01,\n",
      "         9.3953e-01, 4.3335e-01, 8.3898e-01, 1.4688e-01, 3.8979e-02, 1.2712e-01,\n",
      "         0.0000e+00, 5.6626e-02, 3.8772e-02, 1.5861e-02],\n",
      "        [3.8574e-01, 3.2660e-01, 7.7801e-01, 2.5666e-01, 2.9253e-01, 7.9598e-01,\n",
      "         2.3570e-01, 9.4629e-01, 3.0055e-01, 7.0432e-01, 3.8979e-02, 3.8983e-01,\n",
      "         3.3333e-01, 4.6958e-01, 6.3279e-01, 6.8985e-01],\n",
      "        [6.4471e-01, 4.5357e-01, 4.4351e-01, 5.4478e-01, 1.0938e-01, 4.6559e-01,\n",
      "         4.0540e-01, 1.5857e-01, 4.5349e-01, 4.9352e-01, 1.3921e-02, 2.6271e-01,\n",
      "         3.3333e-01, 2.2473e-01, 4.0199e-01, 2.5465e-01],\n",
      "        [5.0314e-01, 4.7790e-01, 6.6211e-01, 8.1177e-02, 1.9739e-04, 6.8756e-01,\n",
      "         8.3615e-01, 1.2474e-02, 5.0181e-01, 5.1294e-01, 1.0000e+00, 2.2034e-01,\n",
      "         3.3333e-01, 4.7317e-02, 6.0918e-02, 1.3115e-01],\n",
      "        [5.6667e-01, 3.7779e-01, 5.4559e-01, 1.9389e-01, 6.6676e-02, 5.6829e-01,\n",
      "         5.5852e-01, 6.9702e-02, 3.8173e-01, 5.7667e-01, 4.1764e-02, 2.6271e-01,\n",
      "         0.0000e+00, 1.0295e-01, 1.8474e-01, 2.6208e-01],\n",
      "        [6.2049e-01, 6.5715e-01, 5.3596e-01, 1.4961e-01, 1.3939e-02, 5.6333e-01,\n",
      "         2.4317e-01, 2.2595e-01, 6.1490e-01, 3.9379e-01, 3.8979e-02, 2.2034e-01,\n",
      "         3.3333e-01, 2.2732e-01, 1.8385e-01, 4.5113e-02],\n",
      "        [8.2880e-01, 6.2602e-01, 5.0108e-01, 6.4868e-01, 1.2426e-01, 5.2683e-01,\n",
      "         5.2341e-01, 6.9287e-01, 6.5387e-01, 3.5526e-01, 3.8979e-02, 3.0508e-01,\n",
      "         3.3333e-01, 3.0798e-01, 4.9505e-01, 3.2672e-01],\n",
      "        [7.5648e-01, 5.3052e-01, 4.9414e-01, 4.1977e-01, 4.3430e-02, 5.1898e-01,\n",
      "         7.5553e-01, 7.5049e-01, 5.8245e-01, 4.0728e-01, 3.4780e-02, 2.2034e-01,\n",
      "         8.3333e-01, 1.2352e-01, 2.8923e-01, 1.4716e-01],\n",
      "        [8.9940e-01, 6.7846e-01, 1.6969e-01, 8.3419e-01, 5.8209e-01, 1.8214e-01,\n",
      "         9.0962e-01, 1.0000e+00, 7.2070e-01, 2.2162e-01, 1.8120e-02, 3.4746e-01,\n",
      "         0.0000e+00, 2.1694e-01, 4.0398e-01, 1.0205e-01],\n",
      "        [8.8142e-01, 7.1990e-01, 3.7945e-01, 6.4991e-01, 1.4836e-01, 3.9964e-01,\n",
      "         6.8856e-01, 5.4272e-01, 7.1707e-01, 2.7722e-01, 3.8979e-02, 3.4746e-01,\n",
      "         3.3333e-01, 3.1678e-01, 2.8787e-01, 2.9835e-01],\n",
      "        [9.2445e-01, 9.1976e-01, 1.5254e-01, 7.7440e-01, 1.8887e-01, 1.6105e-01,\n",
      "         8.6606e-01, 7.2144e-01, 9.3115e-01, 6.7613e-02, 3.8979e-02, 8.4746e-02,\n",
      "         0.0000e+00, 1.6864e-01, 1.8176e-01, 1.3520e-01],\n",
      "        [7.5336e-01, 5.7721e-01, 5.5581e-01, 2.7971e-01, 2.2687e-02, 5.8314e-01,\n",
      "         9.4538e-01, 4.0991e-01, 6.5320e-01, 3.6994e-01, 1.0000e+00, 3.0508e-01,\n",
      "         3.3333e-01, 1.9561e-01, 4.8299e-01, 1.3985e-01],\n",
      "        [7.9992e-01, 7.4675e-01, 5.4331e-01, 4.5292e-01, 2.2017e-04, 5.7051e-01,\n",
      "         9.9415e-01, 3.6938e-01, 7.0840e-01, 3.2583e-01, 1.0000e+00, 2.2034e-01,\n",
      "         3.3333e-01, 7.9225e-02, 6.0222e-02, 4.8125e-02],\n",
      "        [9.0087e-01, 8.6706e-01, 3.1203e-01, 6.0802e-01, 2.8266e-01, 3.3048e-01,\n",
      "         4.1417e-01, 4.3115e-01, 8.6062e-01, 1.5715e-01, 3.7564e-02, 3.0508e-01,\n",
      "         3.3333e-01, 4.2591e-01, 3.5562e-01, 4.8950e-02],\n",
      "        [7.8894e-01, 7.0419e-01, 4.3545e-01, 3.7164e-01, 5.5095e-02, 4.5984e-01,\n",
      "         4.2263e-03, 3.3496e-01, 7.0429e-01, 3.0157e-01, 5.0116e-02, 3.4746e-01,\n",
      "         3.3333e-01, 5.0990e-01, 5.2739e-01, 1.8670e-01],\n",
      "        [9.1746e-01, 7.1627e-01, 2.2208e-01, 8.0545e-01, 2.7658e-01, 2.3699e-01,\n",
      "         9.1482e-01, 8.0908e-01, 7.2532e-01, 2.3176e-01, 5.9838e-02, 2.2034e-01,\n",
      "         0.0000e+00, 4.6555e-01, 4.6495e-01, 2.2158e-01],\n",
      "        [8.9707e-01, 9.2871e-01, 1.5228e-01, 7.4823e-01, 1.2125e-01, 1.6029e-01,\n",
      "         8.0559e-01, 4.0320e-01, 9.7140e-01, 3.9971e-02, 3.8979e-02, 1.2712e-01,\n",
      "         3.3333e-01, 2.4565e-01, 3.2849e-01, 3.1158e-01],\n",
      "        [5.7930e-01, 4.0360e-01, 6.5976e-01, 3.2581e-01, 1.8816e-02, 6.8214e-01,\n",
      "         2.4707e-02, 1.9556e-01, 3.9994e-01, 5.9251e-01, 3.8979e-02, 2.6271e-01,\n",
      "         0.0000e+00, 2.6914e-01, 4.4824e-01, 2.0139e-01],\n",
      "        [8.0061e-01, 5.8534e-01, 5.0129e-01, 3.6046e-01, 1.9484e-02, 5.2765e-01,\n",
      "         7.8674e-01, 2.9651e-01, 6.1635e-01, 3.8400e-01, 3.8979e-02, 3.0508e-01,\n",
      "         3.3333e-01, 3.2613e-01, 5.4472e-01, 2.2319e-01],\n",
      "        [9.4487e-01, 8.3084e-01, 1.5301e-01, 8.3427e-01, 3.9775e-01, 1.6299e-01,\n",
      "         9.0572e-01, 8.5059e-01, 8.5286e-01, 1.2303e-01, 7.9328e-02, 4.8305e-01,\n",
      "         0.0000e+00, 3.0403e-01, 3.6040e-01, 3.8497e-01],\n",
      "        [6.9341e-01, 6.2436e-01, 5.7556e-01, 5.0552e-01, 5.6701e-02, 6.0220e-01,\n",
      "         9.9545e-01, 2.4042e-01, 5.9106e-01, 4.2199e-01, 8.2112e-02, 1.7797e-01,\n",
      "         0.0000e+00, 4.9461e-01, 4.9386e-01, 2.8925e-01],\n",
      "        [8.8511e-01, 6.8729e-01, 3.1075e-01, 6.7454e-01, 3.1115e-02, 3.2908e-01,\n",
      "         9.6099e-01, 6.0938e-01, 7.0738e-01, 2.6748e-01, 9.7677e-03, 1.7797e-01,\n",
      "         0.0000e+00, 7.6619e-02, 1.2275e-01, 1.2230e-01],\n",
      "        [6.0624e-01, 4.3055e-01, 6.2133e-01, 3.6128e-01, 1.0980e-02, 6.4394e-01,\n",
      "         1.0273e-01, 6.3660e-02, 4.2304e-01, 5.6371e-01, 3.8979e-02, 3.0508e-01,\n",
      "         0.0000e+00, 2.8730e-01, 4.4806e-01, 1.8873e-01],\n",
      "        [9.4359e-01, 8.1767e-01, 2.0454e-01, 7.7760e-01, 2.3025e-01, 2.1737e-01,\n",
      "         9.4343e-01, 1.0000e+00, 8.3523e-01, 1.4817e-01, 3.8979e-02, 1.7797e-01,\n",
      "         0.0000e+00, 1.3851e-01, 1.2352e-01, 5.8987e-02],\n",
      "        [9.4729e-01, 7.4425e-01, 1.9543e-01, 8.7009e-01, 3.8910e-01, 2.0850e-01,\n",
      "         9.0832e-01, 9.5532e-01, 7.7157e-01, 1.9160e-01, 2.9257e-02, 3.8983e-01,\n",
      "         3.3333e-01, 4.6736e-01, 5.2373e-01, 4.3153e-01],\n",
      "        [8.9071e-01, 7.2317e-01, 3.2472e-01, 6.6917e-01, 3.3870e-02, 3.4311e-01,\n",
      "         9.6099e-01, 5.8423e-01, 7.2401e-01, 2.5801e-01, 9.7677e-03, 1.7797e-01,\n",
      "         0.0000e+00, 1.4730e-01, 1.3745e-01, 1.1499e-01],\n",
      "        [9.1811e-01, 7.1035e-01, 2.6784e-01, 7.9202e-01, 2.1544e-01, 2.8410e-01,\n",
      "         8.9272e-01, 8.8379e-01, 7.7260e-01, 2.0880e-01, 6.2623e-02, 2.6271e-01,\n",
      "         0.0000e+00, 1.1659e-01, 2.9396e-01, 2.6676e-01],\n",
      "        [6.7237e-01, 4.7574e-01, 5.3276e-01, 3.7429e-01, 5.4943e-02, 5.5624e-01,\n",
      "         3.5761e-03, 2.0929e-01, 4.8185e-01, 4.9464e-01, 1.5336e-02, 3.0508e-01,\n",
      "         3.3333e-01, 2.3472e-01, 4.1724e-01, 3.7095e-01],\n",
      "        [7.0551e-01, 4.7162e-01, 5.2632e-01, 2.4357e-01, 2.9534e-02, 5.5058e-01,\n",
      "         5.3966e-01, 4.2603e-01, 5.2896e-01, 4.5678e-01, 1.6705e-02, 3.0508e-01,\n",
      "         0.0000e+00, 1.6815e-01, 4.0435e-01, 9.1315e-02]])\n",
      "tensor([43.3000, 24.0000, 68.8000, 42.0000, 22.1000, 65.3000, 54.0000, 29.0000,\n",
      "        56.9000, 17.8000, 19.0000,  6.0000, 13.2000, 11.0000, 51.0000, 53.0000,\n",
      "        35.2000, 46.1000, 28.0000,  6.3000, 38.1000, 26.0000,  8.0000,  7.0000,\n",
      "        27.0000, 39.9000, 25.0000,  7.0000, 29.0000, 17.0000, 32.7000, 17.0000])\n"
     ]
    }
   ]
  },
  {
   "cell_type": "code",
   "source": [
    "!pip install wandb\n",
    "import wandb\n",
    "!wandb login \"1a1e9d904fb11812f635b8c3f9a93ae09da4cd04\""
   ],
   "metadata": {
    "colab": {
     "base_uri": "https://localhost:8080/"
    },
    "collapsed": true,
    "id": "UAbh6BCg0zKR",
    "outputId": "681c21cf-f281-478a-ed8f-9cde8aa2bbdc"
   },
   "execution_count": 25,
   "outputs": [
    {
     "output_type": "stream",
     "name": "stdout",
     "text": [
      "Requirement already satisfied: wandb in /usr/local/lib/python3.10/dist-packages (0.18.7)\n",
      "Requirement already satisfied: click!=8.0.0,>=7.1 in /usr/local/lib/python3.10/dist-packages (from wandb) (8.1.7)\n",
      "Requirement already satisfied: docker-pycreds>=0.4.0 in /usr/local/lib/python3.10/dist-packages (from wandb) (0.4.0)\n",
      "Requirement already satisfied: gitpython!=3.1.29,>=1.0.0 in /usr/local/lib/python3.10/dist-packages (from wandb) (3.1.43)\n",
      "Requirement already satisfied: platformdirs in /usr/local/lib/python3.10/dist-packages (from wandb) (4.3.6)\n",
      "Requirement already satisfied: protobuf!=4.21.0,!=5.28.0,<6,>=3.19.0 in /usr/local/lib/python3.10/dist-packages (from wandb) (4.25.5)\n",
      "Requirement already satisfied: psutil>=5.0.0 in /usr/local/lib/python3.10/dist-packages (from wandb) (5.9.5)\n",
      "Requirement already satisfied: pyyaml in /usr/local/lib/python3.10/dist-packages (from wandb) (6.0.2)\n",
      "Requirement already satisfied: requests<3,>=2.0.0 in /usr/local/lib/python3.10/dist-packages (from wandb) (2.32.3)\n",
      "Requirement already satisfied: sentry-sdk>=2.0.0 in /usr/local/lib/python3.10/dist-packages (from wandb) (2.19.2)\n",
      "Requirement already satisfied: setproctitle in /usr/local/lib/python3.10/dist-packages (from wandb) (1.3.4)\n",
      "Requirement already satisfied: setuptools in /usr/local/lib/python3.10/dist-packages (from wandb) (75.1.0)\n",
      "Requirement already satisfied: typing-extensions<5,>=4.4 in /usr/local/lib/python3.10/dist-packages (from wandb) (4.12.2)\n",
      "Requirement already satisfied: six>=1.4.0 in /usr/local/lib/python3.10/dist-packages (from docker-pycreds>=0.4.0->wandb) (1.17.0)\n",
      "Requirement already satisfied: gitdb<5,>=4.0.1 in /usr/local/lib/python3.10/dist-packages (from gitpython!=3.1.29,>=1.0.0->wandb) (4.0.11)\n",
      "Requirement already satisfied: charset-normalizer<4,>=2 in /usr/local/lib/python3.10/dist-packages (from requests<3,>=2.0.0->wandb) (3.4.0)\n",
      "Requirement already satisfied: idna<4,>=2.5 in /usr/local/lib/python3.10/dist-packages (from requests<3,>=2.0.0->wandb) (3.10)\n",
      "Requirement already satisfied: urllib3<3,>=1.21.1 in /usr/local/lib/python3.10/dist-packages (from requests<3,>=2.0.0->wandb) (2.2.3)\n",
      "Requirement already satisfied: certifi>=2017.4.17 in /usr/local/lib/python3.10/dist-packages (from requests<3,>=2.0.0->wandb) (2024.8.30)\n",
      "Requirement already satisfied: smmap<6,>=3.0.1 in /usr/local/lib/python3.10/dist-packages (from gitdb<5,>=4.0.1->gitpython!=3.1.29,>=1.0.0->wandb) (5.0.1)\n",
      "\u001B[34m\u001B[1mwandb\u001B[0m: Appending key for api.wandb.ai to your netrc file: /root/.netrc\n"
     ]
    }
   ]
  },
  {
   "cell_type": "code",
   "source": [
    "wandb.init(project = \"My project\",name = \"AdamW with 1e-3,100 epoch (data after 2 outlier) \")"
   ],
   "metadata": {
    "colab": {
     "base_uri": "https://localhost:8080/",
     "height": 425
    },
    "collapsed": true,
    "id": "2bftZP1K02B_",
    "outputId": "7cfe74e3-183d-4a9a-bcd4-bf6e2c785275"
   },
   "execution_count": 45,
   "outputs": [
    {
     "output_type": "display_data",
     "data": {
      "text/plain": [
       "<IPython.core.display.HTML object>"
      ],
      "text/html": [
       "Finishing last run (ID:8zb35qbb) before initializing another..."
      ]
     },
     "metadata": {}
    },
    {
     "output_type": "display_data",
     "data": {
      "text/plain": [
       "<IPython.core.display.HTML object>"
      ],
      "text/html": [
       "\n",
       "    <style>\n",
       "        .wandb-row {\n",
       "            display: flex;\n",
       "            flex-direction: row;\n",
       "            flex-wrap: wrap;\n",
       "            justify-content: flex-start;\n",
       "            width: 100%;\n",
       "        }\n",
       "        .wandb-col {\n",
       "            display: flex;\n",
       "            flex-direction: column;\n",
       "            flex-basis: 100%;\n",
       "            flex: 1;\n",
       "            padding: 10px;\n",
       "        }\n",
       "    </style>\n",
       "<div class=\"wandb-row\"><div class=\"wandb-col\"><h3>Run history:</h3><br/><table class=\"wandb\"><tr><td>Average train loss</td><td>▃▂▁▁▁▁▁▁▁▁▁▁▁▁▁▁▁█▃▁▁▁▁▁▁▁▁▁▁▁▁▁▁▁▁▁▁▁▁▁</td></tr><tr><td>Average valid loss</td><td>▇▅▁▁▁▁▁▁▁▁▁▁▁▁▁▁▁▁██▁▁▁▁▁▁▁▁▁▁▁▁▁▁▁▁▁▁▁▁</td></tr><tr><td>Epoch</td><td>▂▂▃▃▃▃▃▄▄▄▄▅▅▆▆▇▇▇▇█▁▁▁▁▂▂▃▃▃▃▅▅▅▅▅▆▇▇▇█</td></tr></table><br/></div><div class=\"wandb-col\"><h3>Run summary:</h3><br/><table class=\"wandb\"><tr><td>Average train loss</td><td>219.61058</td></tr><tr><td>Average valid loss</td><td>249.74683</td></tr><tr><td>Epoch</td><td>50</td></tr></table><br/></div></div>"
      ]
     },
     "metadata": {}
    },
    {
     "output_type": "display_data",
     "data": {
      "text/plain": [
       "<IPython.core.display.HTML object>"
      ],
      "text/html": [
       " View run <strong style=\"color:#cdcd00\">AdamW with 1e-3,50 epoch (data after 2 outlier) </strong> at: <a href='https://wandb.ai/quoc-trieu-geckokidz-hust/My%20project/runs/8zb35qbb' target=\"_blank\">https://wandb.ai/quoc-trieu-geckokidz-hust/My%20project/runs/8zb35qbb</a><br/> View project at: <a href='https://wandb.ai/quoc-trieu-geckokidz-hust/My%20project' target=\"_blank\">https://wandb.ai/quoc-trieu-geckokidz-hust/My%20project</a><br/>Synced 5 W&B file(s), 0 media file(s), 0 artifact file(s) and 0 other file(s)"
      ]
     },
     "metadata": {}
    },
    {
     "output_type": "display_data",
     "data": {
      "text/plain": [
       "<IPython.core.display.HTML object>"
      ],
      "text/html": [
       "Find logs at: <code>./wandb/run-20241217_075608-8zb35qbb/logs</code>"
      ]
     },
     "metadata": {}
    },
    {
     "output_type": "display_data",
     "data": {
      "text/plain": [
       "<IPython.core.display.HTML object>"
      ],
      "text/html": [
       "Successfully finished last run (ID:8zb35qbb). Initializing new run:<br/>"
      ]
     },
     "metadata": {}
    },
    {
     "output_type": "display_data",
     "data": {
      "text/plain": [
       "<IPython.core.display.HTML object>"
      ],
      "text/html": [
       "Tracking run with wandb version 0.18.7"
      ]
     },
     "metadata": {}
    },
    {
     "output_type": "display_data",
     "data": {
      "text/plain": [
       "<IPython.core.display.HTML object>"
      ],
      "text/html": [
       "Run data is saved locally in <code>/content/wandb/run-20241217_081004-oog2iatu</code>"
      ]
     },
     "metadata": {}
    },
    {
     "output_type": "display_data",
     "data": {
      "text/plain": [
       "<IPython.core.display.HTML object>"
      ],
      "text/html": [
       "Syncing run <strong><a href='https://wandb.ai/quoc-trieu-geckokidz-hust/My%20project/runs/oog2iatu' target=\"_blank\">AdamW with 1e-3,100 epoch (data after 2 outlier) </a></strong> to <a href='https://wandb.ai/quoc-trieu-geckokidz-hust/My%20project' target=\"_blank\">Weights & Biases</a> (<a href='https://wandb.me/developer-guide' target=\"_blank\">docs</a>)<br/>"
      ]
     },
     "metadata": {}
    },
    {
     "output_type": "display_data",
     "data": {
      "text/plain": [
       "<IPython.core.display.HTML object>"
      ],
      "text/html": [
       " View project at <a href='https://wandb.ai/quoc-trieu-geckokidz-hust/My%20project' target=\"_blank\">https://wandb.ai/quoc-trieu-geckokidz-hust/My%20project</a>"
      ]
     },
     "metadata": {}
    },
    {
     "output_type": "display_data",
     "data": {
      "text/plain": [
       "<IPython.core.display.HTML object>"
      ],
      "text/html": [
       " View run at <a href='https://wandb.ai/quoc-trieu-geckokidz-hust/My%20project/runs/oog2iatu' target=\"_blank\">https://wandb.ai/quoc-trieu-geckokidz-hust/My%20project/runs/oog2iatu</a>"
      ]
     },
     "metadata": {}
    },
    {
     "output_type": "execute_result",
     "data": {
      "text/html": [
       "<button onClick=\"this.nextSibling.style.display='block';this.style.display='none';\">Display W&B run</button><iframe src='https://wandb.ai/quoc-trieu-geckokidz-hust/My%20project/runs/oog2iatu?jupyter=true' style='border:none;width:100%;height:420px;display:none;'></iframe>"
      ],
      "text/plain": [
       "<wandb.sdk.wandb_run.Run at 0x7d789241c820>"
      ]
     },
     "metadata": {},
     "execution_count": 45
    }
   ]
  },
  {
   "cell_type": "code",
   "source": [
    "import torch\n",
    "import torch.nn as nn\n",
    "\n",
    "class RegressionModel(nn.Module):\n",
    "    def __init__(self):\n",
    "        super(RegressionModel, self).__init__()\n",
    "        # Lớp đầu vào và lớp ẩn thứ nhất\n",
    "        self.fc1 = nn.Linear(16, 128)  # Dense(128)\n",
    "        self.dropout1 = nn.Dropout(0.3)  # Dropout(0.3)\n",
    "        self.bn1 = nn.BatchNorm1d(128)  # Batch Normalization\n",
    "\n",
    "        # Lớp ẩn thứ hai\n",
    "        self.fc2 = nn.Linear(128, 64)  # Dense(64)\n",
    "        self.dropout2 = nn.Dropout(0.3)  # Dropout(0.3)\n",
    "        self.bn2 = nn.BatchNorm1d(64)  # Batch Normalization\n",
    "\n",
    "        # Lớp ẩn thứ ba\n",
    "        self.fc3 = nn.Linear(64, 32)  # Dense(32)\n",
    "        self.bn3 = nn.BatchNorm1d(32)  # Batch Normalization\n",
    "\n",
    "        # Lớp đầu ra (linear)\n",
    "        self.output = nn.Linear(32, 1)  # Dense(1)\n",
    "        self.relu = nn.ReLU()\n",
    "    def forward(self, x):\n",
    "        # Forward pass qua các lớp\n",
    "        x = self.relu(self.bn1(self.fc1(x)))  # Lớp ẩn thứ nhất với ReLU và Batch Norm\n",
    "        x = self.dropout1(x)  # Dropout\n",
    "        x = self.relu(self.bn2(self.fc2(x)))  # Lớp ẩn thứ hai với ReLU và Batch Norm\n",
    "        x = self.dropout2(x)  # Dropout\n",
    "        x = self.relu(self.bn3(self.fc3(x)))  # Lớp ẩn thứ ba với ReLU và Batch Norm\n",
    "        x = self.output(x)  # Lớp đầu ra (linear, không activation)\n",
    "        return x\n"
   ],
   "metadata": {
    "id": "pzD-npvp04Gf"
   },
   "execution_count": 44,
   "outputs": []
  },
  {
   "cell_type": "code",
   "source": [
    "model = RegressionModel()\n",
    "loss_func = torch.nn.MSELoss()\n",
    "optimizer = torch.optim.AdamW(params = model.parameters(),lr = 1e-3)"
   ],
   "metadata": {
    "id": "FC9k14-l08Gn"
   },
   "execution_count": 113,
   "outputs": []
  },
  {
   "cell_type": "code",
   "source": [
    "amount_batch = len(train_loader)\n",
    "epochs =100\n",
    "best_loss = 1000000000"
   ],
   "metadata": {
    "id": "L6iSiY6J0919"
   },
   "execution_count": 114,
   "outputs": []
  },
  {
   "cell_type": "code",
   "source": [
    "for epoch in range(epochs):\n",
    "  print(\"Epoch: {}\".format(epoch+1))\n",
    "  print(\"----------------------\")\n",
    "  aver_loss = 0\n",
    "  for batch,(inputs,labels) in enumerate(train_loader,1):\n",
    "    inputs = inputs.float()\n",
    "    labels = labels.float()\n",
    "    preds = model(inputs)\n",
    "    loss = loss_func(preds,labels.unsqueeze(1))\n",
    "    aver_loss += loss.item()\n",
    "    optimizer.zero_grad()\n",
    "    loss.backward()\n",
    "    optimizer.step()\n",
    "  print(\"Train loss: {}\".format(aver_loss/amount_batch))\n",
    "  wandb.log({\"Average train loss\": aver_loss/amount_batch,\"Epoch\":epoch+1})\n",
    "  valid_loss = 0\n",
    "  for inputs_valid,labels_valid in valid_loader:\n",
    "    inputs_valid = inputs_valid.float()\n",
    "    labels_valid = labels_valid.float()\n",
    "    with torch.no_grad():\n",
    "      preds_valid = model(inputs_valid)\n",
    "      loss_valid = loss_func(preds_valid,labels_valid.unsqueeze(1))\n",
    "      valid_loss +=loss_valid.item()\n",
    "  print(\"Average valid loss: {}\".format(valid_loss/len(valid_loader)))\n",
    "  if valid_loss/len(valid_loader)<best_loss:\n",
    "    best_loss = valid_loss/len(valid_loader)\n",
    "    torch.save({\n",
    "        'model_state_dict': model.state_dict(),  # Lưu trạng thái model\n",
    "        'x_train_min': x_train_min,              # Lưu giá trị min\n",
    "        'x_train_max': x_train_max,              # Lưu giá trị max\n",
    "        'best_loss': best_loss                   # Lưu loss tốt nhất (tùy chọn)\n",
    "    }, 'best_model.pth')\n",
    "    print(f'Model saved with loss: {best_loss}')\n",
    "  wandb.log({\"Average valid loss\": valid_loss/len(valid_loader),\"Epoch\":epoch+1})"
   ],
   "metadata": {
    "colab": {
     "base_uri": "https://localhost:8080/"
    },
    "collapsed": true,
    "id": "dQgX19Av1AG3",
    "outputId": "03fb8093-78e6-4657-ac07-36fdd1f9d7b6"
   },
   "execution_count": 115,
   "outputs": [
    {
     "output_type": "stream",
     "name": "stdout",
     "text": [
      "Epoch: 1\n",
      "----------------------\n",
      "Train loss: 1486.1530013958197\n",
      "Average valid loss: 1329.0764846801758\n",
      "Model saved with loss: 1329.0764846801758\n",
      "Epoch: 2\n",
      "----------------------\n",
      "Train loss: 1045.2579535838822\n",
      "Average valid loss: 851.1345151265463\n",
      "Model saved with loss: 851.1345151265463\n",
      "Epoch: 3\n",
      "----------------------\n",
      "Train loss: 619.464945129075\n",
      "Average valid loss: 492.5698808034261\n",
      "Model saved with loss: 492.5698808034261\n",
      "Epoch: 4\n",
      "----------------------\n",
      "Train loss: 373.4822831877863\n",
      "Average valid loss: 334.2375024159749\n",
      "Model saved with loss: 334.2375024159749\n",
      "Epoch: 5\n",
      "----------------------\n",
      "Train loss: 290.5876700116702\n",
      "Average valid loss: 294.1066910425822\n",
      "Model saved with loss: 294.1066910425822\n",
      "Epoch: 6\n",
      "----------------------\n",
      "Train loss: 265.02843303580556\n",
      "Average valid loss: 278.3429307937622\n",
      "Model saved with loss: 278.3429307937622\n",
      "Epoch: 7\n",
      "----------------------\n",
      "Train loss: 260.236406416169\n",
      "Average valid loss: 284.7956797281901\n",
      "Epoch: 8\n",
      "----------------------\n",
      "Train loss: 252.8869140784778\n",
      "Average valid loss: 280.2703739802043\n",
      "Epoch: 9\n",
      "----------------------\n",
      "Train loss: 251.94448736700087\n",
      "Average valid loss: 275.0280179977417\n",
      "Model saved with loss: 275.0280179977417\n",
      "Epoch: 10\n",
      "----------------------\n",
      "Train loss: 251.36992393613485\n",
      "Average valid loss: 271.71300951639813\n",
      "Model saved with loss: 271.71300951639813\n",
      "Epoch: 11\n",
      "----------------------\n",
      "Train loss: 252.27849482990683\n",
      "Average valid loss: 272.4516197840373\n",
      "Epoch: 12\n",
      "----------------------\n",
      "Train loss: 247.74247577926874\n",
      "Average valid loss: 268.87411816914874\n",
      "Model saved with loss: 268.87411816914874\n",
      "Epoch: 13\n",
      "----------------------\n",
      "Train loss: 247.04592611902046\n",
      "Average valid loss: 273.572735786438\n",
      "Epoch: 14\n",
      "----------------------\n",
      "Train loss: 244.70588819893243\n",
      "Average valid loss: 274.16305446624756\n",
      "Epoch: 15\n",
      "----------------------\n",
      "Train loss: 245.59109001758836\n",
      "Average valid loss: 270.78021399180096\n",
      "Epoch: 16\n",
      "----------------------\n",
      "Train loss: 244.7433212839496\n",
      "Average valid loss: 263.91749636332196\n",
      "Model saved with loss: 263.91749636332196\n",
      "Epoch: 17\n",
      "----------------------\n",
      "Train loss: 241.6445677592492\n",
      "Average valid loss: 269.5833492279053\n",
      "Epoch: 18\n",
      "----------------------\n",
      "Train loss: 242.25195484261238\n",
      "Average valid loss: 265.76954555511475\n",
      "Epoch: 19\n",
      "----------------------\n",
      "Train loss: 241.79381677118272\n",
      "Average valid loss: 266.7546304066976\n",
      "Epoch: 20\n",
      "----------------------\n",
      "Train loss: 239.4003143310547\n",
      "Average valid loss: 261.4055684407552\n",
      "Model saved with loss: 261.4055684407552\n",
      "Epoch: 21\n",
      "----------------------\n",
      "Train loss: 238.55134850147508\n",
      "Average valid loss: 267.8496557871501\n",
      "Epoch: 22\n",
      "----------------------\n",
      "Train loss: 236.0669272457742\n",
      "Average valid loss: 260.78500239054364\n",
      "Model saved with loss: 260.78500239054364\n",
      "Epoch: 23\n",
      "----------------------\n",
      "Train loss: 242.0096494265252\n",
      "Average valid loss: 264.6615215937297\n",
      "Epoch: 24\n",
      "----------------------\n",
      "Train loss: 238.58109714847583\n",
      "Average valid loss: 259.0979061126709\n",
      "Model saved with loss: 259.0979061126709\n",
      "Epoch: 25\n",
      "----------------------\n",
      "Train loss: 233.36573392059165\n",
      "Average valid loss: 260.5370162328084\n",
      "Epoch: 26\n",
      "----------------------\n",
      "Train loss: 232.48144782900187\n",
      "Average valid loss: 256.8659922281901\n",
      "Model saved with loss: 256.8659922281901\n",
      "Epoch: 27\n",
      "----------------------\n",
      "Train loss: 232.79088245012375\n",
      "Average valid loss: 264.27698707580566\n",
      "Epoch: 28\n",
      "----------------------\n",
      "Train loss: 233.5922524417258\n",
      "Average valid loss: 260.5175126393636\n",
      "Epoch: 29\n",
      "----------------------\n",
      "Train loss: 229.24828094961757\n",
      "Average valid loss: 258.84621238708496\n",
      "Epoch: 30\n",
      "----------------------\n",
      "Train loss: 232.31321121135932\n",
      "Average valid loss: 258.6178865432739\n",
      "Epoch: 31\n",
      "----------------------\n",
      "Train loss: 230.80941237204985\n",
      "Average valid loss: 255.49796390533447\n",
      "Model saved with loss: 255.49796390533447\n",
      "Epoch: 32\n",
      "----------------------\n",
      "Train loss: 229.38297806984468\n",
      "Average valid loss: 256.9851191838582\n",
      "Epoch: 33\n",
      "----------------------\n",
      "Train loss: 226.2347083366354\n",
      "Average valid loss: 262.7355324427287\n",
      "Epoch: 34\n",
      "----------------------\n",
      "Train loss: 228.89904741217327\n",
      "Average valid loss: 257.3755407333374\n",
      "Epoch: 35\n",
      "----------------------\n",
      "Train loss: 226.30316637448615\n",
      "Average valid loss: 258.3512487411499\n",
      "Epoch: 36\n",
      "----------------------\n",
      "Train loss: 227.71191306388815\n",
      "Average valid loss: 258.4323247273763\n",
      "Epoch: 37\n",
      "----------------------\n",
      "Train loss: 225.56422208616246\n",
      "Average valid loss: 258.6983521779378\n",
      "Epoch: 38\n",
      "----------------------\n",
      "Train loss: 225.67708140268377\n",
      "Average valid loss: 251.5108757019043\n",
      "Model saved with loss: 251.5108757019043\n",
      "Epoch: 39\n",
      "----------------------\n",
      "Train loss: 225.81225454120735\n",
      "Average valid loss: 243.42663383483887\n",
      "Model saved with loss: 243.42663383483887\n",
      "Epoch: 40\n",
      "----------------------\n",
      "Train loss: 230.530684186526\n",
      "Average valid loss: 252.09847036997476\n",
      "Epoch: 41\n",
      "----------------------\n",
      "Train loss: 226.022697408786\n",
      "Average valid loss: 249.4770943323771\n",
      "Epoch: 42\n",
      "----------------------\n",
      "Train loss: 222.24132829436456\n",
      "Average valid loss: 254.29032452901205\n",
      "Epoch: 43\n",
      "----------------------\n",
      "Train loss: 227.35355904464322\n",
      "Average valid loss: 246.44287204742432\n",
      "Epoch: 44\n",
      "----------------------\n",
      "Train loss: 224.10425979055034\n",
      "Average valid loss: 248.05353673299155\n",
      "Epoch: 45\n",
      "----------------------\n",
      "Train loss: 226.16770224046957\n",
      "Average valid loss: 251.88505204518637\n",
      "Epoch: 46\n",
      "----------------------\n",
      "Train loss: 222.01955805274204\n",
      "Average valid loss: 244.53370253245035\n",
      "Epoch: 47\n",
      "----------------------\n",
      "Train loss: 222.81125712769193\n",
      "Average valid loss: 254.39760780334473\n",
      "Epoch: 48\n",
      "----------------------\n",
      "Train loss: 224.3969579167391\n",
      "Average valid loss: 247.58820819854736\n",
      "Epoch: 49\n",
      "----------------------\n",
      "Train loss: 221.92398414811538\n",
      "Average valid loss: 256.5883836746216\n",
      "Epoch: 50\n",
      "----------------------\n",
      "Train loss: 221.59112968245103\n",
      "Average valid loss: 258.6672643025716\n",
      "Epoch: 51\n",
      "----------------------\n",
      "Train loss: 217.65183625545802\n",
      "Average valid loss: 247.73165225982666\n",
      "Epoch: 52\n",
      "----------------------\n",
      "Train loss: 218.46686054649155\n",
      "Average valid loss: 252.46844641367593\n",
      "Epoch: 53\n",
      "----------------------\n",
      "Train loss: 217.39935458517823\n",
      "Average valid loss: 247.8902072906494\n",
      "Epoch: 54\n",
      "----------------------\n",
      "Train loss: 220.55900685574997\n",
      "Average valid loss: 248.68194993336996\n",
      "Epoch: 55\n",
      "----------------------\n",
      "Train loss: 217.85019464143284\n",
      "Average valid loss: 246.47069581349692\n",
      "Epoch: 56\n",
      "----------------------\n",
      "Train loss: 215.41280776418316\n",
      "Average valid loss: 248.1683570543925\n",
      "Epoch: 57\n",
      "----------------------\n",
      "Train loss: 214.68310215335865\n",
      "Average valid loss: 252.05927658081055\n",
      "Epoch: 58\n",
      "----------------------\n",
      "Train loss: 216.57073427370082\n",
      "Average valid loss: 251.76566314697266\n",
      "Epoch: 59\n",
      "----------------------\n",
      "Train loss: 218.09504056601\n",
      "Average valid loss: 243.23522726694742\n",
      "Model saved with loss: 243.23522726694742\n",
      "Epoch: 60\n",
      "----------------------\n",
      "Train loss: 215.01094766187418\n",
      "Average valid loss: 244.77016735076904\n",
      "Epoch: 61\n",
      "----------------------\n",
      "Train loss: 212.9572004547918\n",
      "Average valid loss: 241.13764413197836\n",
      "Model saved with loss: 241.13764413197836\n",
      "Epoch: 62\n",
      "----------------------\n",
      "Train loss: 215.6598599019475\n",
      "Average valid loss: 251.4593604405721\n",
      "Epoch: 63\n",
      "----------------------\n",
      "Train loss: 218.36244792838372\n",
      "Average valid loss: 244.21848169962564\n",
      "Epoch: 64\n",
      "----------------------\n",
      "Train loss: 214.4970331641392\n",
      "Average valid loss: 243.01661332448325\n",
      "Epoch: 65\n",
      "----------------------\n",
      "Train loss: 210.35881078430495\n",
      "Average valid loss: 244.97172673543295\n",
      "Epoch: 66\n",
      "----------------------\n",
      "Train loss: 215.73777411495828\n",
      "Average valid loss: 243.36810557047525\n",
      "Epoch: 67\n",
      "----------------------\n",
      "Train loss: 216.29020758823575\n",
      "Average valid loss: 248.71728722254434\n",
      "Epoch: 68\n",
      "----------------------\n",
      "Train loss: 214.5471723067199\n",
      "Average valid loss: 246.9270782470703\n",
      "Epoch: 69\n",
      "----------------------\n",
      "Train loss: 212.71796105669432\n",
      "Average valid loss: 250.97272713979086\n",
      "Epoch: 70\n",
      "----------------------\n",
      "Train loss: 212.3677616219246\n",
      "Average valid loss: 244.06388775507608\n",
      "Epoch: 71\n",
      "----------------------\n",
      "Train loss: 216.5640586333749\n",
      "Average valid loss: 252.08686049779257\n",
      "Epoch: 72\n",
      "----------------------\n",
      "Train loss: 210.35566811286967\n",
      "Average valid loss: 244.81718571980795\n",
      "Epoch: 73\n",
      "----------------------\n",
      "Train loss: 209.2835670591025\n",
      "Average valid loss: 241.96050548553467\n",
      "Epoch: 74\n",
      "----------------------\n",
      "Train loss: 208.32179771543173\n",
      "Average valid loss: 248.57247575124106\n",
      "Epoch: 75\n",
      "----------------------\n",
      "Train loss: 207.64114280021627\n",
      "Average valid loss: 247.12367630004883\n",
      "Epoch: 76\n",
      "----------------------\n",
      "Train loss: 212.10549922763366\n",
      "Average valid loss: 249.14614152908325\n",
      "Epoch: 77\n",
      "----------------------\n",
      "Train loss: 210.71464838157775\n",
      "Average valid loss: 247.8585352897644\n",
      "Epoch: 78\n",
      "----------------------\n",
      "Train loss: 210.1686396174406\n",
      "Average valid loss: 240.87209367752075\n",
      "Model saved with loss: 240.87209367752075\n",
      "Epoch: 79\n",
      "----------------------\n",
      "Train loss: 212.335409274276\n",
      "Average valid loss: 245.36745611826578\n",
      "Epoch: 80\n",
      "----------------------\n",
      "Train loss: 206.21865057820426\n",
      "Average valid loss: 241.58322429656982\n",
      "Epoch: 81\n",
      "----------------------\n",
      "Train loss: 207.8560963176308\n",
      "Average valid loss: 238.2294503847758\n",
      "Model saved with loss: 238.2294503847758\n",
      "Epoch: 82\n",
      "----------------------\n",
      "Train loss: 204.81502672764643\n",
      "Average valid loss: 244.09523900349936\n",
      "Epoch: 83\n",
      "----------------------\n",
      "Train loss: 215.21781953342298\n",
      "Average valid loss: 245.32539749145508\n",
      "Epoch: 84\n",
      "----------------------\n",
      "Train loss: 211.37923171757404\n",
      "Average valid loss: 246.73519849777222\n",
      "Epoch: 85\n",
      "----------------------\n",
      "Train loss: 203.24200347580836\n",
      "Average valid loss: 239.50382312138876\n",
      "Epoch: 86\n",
      "----------------------\n",
      "Train loss: 210.95963243414593\n",
      "Average valid loss: 241.5770591100057\n",
      "Epoch: 87\n",
      "----------------------\n",
      "Train loss: 207.77702327548522\n",
      "Average valid loss: 239.09933789571127\n",
      "Epoch: 88\n",
      "----------------------\n",
      "Train loss: 204.82264066366625\n",
      "Average valid loss: 254.4675579071045\n",
      "Epoch: 89\n",
      "----------------------\n",
      "Train loss: 206.0909299201366\n",
      "Average valid loss: 244.9137660662333\n",
      "Epoch: 90\n",
      "----------------------\n",
      "Train loss: 202.25986440768418\n",
      "Average valid loss: 241.6667391459147\n",
      "Epoch: 91\n",
      "----------------------\n",
      "Train loss: 209.89135162992628\n",
      "Average valid loss: 245.22545591990152\n",
      "Epoch: 92\n",
      "----------------------\n",
      "Train loss: 210.62676830191887\n",
      "Average valid loss: 249.82362016042075\n",
      "Epoch: 93\n",
      "----------------------\n",
      "Train loss: 205.35760298324504\n",
      "Average valid loss: 240.55200338363647\n",
      "Epoch: 94\n",
      "----------------------\n",
      "Train loss: 206.7921773700814\n",
      "Average valid loss: 249.3288869857788\n",
      "Epoch: 95\n",
      "----------------------\n",
      "Train loss: 203.3214545924002\n",
      "Average valid loss: 243.1751602490743\n",
      "Epoch: 96\n",
      "----------------------\n",
      "Train loss: 206.0295850743798\n",
      "Average valid loss: 245.1909769376119\n",
      "Epoch: 97\n",
      "----------------------\n",
      "Train loss: 204.03252594633253\n",
      "Average valid loss: 234.34222157796225\n",
      "Model saved with loss: 234.34222157796225\n",
      "Epoch: 98\n",
      "----------------------\n",
      "Train loss: 209.4032157378671\n",
      "Average valid loss: 241.686572710673\n",
      "Epoch: 99\n",
      "----------------------\n",
      "Train loss: 200.89262438070088\n",
      "Average valid loss: 242.51818784077963\n",
      "Epoch: 100\n",
      "----------------------\n",
      "Train loss: 204.35177804038162\n",
      "Average valid loss: 242.74057737986246\n"
     ]
    }
   ]
  },
  {
   "cell_type": "code",
   "source": [
    "import torch\n",
    "import torch.nn as nn\n",
    "import numpy as np\n",
    "def r2_score(y_true, y_pred):\n",
    "\n",
    "    y_true_mean = torch.mean(y_true)\n",
    "\n",
    "\n",
    "    ss_res = torch.sum((y_true - y_pred) ** 2)\n",
    "\n",
    "\n",
    "    ss_tot = torch.sum((y_true - y_true_mean) ** 2)\n",
    "\n",
    "\n",
    "    r2 = 1 - (ss_res / ss_tot)\n",
    "    return r2.item()\n",
    "def calculate_r2(valid_loader, model):\n",
    "    model.eval()\n",
    "    y_true = []\n",
    "    y_pred = []\n",
    "\n",
    "    with torch.no_grad():\n",
    "        for inputs, labels in valid_loader:\n",
    "            outputs = model(inputs)\n",
    "            loss = nn.MSELoss()(outputs, labels.unsqueeze(1))\n",
    "            y_true.extend(labels.unsqueeze(1).cpu().numpy())\n",
    "            y_pred.extend(outputs.cpu().numpy())\n",
    "\n",
    "    y_true = torch.tensor(np.array(y_true))\n",
    "    y_pred = torch.tensor(np.array(y_pred))\n",
    "\n",
    "    return r2_score(y_true, y_pred)\n",
    "\n",
    "print(calculate_r2(valid_loader,model))"
   ],
   "metadata": {
    "id": "Cy1ykZHbiSk7",
    "colab": {
     "base_uri": "https://localhost:8080/"
    },
    "collapsed": true,
    "outputId": "1ff1018b-7465-4f93-f3ca-fc5b95fa6fa8"
   },
   "execution_count": 116,
   "outputs": [
    {
     "output_type": "stream",
     "name": "stdout",
     "text": [
      "0.5698099136352539\n"
     ]
    }
   ]
  }
 ]
}
