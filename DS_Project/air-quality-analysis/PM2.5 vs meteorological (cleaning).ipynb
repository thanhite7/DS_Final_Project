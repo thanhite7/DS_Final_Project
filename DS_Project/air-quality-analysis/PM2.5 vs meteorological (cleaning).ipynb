{
 "cells": [
  {
   "metadata": {},
   "cell_type": "markdown",
   "source": ""
  },
  {
   "cell_type": "code",
   "metadata": {
    "ExecuteTime": {
     "end_time": "2024-12-17T15:25:05.464140Z",
     "start_time": "2024-12-17T15:25:05.461280Z"
    }
   },
   "source": [
    "import pandas as pd"
   ],
   "outputs": [],
   "execution_count": 2
  },
  {
   "cell_type": "code",
   "metadata": {
    "ExecuteTime": {
     "end_time": "2024-12-17T15:25:05.525261Z",
     "start_time": "2024-12-17T15:25:05.522486Z"
    }
   },
   "source": [
    "# we will continue to work with 2018, location is Hanoi\n",
    "year = 2018\n",
    "site = 488200 # NOIBAI AIRPORT\n",
    "base_url = f'https://www.ncei.noaa.gov/data/global-hourly/access/{year}/{site}99999.csv'"
   ],
   "outputs": [],
   "execution_count": 3
  },
  {
   "cell_type": "code",
   "metadata": {
    "ExecuteTime": {
     "end_time": "2024-12-17T15:25:49.081155Z",
     "start_time": "2024-12-17T15:25:05.580858Z"
    }
   },
   "source": [
    "df = pd.read_csv(base_url)\n",
    "df.head()"
   ],
   "outputs": [
    {
     "data": {
      "text/plain": [
       "       STATION                 DATE  SOURCE   LATITUDE   LONGITUDE  ELEVATION  \\\n",
       "0  48820099999  2018-01-01T00:00:00       4  21.221192  105.807178      11.88   \n",
       "1  48820099999  2018-01-01T00:30:00       4  21.221192  105.807178      11.88   \n",
       "2  48820099999  2018-01-01T01:00:00       4  21.221192  105.807178      11.88   \n",
       "3  48820099999  2018-01-01T01:30:00       4  21.221192  105.807178      11.88   \n",
       "4  48820099999  2018-01-01T02:00:00       4  21.221192  105.807178      11.88   \n",
       "\n",
       "                       NAME REPORT_TYPE  CALL_SIGN QUALITY_CONTROL  ...  GA4  \\\n",
       "0  NOIBAI INTERNATIONAL, VM       FM-15      99999            V020  ...  NaN   \n",
       "1  NOIBAI INTERNATIONAL, VM       FM-15      99999            V020  ...  NaN   \n",
       "2  NOIBAI INTERNATIONAL, VM       FM-15      99999            V020  ...  NaN   \n",
       "3  NOIBAI INTERNATIONAL, VM       FM-15      99999            V020  ...  NaN   \n",
       "4  NOIBAI INTERNATIONAL, VM       FM-15      99999            V020  ...  NaN   \n",
       "\n",
       "                      GE1                                  GF1  \\\n",
       "0  9,AGL   ,+99999,+99999  99,99,9,07,1,99,9,01067,1,99,9,99,9   \n",
       "1  9,AGL   ,+99999,+99999  99,99,9,07,1,99,9,00975,1,99,9,99,9   \n",
       "2  9,AGL   ,+99999,+99999  99,99,9,07,1,99,9,00975,1,99,9,99,9   \n",
       "3  9,AGL   ,+99999,+99999  99,99,9,07,1,99,9,00975,1,99,9,99,9   \n",
       "4  9,AGL   ,+99999,+99999  99,99,9,04,1,99,9,00762,1,99,9,99,9   \n",
       "\n",
       "               MA1  MW1  MW2  MW3  OC1  \\\n",
       "0  10190,1,99999,9  NaN  NaN  NaN  NaN   \n",
       "1  10190,1,99999,9  NaN  NaN  NaN  NaN   \n",
       "2  10200,1,99999,9  NaN  NaN  NaN  NaN   \n",
       "3  10200,1,99999,9  NaN  NaN  NaN  NaN   \n",
       "4  10200,1,99999,9  NaN  NaN  NaN  NaN   \n",
       "\n",
       "                                                 REM  EQD  \n",
       "0  MET057METAR VVNB 010000Z 08003KT 8000 BKN035 1...  NaN  \n",
       "1  MET057METAR VVNB 010030Z 06003KT 8000 BKN032 1...  NaN  \n",
       "2  MET057METAR VVNB 010100Z 08003KT 7000 BKN032 1...  NaN  \n",
       "3  MET065METAR VVNB 010130Z 06004KT 360V080 7000 ...  NaN  \n",
       "4  MET064METAR VVNB 010200Z 08006KT 7000 SCT025 B...  NaN  \n",
       "\n",
       "[5 rows x 30 columns]"
      ],
      "text/html": [
       "<div>\n",
       "<style scoped>\n",
       "    .dataframe tbody tr th:only-of-type {\n",
       "        vertical-align: middle;\n",
       "    }\n",
       "\n",
       "    .dataframe tbody tr th {\n",
       "        vertical-align: top;\n",
       "    }\n",
       "\n",
       "    .dataframe thead th {\n",
       "        text-align: right;\n",
       "    }\n",
       "</style>\n",
       "<table border=\"1\" class=\"dataframe\">\n",
       "  <thead>\n",
       "    <tr style=\"text-align: right;\">\n",
       "      <th></th>\n",
       "      <th>STATION</th>\n",
       "      <th>DATE</th>\n",
       "      <th>SOURCE</th>\n",
       "      <th>LATITUDE</th>\n",
       "      <th>LONGITUDE</th>\n",
       "      <th>ELEVATION</th>\n",
       "      <th>NAME</th>\n",
       "      <th>REPORT_TYPE</th>\n",
       "      <th>CALL_SIGN</th>\n",
       "      <th>QUALITY_CONTROL</th>\n",
       "      <th>...</th>\n",
       "      <th>GA4</th>\n",
       "      <th>GE1</th>\n",
       "      <th>GF1</th>\n",
       "      <th>MA1</th>\n",
       "      <th>MW1</th>\n",
       "      <th>MW2</th>\n",
       "      <th>MW3</th>\n",
       "      <th>OC1</th>\n",
       "      <th>REM</th>\n",
       "      <th>EQD</th>\n",
       "    </tr>\n",
       "  </thead>\n",
       "  <tbody>\n",
       "    <tr>\n",
       "      <th>0</th>\n",
       "      <td>48820099999</td>\n",
       "      <td>2018-01-01T00:00:00</td>\n",
       "      <td>4</td>\n",
       "      <td>21.221192</td>\n",
       "      <td>105.807178</td>\n",
       "      <td>11.88</td>\n",
       "      <td>NOIBAI INTERNATIONAL, VM</td>\n",
       "      <td>FM-15</td>\n",
       "      <td>99999</td>\n",
       "      <td>V020</td>\n",
       "      <td>...</td>\n",
       "      <td>NaN</td>\n",
       "      <td>9,AGL   ,+99999,+99999</td>\n",
       "      <td>99,99,9,07,1,99,9,01067,1,99,9,99,9</td>\n",
       "      <td>10190,1,99999,9</td>\n",
       "      <td>NaN</td>\n",
       "      <td>NaN</td>\n",
       "      <td>NaN</td>\n",
       "      <td>NaN</td>\n",
       "      <td>MET057METAR VVNB 010000Z 08003KT 8000 BKN035 1...</td>\n",
       "      <td>NaN</td>\n",
       "    </tr>\n",
       "    <tr>\n",
       "      <th>1</th>\n",
       "      <td>48820099999</td>\n",
       "      <td>2018-01-01T00:30:00</td>\n",
       "      <td>4</td>\n",
       "      <td>21.221192</td>\n",
       "      <td>105.807178</td>\n",
       "      <td>11.88</td>\n",
       "      <td>NOIBAI INTERNATIONAL, VM</td>\n",
       "      <td>FM-15</td>\n",
       "      <td>99999</td>\n",
       "      <td>V020</td>\n",
       "      <td>...</td>\n",
       "      <td>NaN</td>\n",
       "      <td>9,AGL   ,+99999,+99999</td>\n",
       "      <td>99,99,9,07,1,99,9,00975,1,99,9,99,9</td>\n",
       "      <td>10190,1,99999,9</td>\n",
       "      <td>NaN</td>\n",
       "      <td>NaN</td>\n",
       "      <td>NaN</td>\n",
       "      <td>NaN</td>\n",
       "      <td>MET057METAR VVNB 010030Z 06003KT 8000 BKN032 1...</td>\n",
       "      <td>NaN</td>\n",
       "    </tr>\n",
       "    <tr>\n",
       "      <th>2</th>\n",
       "      <td>48820099999</td>\n",
       "      <td>2018-01-01T01:00:00</td>\n",
       "      <td>4</td>\n",
       "      <td>21.221192</td>\n",
       "      <td>105.807178</td>\n",
       "      <td>11.88</td>\n",
       "      <td>NOIBAI INTERNATIONAL, VM</td>\n",
       "      <td>FM-15</td>\n",
       "      <td>99999</td>\n",
       "      <td>V020</td>\n",
       "      <td>...</td>\n",
       "      <td>NaN</td>\n",
       "      <td>9,AGL   ,+99999,+99999</td>\n",
       "      <td>99,99,9,07,1,99,9,00975,1,99,9,99,9</td>\n",
       "      <td>10200,1,99999,9</td>\n",
       "      <td>NaN</td>\n",
       "      <td>NaN</td>\n",
       "      <td>NaN</td>\n",
       "      <td>NaN</td>\n",
       "      <td>MET057METAR VVNB 010100Z 08003KT 7000 BKN032 1...</td>\n",
       "      <td>NaN</td>\n",
       "    </tr>\n",
       "    <tr>\n",
       "      <th>3</th>\n",
       "      <td>48820099999</td>\n",
       "      <td>2018-01-01T01:30:00</td>\n",
       "      <td>4</td>\n",
       "      <td>21.221192</td>\n",
       "      <td>105.807178</td>\n",
       "      <td>11.88</td>\n",
       "      <td>NOIBAI INTERNATIONAL, VM</td>\n",
       "      <td>FM-15</td>\n",
       "      <td>99999</td>\n",
       "      <td>V020</td>\n",
       "      <td>...</td>\n",
       "      <td>NaN</td>\n",
       "      <td>9,AGL   ,+99999,+99999</td>\n",
       "      <td>99,99,9,07,1,99,9,00975,1,99,9,99,9</td>\n",
       "      <td>10200,1,99999,9</td>\n",
       "      <td>NaN</td>\n",
       "      <td>NaN</td>\n",
       "      <td>NaN</td>\n",
       "      <td>NaN</td>\n",
       "      <td>MET065METAR VVNB 010130Z 06004KT 360V080 7000 ...</td>\n",
       "      <td>NaN</td>\n",
       "    </tr>\n",
       "    <tr>\n",
       "      <th>4</th>\n",
       "      <td>48820099999</td>\n",
       "      <td>2018-01-01T02:00:00</td>\n",
       "      <td>4</td>\n",
       "      <td>21.221192</td>\n",
       "      <td>105.807178</td>\n",
       "      <td>11.88</td>\n",
       "      <td>NOIBAI INTERNATIONAL, VM</td>\n",
       "      <td>FM-15</td>\n",
       "      <td>99999</td>\n",
       "      <td>V020</td>\n",
       "      <td>...</td>\n",
       "      <td>NaN</td>\n",
       "      <td>9,AGL   ,+99999,+99999</td>\n",
       "      <td>99,99,9,04,1,99,9,00762,1,99,9,99,9</td>\n",
       "      <td>10200,1,99999,9</td>\n",
       "      <td>NaN</td>\n",
       "      <td>NaN</td>\n",
       "      <td>NaN</td>\n",
       "      <td>NaN</td>\n",
       "      <td>MET064METAR VVNB 010200Z 08006KT 7000 SCT025 B...</td>\n",
       "      <td>NaN</td>\n",
       "    </tr>\n",
       "  </tbody>\n",
       "</table>\n",
       "<p>5 rows × 30 columns</p>\n",
       "</div>"
      ]
     },
     "execution_count": 4,
     "metadata": {},
     "output_type": "execute_result"
    }
   ],
   "execution_count": 4
  },
  {
   "cell_type": "code",
   "metadata": {
    "ExecuteTime": {
     "end_time": "2024-12-17T15:25:49.223874Z",
     "start_time": "2024-12-17T15:25:49.219337Z"
    }
   },
   "source": [
    "# or value of one row\n",
    "df.iloc[0]"
   ],
   "outputs": [
    {
     "data": {
      "text/plain": [
       "STATION                                                  48820099999\n",
       "DATE                                             2018-01-01T00:00:00\n",
       "SOURCE                                                             4\n",
       "LATITUDE                                                   21.221192\n",
       "LONGITUDE                                                 105.807178\n",
       "ELEVATION                                                      11.88\n",
       "NAME                                        NOIBAI INTERNATIONAL, VM\n",
       "REPORT_TYPE                                                    FM-15\n",
       "CALL_SIGN                                                      99999\n",
       "QUALITY_CONTROL                                                 V020\n",
       "WND                                                   080,1,N,0015,1\n",
       "CIG                                                      01067,1,C,N\n",
       "VIS                                                     008000,1,9,9\n",
       "TMP                                                          +0160,1\n",
       "DEW                                                          +0120,1\n",
       "SLP                                                          99999,9\n",
       "ED1                                                              NaN\n",
       "GA1                                               07,1,+01067,1,99,9\n",
       "GA2                                                              NaN\n",
       "GA3                                                              NaN\n",
       "GA4                                                              NaN\n",
       "GE1                                           9,AGL   ,+99999,+99999\n",
       "GF1                              99,99,9,07,1,99,9,01067,1,99,9,99,9\n",
       "MA1                                                  10190,1,99999,9\n",
       "MW1                                                              NaN\n",
       "MW2                                                              NaN\n",
       "MW3                                                              NaN\n",
       "OC1                                                              NaN\n",
       "REM                MET057METAR VVNB 010000Z 08003KT 8000 BKN035 1...\n",
       "EQD                                                              NaN\n",
       "Name: 0, dtype: object"
      ]
     },
     "execution_count": 5,
     "metadata": {},
     "output_type": "execute_result"
    }
   ],
   "execution_count": 5
  },
  {
   "cell_type": "code",
   "metadata": {
    "ExecuteTime": {
     "end_time": "2024-12-17T15:25:49.438938Z",
     "start_time": "2024-12-17T15:25:49.279589Z"
    }
   },
   "source": [
    "# let save the raw file, so if you want to work on it directly,\n",
    "df.to_csv('data/noibai_noaa_isd_2018.csv', index=False)"
   ],
   "outputs": [],
   "execution_count": 6
  },
  {
   "cell_type": "code",
   "metadata": {
    "ExecuteTime": {
     "end_time": "2024-12-17T15:25:49.596892Z",
     "start_time": "2024-12-17T15:25:49.513843Z"
    }
   },
   "source": [
    "# and read again, this time from local file\n",
    "df = pd.read_csv('data/noibai_noaa_isd_2018.csv')"
   ],
   "outputs": [],
   "execution_count": 7
  },
  {
   "cell_type": "code",
   "metadata": {
    "ExecuteTime": {
     "end_time": "2024-12-17T15:25:49.651790Z",
     "start_time": "2024-12-17T15:25:49.645427Z"
    }
   },
   "source": [
    "# a few exploratory functions\n",
    "df.columns"
   ],
   "outputs": [
    {
     "data": {
      "text/plain": [
       "Index(['STATION', 'DATE', 'SOURCE', 'LATITUDE', 'LONGITUDE', 'ELEVATION',\n",
       "       'NAME', 'REPORT_TYPE', 'CALL_SIGN', 'QUALITY_CONTROL', 'WND', 'CIG',\n",
       "       'VIS', 'TMP', 'DEW', 'SLP', 'ED1', 'GA1', 'GA2', 'GA3', 'GA4', 'GE1',\n",
       "       'GF1', 'MA1', 'MW1', 'MW2', 'MW3', 'OC1', 'REM', 'EQD'],\n",
       "      dtype='object')"
      ]
     },
     "execution_count": 8,
     "metadata": {},
     "output_type": "execute_result"
    }
   ],
   "execution_count": 8
  },
  {
   "cell_type": "code",
   "metadata": {
    "ExecuteTime": {
     "end_time": "2024-12-17T15:25:49.864268Z",
     "start_time": "2024-12-17T15:25:49.860927Z"
    }
   },
   "source": [
    "df.shape"
   ],
   "outputs": [
    {
     "data": {
      "text/plain": [
       "(17291, 30)"
      ]
     },
     "execution_count": 9,
     "metadata": {},
     "output_type": "execute_result"
    }
   ],
   "execution_count": 9
  },
  {
   "cell_type": "code",
   "metadata": {
    "ExecuteTime": {
     "end_time": "2024-12-17T15:25:49.980790Z",
     "start_time": "2024-12-17T15:25:49.964085Z"
    }
   },
   "source": [
    "df.describe()"
   ],
   "outputs": [
    {
     "data": {
      "text/plain": [
       "            STATION   SOURCE      LATITUDE     LONGITUDE     ELEVATION  \\\n",
       "count  1.729100e+04  17291.0  1.729100e+04  1.729100e+04  1.729100e+04   \n",
       "mean   4.882010e+10      4.0  2.122119e+01  1.058072e+02  1.188000e+01   \n",
       "std    0.000000e+00      0.0  3.552816e-15  1.421127e-14  3.552816e-15   \n",
       "min    4.882010e+10      4.0  2.122119e+01  1.058072e+02  1.188000e+01   \n",
       "25%    4.882010e+10      4.0  2.122119e+01  1.058072e+02  1.188000e+01   \n",
       "50%    4.882010e+10      4.0  2.122119e+01  1.058072e+02  1.188000e+01   \n",
       "75%    4.882010e+10      4.0  2.122119e+01  1.058072e+02  1.188000e+01   \n",
       "max    4.882010e+10      4.0  2.122119e+01  1.058072e+02  1.188000e+01   \n",
       "\n",
       "       CALL_SIGN  \n",
       "count    17291.0  \n",
       "mean     99999.0  \n",
       "std          0.0  \n",
       "min      99999.0  \n",
       "25%      99999.0  \n",
       "50%      99999.0  \n",
       "75%      99999.0  \n",
       "max      99999.0  "
      ],
      "text/html": [
       "<div>\n",
       "<style scoped>\n",
       "    .dataframe tbody tr th:only-of-type {\n",
       "        vertical-align: middle;\n",
       "    }\n",
       "\n",
       "    .dataframe tbody tr th {\n",
       "        vertical-align: top;\n",
       "    }\n",
       "\n",
       "    .dataframe thead th {\n",
       "        text-align: right;\n",
       "    }\n",
       "</style>\n",
       "<table border=\"1\" class=\"dataframe\">\n",
       "  <thead>\n",
       "    <tr style=\"text-align: right;\">\n",
       "      <th></th>\n",
       "      <th>STATION</th>\n",
       "      <th>SOURCE</th>\n",
       "      <th>LATITUDE</th>\n",
       "      <th>LONGITUDE</th>\n",
       "      <th>ELEVATION</th>\n",
       "      <th>CALL_SIGN</th>\n",
       "    </tr>\n",
       "  </thead>\n",
       "  <tbody>\n",
       "    <tr>\n",
       "      <th>count</th>\n",
       "      <td>1.729100e+04</td>\n",
       "      <td>17291.0</td>\n",
       "      <td>1.729100e+04</td>\n",
       "      <td>1.729100e+04</td>\n",
       "      <td>1.729100e+04</td>\n",
       "      <td>17291.0</td>\n",
       "    </tr>\n",
       "    <tr>\n",
       "      <th>mean</th>\n",
       "      <td>4.882010e+10</td>\n",
       "      <td>4.0</td>\n",
       "      <td>2.122119e+01</td>\n",
       "      <td>1.058072e+02</td>\n",
       "      <td>1.188000e+01</td>\n",
       "      <td>99999.0</td>\n",
       "    </tr>\n",
       "    <tr>\n",
       "      <th>std</th>\n",
       "      <td>0.000000e+00</td>\n",
       "      <td>0.0</td>\n",
       "      <td>3.552816e-15</td>\n",
       "      <td>1.421127e-14</td>\n",
       "      <td>3.552816e-15</td>\n",
       "      <td>0.0</td>\n",
       "    </tr>\n",
       "    <tr>\n",
       "      <th>min</th>\n",
       "      <td>4.882010e+10</td>\n",
       "      <td>4.0</td>\n",
       "      <td>2.122119e+01</td>\n",
       "      <td>1.058072e+02</td>\n",
       "      <td>1.188000e+01</td>\n",
       "      <td>99999.0</td>\n",
       "    </tr>\n",
       "    <tr>\n",
       "      <th>25%</th>\n",
       "      <td>4.882010e+10</td>\n",
       "      <td>4.0</td>\n",
       "      <td>2.122119e+01</td>\n",
       "      <td>1.058072e+02</td>\n",
       "      <td>1.188000e+01</td>\n",
       "      <td>99999.0</td>\n",
       "    </tr>\n",
       "    <tr>\n",
       "      <th>50%</th>\n",
       "      <td>4.882010e+10</td>\n",
       "      <td>4.0</td>\n",
       "      <td>2.122119e+01</td>\n",
       "      <td>1.058072e+02</td>\n",
       "      <td>1.188000e+01</td>\n",
       "      <td>99999.0</td>\n",
       "    </tr>\n",
       "    <tr>\n",
       "      <th>75%</th>\n",
       "      <td>4.882010e+10</td>\n",
       "      <td>4.0</td>\n",
       "      <td>2.122119e+01</td>\n",
       "      <td>1.058072e+02</td>\n",
       "      <td>1.188000e+01</td>\n",
       "      <td>99999.0</td>\n",
       "    </tr>\n",
       "    <tr>\n",
       "      <th>max</th>\n",
       "      <td>4.882010e+10</td>\n",
       "      <td>4.0</td>\n",
       "      <td>2.122119e+01</td>\n",
       "      <td>1.058072e+02</td>\n",
       "      <td>1.188000e+01</td>\n",
       "      <td>99999.0</td>\n",
       "    </tr>\n",
       "  </tbody>\n",
       "</table>\n",
       "</div>"
      ]
     },
     "execution_count": 10,
     "metadata": {},
     "output_type": "execute_result"
    }
   ],
   "execution_count": 10
  },
  {
   "cell_type": "code",
   "metadata": {
    "ExecuteTime": {
     "end_time": "2024-12-17T15:25:50.112213Z",
     "start_time": "2024-12-17T15:25:50.108714Z"
    }
   },
   "source": [
    "# now will want to create a list of columns that contain Wind, Temperature and relevant data\n",
    "cols = ['DATE', 'WND', 'CIG', 'VIS', 'TMP', 'DEW', 'GA1']"
   ],
   "outputs": [],
   "execution_count": 11
  },
  {
   "cell_type": "code",
   "metadata": {
    "ExecuteTime": {
     "end_time": "2024-12-17T15:25:50.169762Z",
     "start_time": "2024-12-17T15:25:50.163433Z"
    }
   },
   "source": [
    "# and select those columns, reassign to the df name\n",
    "df = df[cols]"
   ],
   "outputs": [],
   "execution_count": 12
  },
  {
   "cell_type": "code",
   "metadata": {
    "ExecuteTime": {
     "end_time": "2024-12-17T15:25:50.339247Z",
     "start_time": "2024-12-17T15:25:50.330751Z"
    }
   },
   "source": [
    "df.info()"
   ],
   "outputs": [
    {
     "name": "stdout",
     "output_type": "stream",
     "text": [
      "<class 'pandas.core.frame.DataFrame'>\n",
      "RangeIndex: 17291 entries, 0 to 17290\n",
      "Data columns (total 7 columns):\n",
      " #   Column  Non-Null Count  Dtype \n",
      "---  ------  --------------  ----- \n",
      " 0   DATE    17291 non-null  object\n",
      " 1   WND     17291 non-null  object\n",
      " 2   CIG     17291 non-null  object\n",
      " 3   VIS     17291 non-null  object\n",
      " 4   TMP     17291 non-null  object\n",
      " 5   DEW     17291 non-null  object\n",
      " 6   GA1     12155 non-null  object\n",
      "dtypes: object(7)\n",
      "memory usage: 945.7+ KB\n"
     ]
    }
   ],
   "execution_count": 13
  },
  {
   "cell_type": "code",
   "metadata": {
    "ExecuteTime": {
     "end_time": "2024-12-17T15:25:50.451797Z",
     "start_time": "2024-12-17T15:25:50.446483Z"
    }
   },
   "source": [
    "df.head(3)"
   ],
   "outputs": [
    {
     "data": {
      "text/plain": [
       "                  DATE             WND          CIG           VIS      TMP  \\\n",
       "0  2018-01-01T00:00:00  080,1,N,0015,1  01067,1,C,N  008000,1,9,9  +0160,1   \n",
       "1  2018-01-01T00:30:00  060,1,N,0015,1  00975,1,C,N  008000,1,9,9  +0160,1   \n",
       "2  2018-01-01T01:00:00  080,1,N,0015,1  00975,1,C,N  007000,1,9,9  +0160,1   \n",
       "\n",
       "       DEW                 GA1  \n",
       "0  +0120,1  07,1,+01067,1,99,9  \n",
       "1  +0120,1  07,1,+00975,1,99,9  \n",
       "2  +0120,1  07,1,+00975,1,99,9  "
      ],
      "text/html": [
       "<div>\n",
       "<style scoped>\n",
       "    .dataframe tbody tr th:only-of-type {\n",
       "        vertical-align: middle;\n",
       "    }\n",
       "\n",
       "    .dataframe tbody tr th {\n",
       "        vertical-align: top;\n",
       "    }\n",
       "\n",
       "    .dataframe thead th {\n",
       "        text-align: right;\n",
       "    }\n",
       "</style>\n",
       "<table border=\"1\" class=\"dataframe\">\n",
       "  <thead>\n",
       "    <tr style=\"text-align: right;\">\n",
       "      <th></th>\n",
       "      <th>DATE</th>\n",
       "      <th>WND</th>\n",
       "      <th>CIG</th>\n",
       "      <th>VIS</th>\n",
       "      <th>TMP</th>\n",
       "      <th>DEW</th>\n",
       "      <th>GA1</th>\n",
       "    </tr>\n",
       "  </thead>\n",
       "  <tbody>\n",
       "    <tr>\n",
       "      <th>0</th>\n",
       "      <td>2018-01-01T00:00:00</td>\n",
       "      <td>080,1,N,0015,1</td>\n",
       "      <td>01067,1,C,N</td>\n",
       "      <td>008000,1,9,9</td>\n",
       "      <td>+0160,1</td>\n",
       "      <td>+0120,1</td>\n",
       "      <td>07,1,+01067,1,99,9</td>\n",
       "    </tr>\n",
       "    <tr>\n",
       "      <th>1</th>\n",
       "      <td>2018-01-01T00:30:00</td>\n",
       "      <td>060,1,N,0015,1</td>\n",
       "      <td>00975,1,C,N</td>\n",
       "      <td>008000,1,9,9</td>\n",
       "      <td>+0160,1</td>\n",
       "      <td>+0120,1</td>\n",
       "      <td>07,1,+00975,1,99,9</td>\n",
       "    </tr>\n",
       "    <tr>\n",
       "      <th>2</th>\n",
       "      <td>2018-01-01T01:00:00</td>\n",
       "      <td>080,1,N,0015,1</td>\n",
       "      <td>00975,1,C,N</td>\n",
       "      <td>007000,1,9,9</td>\n",
       "      <td>+0160,1</td>\n",
       "      <td>+0120,1</td>\n",
       "      <td>07,1,+00975,1,99,9</td>\n",
       "    </tr>\n",
       "  </tbody>\n",
       "</table>\n",
       "</div>"
      ]
     },
     "execution_count": 14,
     "metadata": {},
     "output_type": "execute_result"
    }
   ],
   "execution_count": 14
  },
  {
   "cell_type": "code",
   "metadata": {
    "ExecuteTime": {
     "end_time": "2024-12-17T15:25:50.566417Z",
     "start_time": "2024-12-17T15:25:50.537708Z"
    }
   },
   "source": [
    "# again a smaller file, just in case you need it later\n",
    "df.to_csv('data/reduced_noibai_noaa_isd_2018_2.csv', index=False)"
   ],
   "outputs": [],
   "execution_count": 15
  },
  {
   "cell_type": "markdown",
   "metadata": {},
   "source": [
    "**Wait, each column contains other types of data rather numeric values!!**\n",
    "\n",
    "- yes, they are formatted with a QA/QC inplace\n",
    "- let take sometime to read through a description for one parameter, in this case `TMP` or air temperature"
   ]
  },
  {
   "cell_type": "markdown",
   "metadata": {},
   "source": [
    "**Time to read some manual**, here is what I found for **TMP** term, more on [ncei.noaa.gov]  (https://www.ncei.noaa.gov/data/global-hourly/doc/isd-format-document.pdf) \n",
    "\n",
    "**POS: 88-92**\n",
    "    **AIR-TEMPERATURE-OBSERVATION air temperature**  \n",
    "    \n",
    "     The temperature of the air.  \n",
    "     MIN: -0932 MAX: +0618 UNITS: Degrees Celsius  \n",
    "     SCALING FACTOR: 10  \n",
    "     DOM: A general domain comprised of the numeric characters (0-9), a plus sign (+), and a minus sign (-). +9999 = Missing.  \n",
    "\n",
    "**POS: 93-93**\n",
    "    **AIR-TEMPERATURE-OBSERVATION air temperature quality code**  \n",
    "    \n",
    "     The code that denotes a quality status of an AIR-TEMPERATURE-OBSERVATION.  \n",
    "     DOM: A specific domain comprised of the characters in the ASCII character set.  \n",
    "     \n",
    "     0 = Passed gross limits check  \n",
    "     1 = Passed all quality control checks  \n",
    "     2 = Suspect  \n",
    "     3 = Erroneous  \n",
    "     4 = Passed gross limits check, data originate from an NCEI data source  \n",
    "     5 = Passed all quality control checks, data originate from an NCEI data source  \n",
    "     6 = Suspect, data originate from an NCEI data source  \n",
    "     7 = Erroneous, data originate from an NCEI data source  \n",
    "     9 = Passed gross limits check if element is present  \n",
    "     A = Data value flagged as suspect, but accepted as a good value  \n",
    "     C = Temperature and dew point received from Automated Weather Observing System (AWOS) are reported in  \n",
    "        whole degrees Celsius. Automated QC flags these values, but they are accepted as valid.  \n",
    "     I = Data value not originally in data, but inserted by validator  \n",
    "     M = Manual changes made to value based on information provided by NWS or FAA  \n",
    "     P = Data value not originally flagged as suspect, but replaced by validator  \n",
    "     R = Data value replaced with value computed by NCEI software  \n",
    "     U = Data value replaced with edited value  \n",
    "     \n",
    "*so if the value code is **3**, or **7**, the data should not be used*, let see what the distribution of the quality code on **TMP**"
   ]
  },
  {
   "cell_type": "code",
   "metadata": {
    "ExecuteTime": {
     "end_time": "2024-12-17T15:25:50.814044Z",
     "start_time": "2024-12-17T15:25:50.798836Z"
    }
   },
   "source": [
    "# let work on TMP by first splitting each column by the comma, the option expand=True, as the name implies\n",
    "# expand each field to a columns\n",
    "df['TMP'].str.split(pat=',', expand=True).sample(5)"
   ],
   "outputs": [
    {
     "data": {
      "text/plain": [
       "           0  1\n",
       "10570  +0270  1\n",
       "3046   +0240  1\n",
       "14030  +0280  1\n",
       "3114   +0260  1\n",
       "14981  +0260  1"
      ],
      "text/html": [
       "<div>\n",
       "<style scoped>\n",
       "    .dataframe tbody tr th:only-of-type {\n",
       "        vertical-align: middle;\n",
       "    }\n",
       "\n",
       "    .dataframe tbody tr th {\n",
       "        vertical-align: top;\n",
       "    }\n",
       "\n",
       "    .dataframe thead th {\n",
       "        text-align: right;\n",
       "    }\n",
       "</style>\n",
       "<table border=\"1\" class=\"dataframe\">\n",
       "  <thead>\n",
       "    <tr style=\"text-align: right;\">\n",
       "      <th></th>\n",
       "      <th>0</th>\n",
       "      <th>1</th>\n",
       "    </tr>\n",
       "  </thead>\n",
       "  <tbody>\n",
       "    <tr>\n",
       "      <th>10570</th>\n",
       "      <td>+0270</td>\n",
       "      <td>1</td>\n",
       "    </tr>\n",
       "    <tr>\n",
       "      <th>3046</th>\n",
       "      <td>+0240</td>\n",
       "      <td>1</td>\n",
       "    </tr>\n",
       "    <tr>\n",
       "      <th>14030</th>\n",
       "      <td>+0280</td>\n",
       "      <td>1</td>\n",
       "    </tr>\n",
       "    <tr>\n",
       "      <th>3114</th>\n",
       "      <td>+0260</td>\n",
       "      <td>1</td>\n",
       "    </tr>\n",
       "    <tr>\n",
       "      <th>14981</th>\n",
       "      <td>+0260</td>\n",
       "      <td>1</td>\n",
       "    </tr>\n",
       "  </tbody>\n",
       "</table>\n",
       "</div>"
      ]
     },
     "execution_count": 16,
     "metadata": {},
     "output_type": "execute_result"
    }
   ],
   "execution_count": 16
  },
  {
   "cell_type": "code",
   "metadata": {
    "ExecuteTime": {
     "end_time": "2024-12-17T15:25:50.928116Z",
     "start_time": "2024-12-17T15:25:50.914062Z"
    }
   },
   "source": [
    "df['TMP'].str.split(pat=',', expand=True)[1].value_counts(normalize=True)\n",
    "# for the file I were working on, only a few instance with code 5, so the TMP will be processed as it is"
   ],
   "outputs": [
    {
     "data": {
      "text/plain": [
       "1\n",
       "1    0.999132\n",
       "5    0.000521\n",
       "2    0.000347\n",
       "Name: proportion, dtype: float64"
      ]
     },
     "execution_count": 17,
     "metadata": {},
     "output_type": "execute_result"
    }
   ],
   "execution_count": 17
  },
  {
   "cell_type": "code",
   "metadata": {
    "ExecuteTime": {
     "end_time": "2024-12-17T15:25:51.135832Z",
     "start_time": "2024-12-17T15:25:51.071038Z"
    }
   },
   "source": [
    "# the scaling factor is 10, to take temperature,\n",
    "# 1. take the first element\n",
    "# 2. cast type is int(eger)\n",
    "# 3. deviding to 10\n",
    "df['TMP'].str.split(pat=',', expand=True)[0].astype(int)/10"
   ],
   "outputs": [
    {
     "data": {
      "text/plain": [
       "0        16.0\n",
       "1        16.0\n",
       "2        16.0\n",
       "3        17.0\n",
       "4        17.0\n",
       "         ... \n",
       "17286    11.0\n",
       "17287    11.0\n",
       "17288    11.0\n",
       "17289    11.0\n",
       "17290    11.0\n",
       "Name: 0, Length: 17291, dtype: float64"
      ]
     },
     "execution_count": 18,
     "metadata": {},
     "output_type": "execute_result"
    }
   ],
   "execution_count": 18
  },
  {
   "cell_type": "code",
   "metadata": {
    "ExecuteTime": {
     "end_time": "2024-12-17T15:25:51.309065Z",
     "start_time": "2024-12-17T15:25:51.288423Z"
    }
   },
   "source": [
    "# and assign processed value back to the columns\n",
    "df['TMP'] = df['TMP'].str.split(pat=',', expand=True)[0].astype(int)/10\n",
    "df.head(3)"
   ],
   "outputs": [
    {
     "data": {
      "text/plain": [
       "                  DATE             WND          CIG           VIS   TMP  \\\n",
       "0  2018-01-01T00:00:00  080,1,N,0015,1  01067,1,C,N  008000,1,9,9  16.0   \n",
       "1  2018-01-01T00:30:00  060,1,N,0015,1  00975,1,C,N  008000,1,9,9  16.0   \n",
       "2  2018-01-01T01:00:00  080,1,N,0015,1  00975,1,C,N  007000,1,9,9  16.0   \n",
       "\n",
       "       DEW                 GA1  \n",
       "0  +0120,1  07,1,+01067,1,99,9  \n",
       "1  +0120,1  07,1,+00975,1,99,9  \n",
       "2  +0120,1  07,1,+00975,1,99,9  "
      ],
      "text/html": [
       "<div>\n",
       "<style scoped>\n",
       "    .dataframe tbody tr th:only-of-type {\n",
       "        vertical-align: middle;\n",
       "    }\n",
       "\n",
       "    .dataframe tbody tr th {\n",
       "        vertical-align: top;\n",
       "    }\n",
       "\n",
       "    .dataframe thead th {\n",
       "        text-align: right;\n",
       "    }\n",
       "</style>\n",
       "<table border=\"1\" class=\"dataframe\">\n",
       "  <thead>\n",
       "    <tr style=\"text-align: right;\">\n",
       "      <th></th>\n",
       "      <th>DATE</th>\n",
       "      <th>WND</th>\n",
       "      <th>CIG</th>\n",
       "      <th>VIS</th>\n",
       "      <th>TMP</th>\n",
       "      <th>DEW</th>\n",
       "      <th>GA1</th>\n",
       "    </tr>\n",
       "  </thead>\n",
       "  <tbody>\n",
       "    <tr>\n",
       "      <th>0</th>\n",
       "      <td>2018-01-01T00:00:00</td>\n",
       "      <td>080,1,N,0015,1</td>\n",
       "      <td>01067,1,C,N</td>\n",
       "      <td>008000,1,9,9</td>\n",
       "      <td>16.0</td>\n",
       "      <td>+0120,1</td>\n",
       "      <td>07,1,+01067,1,99,9</td>\n",
       "    </tr>\n",
       "    <tr>\n",
       "      <th>1</th>\n",
       "      <td>2018-01-01T00:30:00</td>\n",
       "      <td>060,1,N,0015,1</td>\n",
       "      <td>00975,1,C,N</td>\n",
       "      <td>008000,1,9,9</td>\n",
       "      <td>16.0</td>\n",
       "      <td>+0120,1</td>\n",
       "      <td>07,1,+00975,1,99,9</td>\n",
       "    </tr>\n",
       "    <tr>\n",
       "      <th>2</th>\n",
       "      <td>2018-01-01T01:00:00</td>\n",
       "      <td>080,1,N,0015,1</td>\n",
       "      <td>00975,1,C,N</td>\n",
       "      <td>007000,1,9,9</td>\n",
       "      <td>16.0</td>\n",
       "      <td>+0120,1</td>\n",
       "      <td>07,1,+00975,1,99,9</td>\n",
       "    </tr>\n",
       "  </tbody>\n",
       "</table>\n",
       "</div>"
      ]
     },
     "execution_count": 19,
     "metadata": {},
     "output_type": "execute_result"
    }
   ],
   "execution_count": 19
  },
  {
   "cell_type": "code",
   "metadata": {
    "ExecuteTime": {
     "end_time": "2024-12-17T15:25:51.451523Z",
     "start_time": "2024-12-17T15:25:51.432247Z"
    }
   },
   "source": [
    "# Dewpoint temperature is processed the same way\n",
    "df['DEW'] = df['DEW'].str.split(pat=',', expand=True)[0].astype(int)/10\n",
    "df.head(3)"
   ],
   "outputs": [
    {
     "data": {
      "text/plain": [
       "                  DATE             WND          CIG           VIS   TMP   DEW  \\\n",
       "0  2018-01-01T00:00:00  080,1,N,0015,1  01067,1,C,N  008000,1,9,9  16.0  12.0   \n",
       "1  2018-01-01T00:30:00  060,1,N,0015,1  00975,1,C,N  008000,1,9,9  16.0  12.0   \n",
       "2  2018-01-01T01:00:00  080,1,N,0015,1  00975,1,C,N  007000,1,9,9  16.0  12.0   \n",
       "\n",
       "                  GA1  \n",
       "0  07,1,+01067,1,99,9  \n",
       "1  07,1,+00975,1,99,9  \n",
       "2  07,1,+00975,1,99,9  "
      ],
      "text/html": [
       "<div>\n",
       "<style scoped>\n",
       "    .dataframe tbody tr th:only-of-type {\n",
       "        vertical-align: middle;\n",
       "    }\n",
       "\n",
       "    .dataframe tbody tr th {\n",
       "        vertical-align: top;\n",
       "    }\n",
       "\n",
       "    .dataframe thead th {\n",
       "        text-align: right;\n",
       "    }\n",
       "</style>\n",
       "<table border=\"1\" class=\"dataframe\">\n",
       "  <thead>\n",
       "    <tr style=\"text-align: right;\">\n",
       "      <th></th>\n",
       "      <th>DATE</th>\n",
       "      <th>WND</th>\n",
       "      <th>CIG</th>\n",
       "      <th>VIS</th>\n",
       "      <th>TMP</th>\n",
       "      <th>DEW</th>\n",
       "      <th>GA1</th>\n",
       "    </tr>\n",
       "  </thead>\n",
       "  <tbody>\n",
       "    <tr>\n",
       "      <th>0</th>\n",
       "      <td>2018-01-01T00:00:00</td>\n",
       "      <td>080,1,N,0015,1</td>\n",
       "      <td>01067,1,C,N</td>\n",
       "      <td>008000,1,9,9</td>\n",
       "      <td>16.0</td>\n",
       "      <td>12.0</td>\n",
       "      <td>07,1,+01067,1,99,9</td>\n",
       "    </tr>\n",
       "    <tr>\n",
       "      <th>1</th>\n",
       "      <td>2018-01-01T00:30:00</td>\n",
       "      <td>060,1,N,0015,1</td>\n",
       "      <td>00975,1,C,N</td>\n",
       "      <td>008000,1,9,9</td>\n",
       "      <td>16.0</td>\n",
       "      <td>12.0</td>\n",
       "      <td>07,1,+00975,1,99,9</td>\n",
       "    </tr>\n",
       "    <tr>\n",
       "      <th>2</th>\n",
       "      <td>2018-01-01T01:00:00</td>\n",
       "      <td>080,1,N,0015,1</td>\n",
       "      <td>00975,1,C,N</td>\n",
       "      <td>007000,1,9,9</td>\n",
       "      <td>16.0</td>\n",
       "      <td>12.0</td>\n",
       "      <td>07,1,+00975,1,99,9</td>\n",
       "    </tr>\n",
       "  </tbody>\n",
       "</table>\n",
       "</div>"
      ]
     },
     "execution_count": 20,
     "metadata": {},
     "output_type": "execute_result"
    }
   ],
   "execution_count": 20
  },
  {
   "cell_type": "code",
   "metadata": {
    "ExecuteTime": {
     "end_time": "2024-12-17T15:25:51.733322Z",
     "start_time": "2024-12-17T15:25:51.729539Z"
    }
   },
   "source": [
    "# What is this parameter?\n",
    "df['CIG']"
   ],
   "outputs": [
    {
     "data": {
      "text/plain": [
       "0        01067,1,C,N\n",
       "1        00975,1,C,N\n",
       "2        00975,1,C,N\n",
       "3        00975,1,C,N\n",
       "4        01006,1,9,N\n",
       "            ...     \n",
       "17286    01250,1,C,N\n",
       "17287    01250,1,C,N\n",
       "17288    01219,1,C,N\n",
       "17289    01219,1,C,N\n",
       "17290    01158,1,C,N\n",
       "Name: CIG, Length: 17291, dtype: object"
      ]
     },
     "execution_count": 21,
     "metadata": {},
     "output_type": "execute_result"
    }
   ],
   "execution_count": 21
  },
  {
   "cell_type": "markdown",
   "metadata": {},
   "source": [
    "here is the definition from [weather.gove](https://forecast.weather.gov/glossary.php?word=cig) \n",
    " > CIG: Ceiling- The height of the lowest layer of clouds, when the sky is broken or overcast."
   ]
  },
  {
   "cell_type": "markdown",
   "metadata": {},
   "source": [
    "**POS: 71-75** \n",
    " **SKY-CONDITION-OBSERVATION ceiling height dimension**  \n",
    " \n",
    "    The height above ground level (AGL) of the lowest cloud or obscuring phenomena layer aloft with 5/8 or more summation total skycover, which may be predominantly opaque, or the vertical visibility into a surface-based obstruction. \n",
    "    Unlimited = 22000. MIN: 00000 MAX: 22000 UNITS: Meters  \n",
    "    SCALING FACTOR: 1  \n",
    "    DOM: A general domain comprised of the numeric characters (0-9).  \n",
    "    99999 = Missing.  "
   ]
  },
  {
   "cell_type": "code",
   "metadata": {
    "ExecuteTime": {
     "end_time": "2024-12-17T15:25:52.012362Z",
     "start_time": "2024-12-17T15:25:51.951508Z"
    }
   },
   "source": [
    "# we have 2/3 data is passed with confident, and 1/3 is take-it-as-it-is\n",
    "df['CIG'].str.split(pat=',', expand=True)[1].value_counts()"
   ],
   "outputs": [
    {
     "data": {
      "text/plain": [
       "1\n",
       "1    11211\n",
       "9     6080\n",
       "Name: count, dtype: int64"
      ]
     },
     "execution_count": 22,
     "metadata": {},
     "output_type": "execute_result"
    }
   ],
   "execution_count": 22
  },
  {
   "cell_type": "code",
   "metadata": {
    "ExecuteTime": {
     "end_time": "2024-12-17T15:25:52.212927Z",
     "start_time": "2024-12-17T15:25:52.197498Z"
    }
   },
   "source": [
    "df['CIG'].str.split(pat=',', expand=True)[0].astype(int)"
   ],
   "outputs": [
    {
     "data": {
      "text/plain": [
       "0        1067\n",
       "1         975\n",
       "2         975\n",
       "3         975\n",
       "4        1006\n",
       "         ... \n",
       "17286    1250\n",
       "17287    1250\n",
       "17288    1219\n",
       "17289    1219\n",
       "17290    1158\n",
       "Name: 0, Length: 17291, dtype: int64"
      ]
     },
     "execution_count": 23,
     "metadata": {},
     "output_type": "execute_result"
    }
   ],
   "execution_count": 23
  },
  {
   "cell_type": "code",
   "metadata": {
    "ExecuteTime": {
     "end_time": "2024-12-17T15:25:52.432043Z",
     "start_time": "2024-12-17T15:25:52.418532Z"
    }
   },
   "source": [
    " df['CIG'] =  df['CIG'].str.split(pat=',', expand=True)[0].astype(int)"
   ],
   "outputs": [],
   "execution_count": 24
  },
  {
   "cell_type": "code",
   "metadata": {
    "ExecuteTime": {
     "end_time": "2024-12-17T15:25:52.612022Z",
     "start_time": "2024-12-17T15:25:52.602639Z"
    }
   },
   "source": [
    "df.query('CIG==99999')"
   ],
   "outputs": [
    {
     "data": {
      "text/plain": [
       "                      DATE             WND    CIG           VIS   TMP   DEW  \\\n",
       "330    2018-01-07T21:30:00  100,1,N,0026,1  99999  001500,1,9,9  21.0  20.0   \n",
       "405    2018-01-09T11:00:00  020,1,N,0015,1  99999  009900,1,9,9  13.0   5.0   \n",
       "406    2018-01-09T11:30:00  020,1,N,0015,1  99999  009900,1,9,9  13.0   6.0   \n",
       "407    2018-01-09T12:00:00  999,9,V,0010,1  99999  009900,1,9,9  13.0   6.0   \n",
       "408    2018-01-09T12:30:00  080,1,N,0015,1  99999  009900,1,9,9  13.0   6.0   \n",
       "...                    ...             ...    ...           ...   ...   ...   \n",
       "17273  2018-12-31T15:00:00  060,1,N,0026,1  99999  009900,1,9,9  12.0   5.0   \n",
       "17274  2018-12-31T15:30:00  070,1,N,0026,1  99999  009900,1,9,9  12.0   5.0   \n",
       "17275  2018-12-31T16:00:00  060,1,V,0015,1  99999  009900,1,9,9  12.0   6.0   \n",
       "17276  2018-12-31T16:30:00  030,1,N,0026,1  99999  009900,1,9,9  12.0   6.0   \n",
       "17277  2018-12-31T17:00:00  050,1,V,0021,1  99999  009900,1,9,9  12.0   6.0   \n",
       "\n",
       "                      GA1  \n",
       "330    04,1,+00091,1,99,9  \n",
       "405                   NaN  \n",
       "406                   NaN  \n",
       "407                   NaN  \n",
       "408                   NaN  \n",
       "...                   ...  \n",
       "17273                 NaN  \n",
       "17274                 NaN  \n",
       "17275                 NaN  \n",
       "17276                 NaN  \n",
       "17277                 NaN  \n",
       "\n",
       "[6080 rows x 7 columns]"
      ],
      "text/html": [
       "<div>\n",
       "<style scoped>\n",
       "    .dataframe tbody tr th:only-of-type {\n",
       "        vertical-align: middle;\n",
       "    }\n",
       "\n",
       "    .dataframe tbody tr th {\n",
       "        vertical-align: top;\n",
       "    }\n",
       "\n",
       "    .dataframe thead th {\n",
       "        text-align: right;\n",
       "    }\n",
       "</style>\n",
       "<table border=\"1\" class=\"dataframe\">\n",
       "  <thead>\n",
       "    <tr style=\"text-align: right;\">\n",
       "      <th></th>\n",
       "      <th>DATE</th>\n",
       "      <th>WND</th>\n",
       "      <th>CIG</th>\n",
       "      <th>VIS</th>\n",
       "      <th>TMP</th>\n",
       "      <th>DEW</th>\n",
       "      <th>GA1</th>\n",
       "    </tr>\n",
       "  </thead>\n",
       "  <tbody>\n",
       "    <tr>\n",
       "      <th>330</th>\n",
       "      <td>2018-01-07T21:30:00</td>\n",
       "      <td>100,1,N,0026,1</td>\n",
       "      <td>99999</td>\n",
       "      <td>001500,1,9,9</td>\n",
       "      <td>21.0</td>\n",
       "      <td>20.0</td>\n",
       "      <td>04,1,+00091,1,99,9</td>\n",
       "    </tr>\n",
       "    <tr>\n",
       "      <th>405</th>\n",
       "      <td>2018-01-09T11:00:00</td>\n",
       "      <td>020,1,N,0015,1</td>\n",
       "      <td>99999</td>\n",
       "      <td>009900,1,9,9</td>\n",
       "      <td>13.0</td>\n",
       "      <td>5.0</td>\n",
       "      <td>NaN</td>\n",
       "    </tr>\n",
       "    <tr>\n",
       "      <th>406</th>\n",
       "      <td>2018-01-09T11:30:00</td>\n",
       "      <td>020,1,N,0015,1</td>\n",
       "      <td>99999</td>\n",
       "      <td>009900,1,9,9</td>\n",
       "      <td>13.0</td>\n",
       "      <td>6.0</td>\n",
       "      <td>NaN</td>\n",
       "    </tr>\n",
       "    <tr>\n",
       "      <th>407</th>\n",
       "      <td>2018-01-09T12:00:00</td>\n",
       "      <td>999,9,V,0010,1</td>\n",
       "      <td>99999</td>\n",
       "      <td>009900,1,9,9</td>\n",
       "      <td>13.0</td>\n",
       "      <td>6.0</td>\n",
       "      <td>NaN</td>\n",
       "    </tr>\n",
       "    <tr>\n",
       "      <th>408</th>\n",
       "      <td>2018-01-09T12:30:00</td>\n",
       "      <td>080,1,N,0015,1</td>\n",
       "      <td>99999</td>\n",
       "      <td>009900,1,9,9</td>\n",
       "      <td>13.0</td>\n",
       "      <td>6.0</td>\n",
       "      <td>NaN</td>\n",
       "    </tr>\n",
       "    <tr>\n",
       "      <th>...</th>\n",
       "      <td>...</td>\n",
       "      <td>...</td>\n",
       "      <td>...</td>\n",
       "      <td>...</td>\n",
       "      <td>...</td>\n",
       "      <td>...</td>\n",
       "      <td>...</td>\n",
       "    </tr>\n",
       "    <tr>\n",
       "      <th>17273</th>\n",
       "      <td>2018-12-31T15:00:00</td>\n",
       "      <td>060,1,N,0026,1</td>\n",
       "      <td>99999</td>\n",
       "      <td>009900,1,9,9</td>\n",
       "      <td>12.0</td>\n",
       "      <td>5.0</td>\n",
       "      <td>NaN</td>\n",
       "    </tr>\n",
       "    <tr>\n",
       "      <th>17274</th>\n",
       "      <td>2018-12-31T15:30:00</td>\n",
       "      <td>070,1,N,0026,1</td>\n",
       "      <td>99999</td>\n",
       "      <td>009900,1,9,9</td>\n",
       "      <td>12.0</td>\n",
       "      <td>5.0</td>\n",
       "      <td>NaN</td>\n",
       "    </tr>\n",
       "    <tr>\n",
       "      <th>17275</th>\n",
       "      <td>2018-12-31T16:00:00</td>\n",
       "      <td>060,1,V,0015,1</td>\n",
       "      <td>99999</td>\n",
       "      <td>009900,1,9,9</td>\n",
       "      <td>12.0</td>\n",
       "      <td>6.0</td>\n",
       "      <td>NaN</td>\n",
       "    </tr>\n",
       "    <tr>\n",
       "      <th>17276</th>\n",
       "      <td>2018-12-31T16:30:00</td>\n",
       "      <td>030,1,N,0026,1</td>\n",
       "      <td>99999</td>\n",
       "      <td>009900,1,9,9</td>\n",
       "      <td>12.0</td>\n",
       "      <td>6.0</td>\n",
       "      <td>NaN</td>\n",
       "    </tr>\n",
       "    <tr>\n",
       "      <th>17277</th>\n",
       "      <td>2018-12-31T17:00:00</td>\n",
       "      <td>050,1,V,0021,1</td>\n",
       "      <td>99999</td>\n",
       "      <td>009900,1,9,9</td>\n",
       "      <td>12.0</td>\n",
       "      <td>6.0</td>\n",
       "      <td>NaN</td>\n",
       "    </tr>\n",
       "  </tbody>\n",
       "</table>\n",
       "<p>6080 rows × 7 columns</p>\n",
       "</div>"
      ]
     },
     "execution_count": 25,
     "metadata": {},
     "output_type": "execute_result"
    }
   ],
   "execution_count": 25
  },
  {
   "cell_type": "code",
   "metadata": {
    "ExecuteTime": {
     "end_time": "2024-12-17T15:25:52.864998Z",
     "start_time": "2024-12-17T15:25:52.860996Z"
    }
   },
   "source": [
    "# and assign any value with 99999 (missing) as None (or null)\n",
    "df.loc[df['CIG'] == 99999, 'CIG'] = None"
   ],
   "outputs": [],
   "execution_count": 26
  },
  {
   "cell_type": "code",
   "metadata": {
    "ExecuteTime": {
     "end_time": "2024-12-17T15:25:53.134455Z",
     "start_time": "2024-12-17T15:25:52.989770Z"
    }
   },
   "source": [
    "df['CIG'].plot(kind='line')"
   ],
   "outputs": [
    {
     "data": {
      "text/plain": [
       "<Axes: >"
      ]
     },
     "execution_count": 27,
     "metadata": {},
     "output_type": "execute_result"
    },
    {
     "data": {
      "text/plain": [
       "<Figure size 640x480 with 1 Axes>"
      ],
      "image/png": "[encoded data removed]"
     },
     "metadata": {},
     "output_type": "display_data"
    }
   ],
   "execution_count": 27
  },
  {
   "cell_type": "markdown",
   "metadata": {},
   "source": [
    "- we see many place with above 20000 (meter). Those are from 22000 value with a clear sky"
   ]
  },
  {
   "cell_type": "markdown",
   "metadata": {},
   "source": [
    "next is **VIS** (visiblity)\n",
    "\n",
    "**POS: 79-84**\n",
    "    **VISIBILITY-OBSERVATION distance dimension**  \n",
    "    \n",
    "     The horizontal distance at which an object can be seen and identified.  \n",
    "     MIN: 000000 MAX: 160000 UNITS: Meters  \n",
    "     DOM: A general domain comprised of the numeric characters (0-9).  \n",
    "     Missing = 999999  \n",
    "     NOTE: Values greater than 160000 are entered as 160000 "
   ]
  },
  {
   "cell_type": "code",
   "metadata": {
    "ExecuteTime": {
     "end_time": "2024-12-17T15:25:53.301826Z",
     "start_time": "2024-12-17T15:25:53.239065Z"
    }
   },
   "source": [
    " df['VIS'] =  df['VIS'].str.split(pat=',', expand=True)[0].astype(int)"
   ],
   "outputs": [],
   "execution_count": 28
  },
  {
   "cell_type": "code",
   "metadata": {
    "ExecuteTime": {
     "end_time": "2024-12-17T15:25:53.352255Z",
     "start_time": "2024-12-17T15:25:53.344426Z"
    }
   },
   "source": [
    "df.head()"
   ],
   "outputs": [
    {
     "data": {
      "text/plain": [
       "                  DATE             WND     CIG   VIS   TMP   DEW  \\\n",
       "0  2018-01-01T00:00:00  080,1,N,0015,1  1067.0  8000  16.0  12.0   \n",
       "1  2018-01-01T00:30:00  060,1,N,0015,1   975.0  8000  16.0  12.0   \n",
       "2  2018-01-01T01:00:00  080,1,N,0015,1   975.0  7000  16.0  12.0   \n",
       "3  2018-01-01T01:30:00  060,1,V,0021,1   975.0  7000  17.0  12.0   \n",
       "4  2018-01-01T02:00:00  080,1,N,0031,1  1006.0  7000  17.0  12.0   \n",
       "\n",
       "                  GA1  \n",
       "0  07,1,+01067,1,99,9  \n",
       "1  07,1,+00975,1,99,9  \n",
       "2  07,1,+00975,1,99,9  \n",
       "3  07,1,+00975,1,99,9  \n",
       "4  04,1,+00762,1,99,9  "
      ],
      "text/html": [
       "<div>\n",
       "<style scoped>\n",
       "    .dataframe tbody tr th:only-of-type {\n",
       "        vertical-align: middle;\n",
       "    }\n",
       "\n",
       "    .dataframe tbody tr th {\n",
       "        vertical-align: top;\n",
       "    }\n",
       "\n",
       "    .dataframe thead th {\n",
       "        text-align: right;\n",
       "    }\n",
       "</style>\n",
       "<table border=\"1\" class=\"dataframe\">\n",
       "  <thead>\n",
       "    <tr style=\"text-align: right;\">\n",
       "      <th></th>\n",
       "      <th>DATE</th>\n",
       "      <th>WND</th>\n",
       "      <th>CIG</th>\n",
       "      <th>VIS</th>\n",
       "      <th>TMP</th>\n",
       "      <th>DEW</th>\n",
       "      <th>GA1</th>\n",
       "    </tr>\n",
       "  </thead>\n",
       "  <tbody>\n",
       "    <tr>\n",
       "      <th>0</th>\n",
       "      <td>2018-01-01T00:00:00</td>\n",
       "      <td>080,1,N,0015,1</td>\n",
       "      <td>1067.0</td>\n",
       "      <td>8000</td>\n",
       "      <td>16.0</td>\n",
       "      <td>12.0</td>\n",
       "      <td>07,1,+01067,1,99,9</td>\n",
       "    </tr>\n",
       "    <tr>\n",
       "      <th>1</th>\n",
       "      <td>2018-01-01T00:30:00</td>\n",
       "      <td>060,1,N,0015,1</td>\n",
       "      <td>975.0</td>\n",
       "      <td>8000</td>\n",
       "      <td>16.0</td>\n",
       "      <td>12.0</td>\n",
       "      <td>07,1,+00975,1,99,9</td>\n",
       "    </tr>\n",
       "    <tr>\n",
       "      <th>2</th>\n",
       "      <td>2018-01-01T01:00:00</td>\n",
       "      <td>080,1,N,0015,1</td>\n",
       "      <td>975.0</td>\n",
       "      <td>7000</td>\n",
       "      <td>16.0</td>\n",
       "      <td>12.0</td>\n",
       "      <td>07,1,+00975,1,99,9</td>\n",
       "    </tr>\n",
       "    <tr>\n",
       "      <th>3</th>\n",
       "      <td>2018-01-01T01:30:00</td>\n",
       "      <td>060,1,V,0021,1</td>\n",
       "      <td>975.0</td>\n",
       "      <td>7000</td>\n",
       "      <td>17.0</td>\n",
       "      <td>12.0</td>\n",
       "      <td>07,1,+00975,1,99,9</td>\n",
       "    </tr>\n",
       "    <tr>\n",
       "      <th>4</th>\n",
       "      <td>2018-01-01T02:00:00</td>\n",
       "      <td>080,1,N,0031,1</td>\n",
       "      <td>1006.0</td>\n",
       "      <td>7000</td>\n",
       "      <td>17.0</td>\n",
       "      <td>12.0</td>\n",
       "      <td>04,1,+00762,1,99,9</td>\n",
       "    </tr>\n",
       "  </tbody>\n",
       "</table>\n",
       "</div>"
      ]
     },
     "execution_count": 29,
     "metadata": {},
     "output_type": "execute_result"
    }
   ],
   "execution_count": 29
  },
  {
   "cell_type": "code",
   "metadata": {
    "ExecuteTime": {
     "end_time": "2024-12-17T15:25:53.461899Z",
     "start_time": "2024-12-17T15:25:53.433582Z"
    }
   },
   "source": [
    "# and wind\n",
    "df['WND'].str.split(pat=',', expand=True)"
   ],
   "outputs": [
    {
     "data": {
      "text/plain": [
       "         0  1  2     3  4\n",
       "0      080  1  N  0015  1\n",
       "1      060  1  N  0015  1\n",
       "2      080  1  N  0015  1\n",
       "3      060  1  V  0021  1\n",
       "4      080  1  N  0031  1\n",
       "...    ... .. ..   ... ..\n",
       "17286  020  1  N  0031  1\n",
       "17287  030  1  N  0036  1\n",
       "17288  020  1  N  0031  1\n",
       "17289  030  1  N  0031  1\n",
       "17290  030  1  V  0036  1\n",
       "\n",
       "[17291 rows x 5 columns]"
      ],
      "text/html": [
       "<div>\n",
       "<style scoped>\n",
       "    .dataframe tbody tr th:only-of-type {\n",
       "        vertical-align: middle;\n",
       "    }\n",
       "\n",
       "    .dataframe tbody tr th {\n",
       "        vertical-align: top;\n",
       "    }\n",
       "\n",
       "    .dataframe thead th {\n",
       "        text-align: right;\n",
       "    }\n",
       "</style>\n",
       "<table border=\"1\" class=\"dataframe\">\n",
       "  <thead>\n",
       "    <tr style=\"text-align: right;\">\n",
       "      <th></th>\n",
       "      <th>0</th>\n",
       "      <th>1</th>\n",
       "      <th>2</th>\n",
       "      <th>3</th>\n",
       "      <th>4</th>\n",
       "    </tr>\n",
       "  </thead>\n",
       "  <tbody>\n",
       "    <tr>\n",
       "      <th>0</th>\n",
       "      <td>080</td>\n",
       "      <td>1</td>\n",
       "      <td>N</td>\n",
       "      <td>0015</td>\n",
       "      <td>1</td>\n",
       "    </tr>\n",
       "    <tr>\n",
       "      <th>1</th>\n",
       "      <td>060</td>\n",
       "      <td>1</td>\n",
       "      <td>N</td>\n",
       "      <td>0015</td>\n",
       "      <td>1</td>\n",
       "    </tr>\n",
       "    <tr>\n",
       "      <th>2</th>\n",
       "      <td>080</td>\n",
       "      <td>1</td>\n",
       "      <td>N</td>\n",
       "      <td>0015</td>\n",
       "      <td>1</td>\n",
       "    </tr>\n",
       "    <tr>\n",
       "      <th>3</th>\n",
       "      <td>060</td>\n",
       "      <td>1</td>\n",
       "      <td>V</td>\n",
       "      <td>0021</td>\n",
       "      <td>1</td>\n",
       "    </tr>\n",
       "    <tr>\n",
       "      <th>4</th>\n",
       "      <td>080</td>\n",
       "      <td>1</td>\n",
       "      <td>N</td>\n",
       "      <td>0031</td>\n",
       "      <td>1</td>\n",
       "    </tr>\n",
       "    <tr>\n",
       "      <th>...</th>\n",
       "      <td>...</td>\n",
       "      <td>...</td>\n",
       "      <td>...</td>\n",
       "      <td>...</td>\n",
       "      <td>...</td>\n",
       "    </tr>\n",
       "    <tr>\n",
       "      <th>17286</th>\n",
       "      <td>020</td>\n",
       "      <td>1</td>\n",
       "      <td>N</td>\n",
       "      <td>0031</td>\n",
       "      <td>1</td>\n",
       "    </tr>\n",
       "    <tr>\n",
       "      <th>17287</th>\n",
       "      <td>030</td>\n",
       "      <td>1</td>\n",
       "      <td>N</td>\n",
       "      <td>0036</td>\n",
       "      <td>1</td>\n",
       "    </tr>\n",
       "    <tr>\n",
       "      <th>17288</th>\n",
       "      <td>020</td>\n",
       "      <td>1</td>\n",
       "      <td>N</td>\n",
       "      <td>0031</td>\n",
       "      <td>1</td>\n",
       "    </tr>\n",
       "    <tr>\n",
       "      <th>17289</th>\n",
       "      <td>030</td>\n",
       "      <td>1</td>\n",
       "      <td>N</td>\n",
       "      <td>0031</td>\n",
       "      <td>1</td>\n",
       "    </tr>\n",
       "    <tr>\n",
       "      <th>17290</th>\n",
       "      <td>030</td>\n",
       "      <td>1</td>\n",
       "      <td>V</td>\n",
       "      <td>0036</td>\n",
       "      <td>1</td>\n",
       "    </tr>\n",
       "  </tbody>\n",
       "</table>\n",
       "<p>17291 rows × 5 columns</p>\n",
       "</div>"
      ]
     },
     "execution_count": 30,
     "metadata": {},
     "output_type": "execute_result"
    }
   ],
   "execution_count": 30
  },
  {
   "cell_type": "markdown",
   "metadata": {},
   "source": [
    "**format**  \n",
    "0 - the angle \n",
    "1 - quality code for the wind direction  \n",
    "2 - characters of this observation (N for Normal, V for Variable, C: Calm)  \n",
    "3 - Wind speed (m/s), scaling factor of 10  \n",
    "4 - Quality code for windspeed  "
   ]
  },
  {
   "cell_type": "code",
   "metadata": {
    "ExecuteTime": {
     "end_time": "2024-12-17T15:25:53.516561Z",
     "start_time": "2024-12-17T15:25:53.498868Z"
    }
   },
   "source": [
    " df['WND'].str.split(pat=',', expand=True)[1].value_counts()"
   ],
   "outputs": [
    {
     "data": {
      "text/plain": [
       "1\n",
       "1    15559\n",
       "9     1732\n",
       "Name: count, dtype: int64"
      ]
     },
     "execution_count": 31,
     "metadata": {},
     "output_type": "execute_result"
    }
   ],
   "execution_count": 31
  },
  {
   "cell_type": "code",
   "metadata": {
    "ExecuteTime": {
     "end_time": "2024-12-17T15:25:53.775708Z",
     "start_time": "2024-12-17T15:25:53.756677Z"
    }
   },
   "source": [
    " df['WND'].str.split(pat=',', expand=True)[2].value_counts()"
   ],
   "outputs": [
    {
     "data": {
      "text/plain": [
       "2\n",
       "N    9054\n",
       "V    8118\n",
       "C     119\n",
       "Name: count, dtype: int64"
      ]
     },
     "execution_count": 32,
     "metadata": {},
     "output_type": "execute_result"
    }
   ],
   "execution_count": 32
  },
  {
   "cell_type": "code",
   "metadata": {
    "ExecuteTime": {
     "end_time": "2024-12-17T15:25:54.051706Z",
     "start_time": "2024-12-17T15:25:54.035117Z"
    }
   },
   "source": [
    " df['WND'].str.split(pat=',', expand=True)[4].value_counts()"
   ],
   "outputs": [
    {
     "data": {
      "text/plain": [
       "4\n",
       "1    17285\n",
       "9        6\n",
       "Name: count, dtype: int64"
      ]
     },
     "execution_count": 33,
     "metadata": {},
     "output_type": "execute_result"
    }
   ],
   "execution_count": 33
  },
  {
   "cell_type": "code",
   "metadata": {
    "ExecuteTime": {
     "end_time": "2024-12-17T15:26:50.260236Z",
     "start_time": "2024-12-17T15:26:50.257476Z"
    }
   },
   "source": [
    "# look data is good quality\n",
    " df['WD'] =  df['WND'].str.split(pat=',', expand=True)[0].astype(int)"
   ],
   "outputs": [
    {
     "ename": "IndentationError",
     "evalue": "unexpected indent (1039568751.py, line 2)",
     "output_type": "error",
     "traceback": [
      "\u001B[0;36m  Cell \u001B[0;32mIn[35], line 2\u001B[0;36m\u001B[0m\n\u001B[0;31m    df['WD'] =  df['WND'].str.split(pat=',', expand=True)[0].astype(int)\u001B[0m\n\u001B[0m    ^\u001B[0m\n\u001B[0;31mIndentationError\u001B[0m\u001B[0;31m:\u001B[0m unexpected indent\n"
     ]
    }
   ],
   "execution_count": 35
  },
  {
   "cell_type": "code",
   "execution_count": 34,
   "metadata": {
    "ExecuteTime": {
     "end_time": "2024-12-17T15:25:54.638433256Z",
     "start_time": "2020-07-28T11:56:52.345479Z"
    }
   },
   "outputs": [],
   "source": [
    " df['WS'] = df['WND'].str.split(pat=',', expand=True)[3].astype(int)/10"
   ]
  },
  {
   "cell_type": "code",
   "execution_count": 35,
   "metadata": {
    "ExecuteTime": {
     "end_time": "2024-12-17T15:25:54.638899422Z",
     "start_time": "2020-07-28T11:56:52.386511Z"
    }
   },
   "outputs": [
    {
     "data": {
      "text/html": [
       "<div>\n",
       "<style scoped>\n",
       "    .dataframe tbody tr th:only-of-type {\n",
       "        vertical-align: middle;\n",
       "    }\n",
       "\n",
       "    .dataframe tbody tr th {\n",
       "        vertical-align: top;\n",
       "    }\n",
       "\n",
       "    .dataframe thead th {\n",
       "        text-align: right;\n",
       "    }\n",
       "</style>\n",
       "<table border=\"1\" class=\"dataframe\">\n",
       "  <thead>\n",
       "    <tr style=\"text-align: right;\">\n",
       "      <th></th>\n",
       "      <th>DATE</th>\n",
       "      <th>WND</th>\n",
       "      <th>CIG</th>\n",
       "      <th>VIS</th>\n",
       "      <th>TMP</th>\n",
       "      <th>DEW</th>\n",
       "      <th>GA1</th>\n",
       "      <th>WD</th>\n",
       "      <th>WS</th>\n",
       "    </tr>\n",
       "  </thead>\n",
       "  <tbody>\n",
       "    <tr>\n",
       "      <th>0</th>\n",
       "      <td>2018-01-01T00:00:00</td>\n",
       "      <td>080,1,N,0015,1</td>\n",
       "      <td>1067.0</td>\n",
       "      <td>8000</td>\n",
       "      <td>16.0</td>\n",
       "      <td>12.0</td>\n",
       "      <td>07,1,+01067,1,99,9</td>\n",
       "      <td>80</td>\n",
       "      <td>1.5</td>\n",
       "    </tr>\n",
       "    <tr>\n",
       "      <th>1</th>\n",
       "      <td>2018-01-01T00:30:00</td>\n",
       "      <td>060,1,N,0015,1</td>\n",
       "      <td>975.0</td>\n",
       "      <td>8000</td>\n",
       "      <td>16.0</td>\n",
       "      <td>12.0</td>\n",
       "      <td>07,1,+00975,1,99,9</td>\n",
       "      <td>60</td>\n",
       "      <td>1.5</td>\n",
       "    </tr>\n",
       "    <tr>\n",
       "      <th>2</th>\n",
       "      <td>2018-01-01T01:00:00</td>\n",
       "      <td>080,1,N,0015,1</td>\n",
       "      <td>975.0</td>\n",
       "      <td>7000</td>\n",
       "      <td>16.0</td>\n",
       "      <td>12.0</td>\n",
       "      <td>07,1,+00975,1,99,9</td>\n",
       "      <td>80</td>\n",
       "      <td>1.5</td>\n",
       "    </tr>\n",
       "    <tr>\n",
       "      <th>3</th>\n",
       "      <td>2018-01-01T01:30:00</td>\n",
       "      <td>060,1,V,0021,1</td>\n",
       "      <td>975.0</td>\n",
       "      <td>7000</td>\n",
       "      <td>17.0</td>\n",
       "      <td>12.0</td>\n",
       "      <td>07,1,+00975,1,99,9</td>\n",
       "      <td>60</td>\n",
       "      <td>2.1</td>\n",
       "    </tr>\n",
       "    <tr>\n",
       "      <th>4</th>\n",
       "      <td>2018-01-01T02:00:00</td>\n",
       "      <td>080,1,N,0031,1</td>\n",
       "      <td>1006.0</td>\n",
       "      <td>7000</td>\n",
       "      <td>17.0</td>\n",
       "      <td>12.0</td>\n",
       "      <td>04,1,+00762,1,99,9</td>\n",
       "      <td>80</td>\n",
       "      <td>3.1</td>\n",
       "    </tr>\n",
       "  </tbody>\n",
       "</table>\n",
       "</div>"
      ],
      "text/plain": [
       "                  DATE             WND     CIG   VIS   TMP   DEW  \\\n",
       "0  2018-01-01T00:00:00  080,1,N,0015,1  1067.0  8000  16.0  12.0   \n",
       "1  2018-01-01T00:30:00  060,1,N,0015,1   975.0  8000  16.0  12.0   \n",
       "2  2018-01-01T01:00:00  080,1,N,0015,1   975.0  7000  16.0  12.0   \n",
       "3  2018-01-01T01:30:00  060,1,V,0021,1   975.0  7000  17.0  12.0   \n",
       "4  2018-01-01T02:00:00  080,1,N,0031,1  1006.0  7000  17.0  12.0   \n",
       "\n",
       "                  GA1  WD   WS  \n",
       "0  07,1,+01067,1,99,9  80  1.5  \n",
       "1  07,1,+00975,1,99,9  60  1.5  \n",
       "2  07,1,+00975,1,99,9  80  1.5  \n",
       "3  07,1,+00975,1,99,9  60  2.1  \n",
       "4  04,1,+00762,1,99,9  80  3.1  "
      ]
     },
     "execution_count": 35,
     "metadata": {},
     "output_type": "execute_result"
    }
   ],
   "source": [
    "df.head()"
   ]
  },
  {
   "cell_type": "code",
   "execution_count": 36,
   "metadata": {
    "ExecuteTime": {
     "end_time": "2024-12-17T15:25:54.639247968Z",
     "start_time": "2020-07-28T11:56:52.401676Z"
    }
   },
   "outputs": [
    {
     "data": {
      "text/html": [
       "<div>\n",
       "<style scoped>\n",
       "    .dataframe tbody tr th:only-of-type {\n",
       "        vertical-align: middle;\n",
       "    }\n",
       "\n",
       "    .dataframe tbody tr th {\n",
       "        vertical-align: top;\n",
       "    }\n",
       "\n",
       "    .dataframe thead th {\n",
       "        text-align: right;\n",
       "    }\n",
       "</style>\n",
       "<table border=\"1\" class=\"dataframe\">\n",
       "  <thead>\n",
       "    <tr style=\"text-align: right;\">\n",
       "      <th></th>\n",
       "      <th>DATE</th>\n",
       "      <th>CIG</th>\n",
       "      <th>VIS</th>\n",
       "      <th>TMP</th>\n",
       "      <th>DEW</th>\n",
       "      <th>GA1</th>\n",
       "      <th>WD</th>\n",
       "      <th>WS</th>\n",
       "    </tr>\n",
       "  </thead>\n",
       "  <tbody>\n",
       "    <tr>\n",
       "      <th>0</th>\n",
       "      <td>2018-01-01T00:00:00</td>\n",
       "      <td>1067.0</td>\n",
       "      <td>8000</td>\n",
       "      <td>16.0</td>\n",
       "      <td>12.0</td>\n",
       "      <td>07,1,+01067,1,99,9</td>\n",
       "      <td>80</td>\n",
       "      <td>1.5</td>\n",
       "    </tr>\n",
       "    <tr>\n",
       "      <th>1</th>\n",
       "      <td>2018-01-01T00:30:00</td>\n",
       "      <td>975.0</td>\n",
       "      <td>8000</td>\n",
       "      <td>16.0</td>\n",
       "      <td>12.0</td>\n",
       "      <td>07,1,+00975,1,99,9</td>\n",
       "      <td>60</td>\n",
       "      <td>1.5</td>\n",
       "    </tr>\n",
       "    <tr>\n",
       "      <th>2</th>\n",
       "      <td>2018-01-01T01:00:00</td>\n",
       "      <td>975.0</td>\n",
       "      <td>7000</td>\n",
       "      <td>16.0</td>\n",
       "      <td>12.0</td>\n",
       "      <td>07,1,+00975,1,99,9</td>\n",
       "      <td>80</td>\n",
       "      <td>1.5</td>\n",
       "    </tr>\n",
       "  </tbody>\n",
       "</table>\n",
       "</div>"
      ],
      "text/plain": [
       "                  DATE     CIG   VIS   TMP   DEW                 GA1  WD   WS\n",
       "0  2018-01-01T00:00:00  1067.0  8000  16.0  12.0  07,1,+01067,1,99,9  80  1.5\n",
       "1  2018-01-01T00:30:00   975.0  8000  16.0  12.0  07,1,+00975,1,99,9  60  1.5\n",
       "2  2018-01-01T01:00:00   975.0  7000  16.0  12.0  07,1,+00975,1,99,9  80  1.5"
      ]
     },
     "execution_count": 36,
     "metadata": {},
     "output_type": "execute_result"
    }
   ],
   "source": [
    "df.drop(columns=['WND'], inplace=True)\n",
    "df.head(3)"
   ]
  },
  {
   "cell_type": "markdown",
   "metadata": {},
   "source": [
    "**FLD LEN: 3**\n",
    " **SKY-COVER-LAYER identifier**\n",
    " \n",
    "     The identifier that represents a SKY-COVER-LAYER.\n",
    "     DOM: A specific domain comprised of the characters in the ASCII character set.\n",
    "     GA1-GA6 An indicator of up to 6 repeating fields of the following items:\n",
    "     SKY-COVER-LAYER coverage code\n",
    "     SKY-COVER-LAYER coverage quality code\n",
    "     SKY-COVER-LAYER base height dimension\n",
    "     SKY-COVER-LAYER base height quality code\n",
    "     SKY-COVER-LAYER cloud type code\n",
    "     SKY-COVER-LAYER cloud type quality code"
   ]
  },
  {
   "cell_type": "markdown",
   "metadata": {},
   "source": [
    "**SKY-COVER-LAYER coverage code**\n",
    "\n",
    "     The code that denotes the fraction of the total celestial dome covered by a SKY-COVER-LAYER.\n",
    "     Note: This is for a discrete cloud layer, as opposed to the cloud later summation data in the GD1-GD6 section.\n",
    "\n",
    "**SKY-COVER-LAYER base height dimension**\n",
    "\n",
    "     The height relative to a VERTICAL-REFERENCE-DATUM of the lowest surface of a cloud.\n",
    "     MIN: -00400 MAX: +35000 UNITS: Meters\n",
    "     SCALING FACTOR: 1\n",
    "     DOM: A general domain comprised of the numeric characters (0-9), a plus sign (+), and a minus sign (-).\n",
    "     +99999 = Missing\n",
    " \n",
    " https://www.ngs.noaa.gov/datums/vertical/#:~:text=A%20vertical%20datum%20is%20a,the%20surface%20of%20the%20earth."
   ]
  },
  {
   "cell_type": "code",
   "execution_count": 37,
   "metadata": {
    "ExecuteTime": {
     "end_time": "2024-12-17T15:25:54.639503875Z",
     "start_time": "2020-07-28T11:56:52.418972Z"
    }
   },
   "outputs": [
    {
     "data": {
      "text/plain": [
       "99    11390\n",
       "08      250\n",
       "09      213\n",
       "Name: 4, dtype: int64"
      ]
     },
     "execution_count": 37,
     "metadata": {},
     "output_type": "execute_result"
    }
   ],
   "source": [
    "# let split out GA columns\n",
    "df['GA1'].str.split(pat=',', expand=True)[4].value_counts()"
   ]
  },
  {
   "cell_type": "code",
   "execution_count": 38,
   "metadata": {
    "ExecuteTime": {
     "end_time": "2024-12-17T15:25:54.639658524Z",
     "start_time": "2020-07-28T11:56:52.458487Z"
    }
   },
   "outputs": [
    {
     "data": {
      "text/plain": [
       "1    11853\n",
       "Name: 1, dtype: int64"
      ]
     },
     "execution_count": 38,
     "metadata": {},
     "output_type": "execute_result"
    }
   ],
   "source": [
    "df['GA1'].str.split(pat=',', expand=True)[1].value_counts()"
   ]
  },
  {
   "cell_type": "code",
   "execution_count": 39,
   "metadata": {
    "ExecuteTime": {
     "end_time": "2024-12-17T15:25:54.639763736Z",
     "start_time": "2020-07-28T11:56:52.533068Z"
    }
   },
   "outputs": [],
   "source": [
    "df['CLDCR'] = df['GA1'].str.split(pat=',', expand=True)[0].astype(float)/10"
   ]
  },
  {
   "cell_type": "code",
   "execution_count": 40,
   "metadata": {
    "ExecuteTime": {
     "end_time": "2024-12-17T15:25:54.639849349Z",
     "start_time": "2020-07-28T11:56:52.571924Z"
    }
   },
   "outputs": [],
   "source": [
    "df['CLDHT'] = df['GA1'].str.split(pat=',', expand=True)[2].astype(float)"
   ]
  },
  {
   "cell_type": "code",
   "execution_count": 41,
   "metadata": {
    "ExecuteTime": {
     "end_time": "2024-12-17T15:25:54.639927476Z",
     "start_time": "2020-07-28T11:56:52.609262Z"
    }
   },
   "outputs": [],
   "source": [
    "# and convert DATE column to proper data type\n",
    "df['DATE'] = pd.to_datetime(df['DATE'])\n",
    "df.set_index('DATE', inplace=True)"
   ]
  },
  {
   "cell_type": "code",
   "execution_count": 42,
   "metadata": {
    "ExecuteTime": {
     "end_time": "2024-12-17T15:25:54.640012890Z",
     "start_time": "2020-07-28T11:56:52.619086Z"
    }
   },
   "outputs": [],
   "source": [
    "df.drop(columns=['GA1'], inplace=True)"
   ]
  },
  {
   "cell_type": "code",
   "execution_count": 43,
   "metadata": {
    "ExecuteTime": {
     "end_time": "2024-12-17T15:25:54.640089905Z",
     "start_time": "2020-07-28T11:56:52.628559Z"
    }
   },
   "outputs": [
    {
     "name": "stdout",
     "output_type": "stream",
     "text": [
      "<class 'pandas.core.frame.DataFrame'>\n",
      "DatetimeIndex: 16911 entries, 2018-01-01 00:00:00 to 2018-12-31 23:30:00\n",
      "Data columns (total 8 columns):\n",
      "CIG      10942 non-null float64\n",
      "VIS      16911 non-null int64\n",
      "TMP      16911 non-null float64\n",
      "DEW      16911 non-null float64\n",
      "WD       16911 non-null int64\n",
      "WS       16911 non-null float64\n",
      "CLDCR    11853 non-null float64\n",
      "CLDHT    11853 non-null float64\n",
      "dtypes: float64(6), int64(2)\n",
      "memory usage: 1.2 MB\n"
     ]
    }
   ],
   "source": [
    "df.info()"
   ]
  },
  {
   "cell_type": "code",
   "execution_count": 44,
   "metadata": {
    "ExecuteTime": {
     "end_time": "2024-12-17T15:25:54.640172736Z",
     "start_time": "2020-07-28T11:56:52.641409Z"
    }
   },
   "outputs": [],
   "source": [
    "# and save to file\n",
    "df.to_csv('data/cleaned_noibai_noaa_isd_2018.csv')"
   ]
  }
 ],
 "metadata": {
  "kernelspec": {
   "display_name": "Python 3",
   "language": "python",
   "name": "python3"
  },
  "language_info": {
   "codemirror_mode": {
    "name": "ipython",
    "version": 3
   },
   "file_extension": ".py",
   "mimetype": "text/x-python",
   "name": "python",
   "nbconvert_exporter": "python",
   "pygments_lexer": "ipython3",
   "version": "3.6.9"
  },
  "toc": {
   "base_numbering": 1,
   "nav_menu": {},
   "number_sections": true,
   "sideBar": true,
   "skip_h1_title": false,
   "title_cell": "Table of Contents",
   "title_sidebar": "Contents",
   "toc_cell": true,
   "toc_position": {
    "height": "calc(100% - 180px)",
    "left": "10px",
    "top": "150px",
    "width": "384px"
   },
   "toc_section_display": true,
   "toc_window_display": true
  }
 },
 "nbformat": 4,
 "nbformat_minor": 4
}
