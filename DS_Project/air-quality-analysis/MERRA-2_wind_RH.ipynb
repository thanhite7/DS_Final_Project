{
 "cells": [
  {
   "cell_type": "code",
   "metadata": {
    "ExecuteTime": {
     "end_time": "2024-12-17T15:41:06.000163Z",
     "start_time": "2024-12-17T15:41:05.997651Z"
    }
   },
   "source": [
    "# first let import library, and ignore some of the warnings\n",
    "import warnings\n",
    "warnings.filterwarnings('ignore')"
   ],
   "outputs": [],
   "execution_count": 230
  },
  {
   "cell_type": "code",
   "metadata": {
    "ExecuteTime": {
     "end_time": "2024-12-17T15:41:06.077632Z",
     "start_time": "2024-12-17T15:41:06.074226Z"
    }
   },
   "source": [
    "import pandas as pd\n",
    "import numpy as np\n",
    "import datetime\n",
    "import matplotlib.pyplot as plt\n",
    "import seaborn as sns\n",
    "plt.style.use('default')\n",
    "plt.rcParams['figure.figsize'] = (10,6)"
   ],
   "outputs": [],
   "execution_count": 231
  },
  {
   "cell_type": "code",
   "metadata": {
    "ExecuteTime": {
     "end_time": "2024-12-17T15:41:06.168132Z",
     "start_time": "2024-12-17T15:41:06.152474Z"
    }
   },
   "source": [
    "# load PM2.5 data and combine 3 operations at once\n",
    "pm25 = pd.read_csv('data/cleaned_pm25_Hanoi_PM2.5_2018_YTD.csv',\n",
    "                   parse_dates=['Date (LT)'],\n",
    "                  index_col=['Date (LT)'])\n",
    "pm25.head()"
   ],
   "outputs": [
    {
     "data": {
      "text/plain": [
       "                     pm25\n",
       "Date (LT)                \n",
       "2018-01-01 01:00:00  69.2\n",
       "2018-01-01 02:00:00  75.5\n",
       "2018-01-01 03:00:00  90.2\n",
       "2018-01-01 04:00:00  97.6\n",
       "2018-01-01 05:00:00  89.1"
      ],
      "text/html": [
       "<div>\n",
       "<style scoped>\n",
       "    .dataframe tbody tr th:only-of-type {\n",
       "        vertical-align: middle;\n",
       "    }\n",
       "\n",
       "    .dataframe tbody tr th {\n",
       "        vertical-align: top;\n",
       "    }\n",
       "\n",
       "    .dataframe thead th {\n",
       "        text-align: right;\n",
       "    }\n",
       "</style>\n",
       "<table border=\"1\" class=\"dataframe\">\n",
       "  <thead>\n",
       "    <tr style=\"text-align: right;\">\n",
       "      <th></th>\n",
       "      <th>pm25</th>\n",
       "    </tr>\n",
       "    <tr>\n",
       "      <th>Date (LT)</th>\n",
       "      <th></th>\n",
       "    </tr>\n",
       "  </thead>\n",
       "  <tbody>\n",
       "    <tr>\n",
       "      <th>2018-01-01 01:00:00</th>\n",
       "      <td>69.2</td>\n",
       "    </tr>\n",
       "    <tr>\n",
       "      <th>2018-01-01 02:00:00</th>\n",
       "      <td>75.5</td>\n",
       "    </tr>\n",
       "    <tr>\n",
       "      <th>2018-01-01 03:00:00</th>\n",
       "      <td>90.2</td>\n",
       "    </tr>\n",
       "    <tr>\n",
       "      <th>2018-01-01 04:00:00</th>\n",
       "      <td>97.6</td>\n",
       "    </tr>\n",
       "    <tr>\n",
       "      <th>2018-01-01 05:00:00</th>\n",
       "      <td>89.1</td>\n",
       "    </tr>\n",
       "  </tbody>\n",
       "</table>\n",
       "</div>"
      ]
     },
     "execution_count": 232,
     "metadata": {},
     "output_type": "execute_result"
    }
   ],
   "execution_count": 232
  },
  {
   "cell_type": "markdown",
   "metadata": {},
   "source": [
    "# SLV (Single Level Diagnosis - MERRA-2)"
   ]
  },
  {
   "cell_type": "code",
   "metadata": {
    "ExecuteTime": {
     "end_time": "2024-12-17T15:41:06.299455Z",
     "start_time": "2024-12-17T15:41:06.240860Z"
    }
   },
   "source": [
    "# similar with single level data\n",
    "df = pd.read_csv('data/merra2_slv_hanoi_2018.csv',\n",
    "                parse_dates=['time'],\n",
    "                index_col=['time'])\n",
    "df.head()"
   ],
   "outputs": [
    {
     "data": {
      "text/plain": [
       "                          U2M       V250      TROPT      TROPPB        T2M  \\\n",
       "time                                                                         \n",
       "2018-01-01 00:00:00  0.023183  10.807207  192.34645  10051.0290  287.10890   \n",
       "2018-01-01 01:00:00  0.189619  11.351880  192.50723  10052.2750  286.79376   \n",
       "2018-01-01 02:00:00  0.243190  11.913273  192.63431  10051.5625  286.48932   \n",
       "2018-01-01 03:00:00  0.195083  12.295908  192.71167  10052.2780  286.24753   \n",
       "2018-01-01 04:00:00  0.132475  12.672207  192.72789  10050.9120  285.96360   \n",
       "\n",
       "                          TQL       T500      U850         PS      V850  ...  \\\n",
       "time                                                                     ...   \n",
       "2018-01-01 00:00:00  0.008423  267.34950 -0.678858  100905.08  6.310610  ...   \n",
       "2018-01-01 01:00:00  0.009235  267.07660 -0.398818  100865.09  6.162886  ...   \n",
       "2018-01-01 02:00:00  0.006260  266.77542 -0.217877  100819.56  5.993750  ...   \n",
       "2018-01-01 03:00:00  0.003489  266.50415 -0.217092  100793.71  5.911840  ...   \n",
       "2018-01-01 04:00:00  0.002314  266.30140 -0.108732  100791.80  5.884082  ...   \n",
       "\n",
       "                          H850       T850      U50M      U10M    TROPPV  \\\n",
       "time                                                                      \n",
       "2018-01-01 00:00:00  1527.0985  283.53122  0.030755  0.031674  7564.037   \n",
       "2018-01-01 01:00:00  1522.4517  283.64413  0.424628  0.304242  7369.791   \n",
       "2018-01-01 02:00:00  1518.0483  283.75928  0.544786  0.386887  7256.081   \n",
       "2018-01-01 03:00:00  1515.4990  283.86768  0.383533  0.283328  7255.750   \n",
       "2018-01-01 04:00:00  1514.8696  283.87558  0.213028  0.169195  7256.080   \n",
       "\n",
       "                          H500      V500     T2MWET       U500     QV10M  \n",
       "time                                                                      \n",
       "2018-01-01 00:00:00  5840.2160 -1.304574  284.03730  11.181688  0.007823  \n",
       "2018-01-01 01:00:00  5835.2650 -2.038413  283.94345  11.029030  0.007823  \n",
       "2018-01-01 02:00:00  5830.6333 -2.332026  283.87656  10.573646  0.007822  \n",
       "2018-01-01 03:00:00  5828.6885 -2.251715  283.76090  10.046288  0.007807  \n",
       "2018-01-01 04:00:00  5828.3154 -1.790147  283.66614   9.330713  0.007804  \n",
       "\n",
       "[5 rows x 39 columns]"
      ],
      "text/html": [
       "<div>\n",
       "<style scoped>\n",
       "    .dataframe tbody tr th:only-of-type {\n",
       "        vertical-align: middle;\n",
       "    }\n",
       "\n",
       "    .dataframe tbody tr th {\n",
       "        vertical-align: top;\n",
       "    }\n",
       "\n",
       "    .dataframe thead th {\n",
       "        text-align: right;\n",
       "    }\n",
       "</style>\n",
       "<table border=\"1\" class=\"dataframe\">\n",
       "  <thead>\n",
       "    <tr style=\"text-align: right;\">\n",
       "      <th></th>\n",
       "      <th>U2M</th>\n",
       "      <th>V250</th>\n",
       "      <th>TROPT</th>\n",
       "      <th>TROPPB</th>\n",
       "      <th>T2M</th>\n",
       "      <th>TQL</th>\n",
       "      <th>T500</th>\n",
       "      <th>U850</th>\n",
       "      <th>PS</th>\n",
       "      <th>V850</th>\n",
       "      <th>...</th>\n",
       "      <th>H850</th>\n",
       "      <th>T850</th>\n",
       "      <th>U50M</th>\n",
       "      <th>U10M</th>\n",
       "      <th>TROPPV</th>\n",
       "      <th>H500</th>\n",
       "      <th>V500</th>\n",
       "      <th>T2MWET</th>\n",
       "      <th>U500</th>\n",
       "      <th>QV10M</th>\n",
       "    </tr>\n",
       "    <tr>\n",
       "      <th>time</th>\n",
       "      <th></th>\n",
       "      <th></th>\n",
       "      <th></th>\n",
       "      <th></th>\n",
       "      <th></th>\n",
       "      <th></th>\n",
       "      <th></th>\n",
       "      <th></th>\n",
       "      <th></th>\n",
       "      <th></th>\n",
       "      <th></th>\n",
       "      <th></th>\n",
       "      <th></th>\n",
       "      <th></th>\n",
       "      <th></th>\n",
       "      <th></th>\n",
       "      <th></th>\n",
       "      <th></th>\n",
       "      <th></th>\n",
       "      <th></th>\n",
       "      <th></th>\n",
       "    </tr>\n",
       "  </thead>\n",
       "  <tbody>\n",
       "    <tr>\n",
       "      <th>2018-01-01 00:00:00</th>\n",
       "      <td>0.023183</td>\n",
       "      <td>10.807207</td>\n",
       "      <td>192.34645</td>\n",
       "      <td>10051.0290</td>\n",
       "      <td>287.10890</td>\n",
       "      <td>0.008423</td>\n",
       "      <td>267.34950</td>\n",
       "      <td>-0.678858</td>\n",
       "      <td>100905.08</td>\n",
       "      <td>6.310610</td>\n",
       "      <td>...</td>\n",
       "      <td>1527.0985</td>\n",
       "      <td>283.53122</td>\n",
       "      <td>0.030755</td>\n",
       "      <td>0.031674</td>\n",
       "      <td>7564.037</td>\n",
       "      <td>5840.2160</td>\n",
       "      <td>-1.304574</td>\n",
       "      <td>284.03730</td>\n",
       "      <td>11.181688</td>\n",
       "      <td>0.007823</td>\n",
       "    </tr>\n",
       "    <tr>\n",
       "      <th>2018-01-01 01:00:00</th>\n",
       "      <td>0.189619</td>\n",
       "      <td>11.351880</td>\n",
       "      <td>192.50723</td>\n",
       "      <td>10052.2750</td>\n",
       "      <td>286.79376</td>\n",
       "      <td>0.009235</td>\n",
       "      <td>267.07660</td>\n",
       "      <td>-0.398818</td>\n",
       "      <td>100865.09</td>\n",
       "      <td>6.162886</td>\n",
       "      <td>...</td>\n",
       "      <td>1522.4517</td>\n",
       "      <td>283.64413</td>\n",
       "      <td>0.424628</td>\n",
       "      <td>0.304242</td>\n",
       "      <td>7369.791</td>\n",
       "      <td>5835.2650</td>\n",
       "      <td>-2.038413</td>\n",
       "      <td>283.94345</td>\n",
       "      <td>11.029030</td>\n",
       "      <td>0.007823</td>\n",
       "    </tr>\n",
       "    <tr>\n",
       "      <th>2018-01-01 02:00:00</th>\n",
       "      <td>0.243190</td>\n",
       "      <td>11.913273</td>\n",
       "      <td>192.63431</td>\n",
       "      <td>10051.5625</td>\n",
       "      <td>286.48932</td>\n",
       "      <td>0.006260</td>\n",
       "      <td>266.77542</td>\n",
       "      <td>-0.217877</td>\n",
       "      <td>100819.56</td>\n",
       "      <td>5.993750</td>\n",
       "      <td>...</td>\n",
       "      <td>1518.0483</td>\n",
       "      <td>283.75928</td>\n",
       "      <td>0.544786</td>\n",
       "      <td>0.386887</td>\n",
       "      <td>7256.081</td>\n",
       "      <td>5830.6333</td>\n",
       "      <td>-2.332026</td>\n",
       "      <td>283.87656</td>\n",
       "      <td>10.573646</td>\n",
       "      <td>0.007822</td>\n",
       "    </tr>\n",
       "    <tr>\n",
       "      <th>2018-01-01 03:00:00</th>\n",
       "      <td>0.195083</td>\n",
       "      <td>12.295908</td>\n",
       "      <td>192.71167</td>\n",
       "      <td>10052.2780</td>\n",
       "      <td>286.24753</td>\n",
       "      <td>0.003489</td>\n",
       "      <td>266.50415</td>\n",
       "      <td>-0.217092</td>\n",
       "      <td>100793.71</td>\n",
       "      <td>5.911840</td>\n",
       "      <td>...</td>\n",
       "      <td>1515.4990</td>\n",
       "      <td>283.86768</td>\n",
       "      <td>0.383533</td>\n",
       "      <td>0.283328</td>\n",
       "      <td>7255.750</td>\n",
       "      <td>5828.6885</td>\n",
       "      <td>-2.251715</td>\n",
       "      <td>283.76090</td>\n",
       "      <td>10.046288</td>\n",
       "      <td>0.007807</td>\n",
       "    </tr>\n",
       "    <tr>\n",
       "      <th>2018-01-01 04:00:00</th>\n",
       "      <td>0.132475</td>\n",
       "      <td>12.672207</td>\n",
       "      <td>192.72789</td>\n",
       "      <td>10050.9120</td>\n",
       "      <td>285.96360</td>\n",
       "      <td>0.002314</td>\n",
       "      <td>266.30140</td>\n",
       "      <td>-0.108732</td>\n",
       "      <td>100791.80</td>\n",
       "      <td>5.884082</td>\n",
       "      <td>...</td>\n",
       "      <td>1514.8696</td>\n",
       "      <td>283.87558</td>\n",
       "      <td>0.213028</td>\n",
       "      <td>0.169195</td>\n",
       "      <td>7256.080</td>\n",
       "      <td>5828.3154</td>\n",
       "      <td>-1.790147</td>\n",
       "      <td>283.66614</td>\n",
       "      <td>9.330713</td>\n",
       "      <td>0.007804</td>\n",
       "    </tr>\n",
       "  </tbody>\n",
       "</table>\n",
       "<p>5 rows × 39 columns</p>\n",
       "</div>"
      ]
     },
     "execution_count": 233,
     "metadata": {},
     "output_type": "execute_result"
    }
   ],
   "execution_count": 233
  },
  {
   "cell_type": "code",
   "metadata": {
    "ExecuteTime": {
     "end_time": "2024-12-17T15:41:06.491184Z",
     "start_time": "2024-12-17T15:41:06.487958Z"
    }
   },
   "source": [
    "df.columns"
   ],
   "outputs": [
    {
     "data": {
      "text/plain": [
       "Index(['U2M', 'V250', 'TROPT', 'TROPPB', 'T2M', 'TQL', 'T500', 'U850', 'PS',\n",
       "       'V850', 'H250', 'Q250', 'T2MDEW', 'V50M', 'Q500', 'DISPH', 'H1000',\n",
       "       'TS', 'T10M', 'TROPPT', 'SLP', 'U250', 'Q850', 'ZLCL', 'TQV', 'V2M',\n",
       "       'T250', 'TROPQ', 'V10M', 'H850', 'T850', 'U50M', 'U10M', 'TROPPV',\n",
       "       'H500', 'V500', 'T2MWET', 'U500', 'QV10M'],\n",
       "      dtype='object')"
      ]
     },
     "execution_count": 234,
     "metadata": {},
     "output_type": "execute_result"
    }
   ],
   "execution_count": 234
  },
  {
   "cell_type": "code",
   "metadata": {
    "ExecuteTime": {
     "end_time": "2024-12-17T15:41:06.710001Z",
     "start_time": "2024-12-17T15:41:06.643794Z"
    }
   },
   "source": [
    "df.describe()"
   ],
   "outputs": [
    {
     "data": {
      "text/plain": [
       "               U2M         V250        TROPT        TROPPB          T2M  \\\n",
       "count  8483.000000  8483.000000  8483.000000   8483.000000  8483.000000   \n",
       "mean     -0.661194     0.911338   192.983228   9874.836900   296.432677   \n",
       "std       1.022452     7.235232     2.459432   1055.276131     6.134071   \n",
       "min      -5.820403   -24.197369   184.202580   7255.293000   275.719970   \n",
       "25%      -1.263075    -3.923812   191.382130   8735.479000   292.590985   \n",
       "50%      -0.678653     0.018114   192.955900  10051.172000   297.864900   \n",
       "75%      -0.086650     5.154851   194.554450  10052.314000   300.669405   \n",
       "max       3.647237    28.693241   207.632840  14726.783000   309.323800   \n",
       "\n",
       "               TQL         T500         U850             PS         V850  ...  \\\n",
       "count  8483.000000  8483.000000  8483.000000    8483.000000  8483.000000  ...   \n",
       "mean      0.080424   268.319280     0.650805  100073.794543     1.204573  ...   \n",
       "std       0.083286     2.165962     4.702194     734.635678     4.222000  ...   \n",
       "min       0.000000   258.809420   -22.636606   98338.780000   -17.767721  ...   \n",
       "25%       0.012516   266.953430    -2.512539   99431.925000    -1.230508  ...   \n",
       "50%       0.055450   268.411380     0.655021  100131.125000     1.752397  ...   \n",
       "75%       0.121292   270.076035     3.664199  100565.390000     3.917061  ...   \n",
       "max       0.451294   272.917000    21.900370  102189.990000    14.195785  ...   \n",
       "\n",
       "              H850         T850         U50M         U10M        TROPPV  \\\n",
       "count  8483.000000  8483.000000  8483.000000  8483.000000   8483.000000   \n",
       "mean   1498.307756   289.649016    -1.421893    -0.978380   8695.439796   \n",
       "std      39.089350     4.745890     2.253938     1.502244   1091.511613   \n",
       "min    1367.254400   271.759030   -11.224982    -8.524143   6149.086000   \n",
       "25%    1470.055150   287.306015    -2.895601    -1.876319   8104.948150   \n",
       "50%    1504.329500   290.681700    -1.665551    -1.138683   8544.076000   \n",
       "75%    1527.514700   293.126145    -0.180966    -0.146952   9564.690750   \n",
       "max    1588.751800   297.514160     7.377525     5.157908  14727.668000   \n",
       "\n",
       "              H500         V500       T2MWET         U500        QV10M  \n",
       "count  8483.000000  8483.000000  8483.000000  8483.000000  8483.000000  \n",
       "mean   5853.869860     1.205586   293.377792     7.558238     0.015139  \n",
       "std      26.150734     4.703001     5.855006     8.829429     0.004645  \n",
       "min    5744.518000   -16.558525   271.761080   -22.920101     0.002889  \n",
       "25%    5836.291500    -1.708599   290.466200     1.127894     0.011993  \n",
       "50%    5853.969000     1.083833   295.096560     7.797653     0.016063  \n",
       "75%    5873.187500     4.363369   298.027035    13.789646     0.019173  \n",
       "max    5925.305700    19.502840   301.152130    31.799278     0.022890  \n",
       "\n",
       "[8 rows x 39 columns]"
      ],
      "text/html": [
       "<div>\n",
       "<style scoped>\n",
       "    .dataframe tbody tr th:only-of-type {\n",
       "        vertical-align: middle;\n",
       "    }\n",
       "\n",
       "    .dataframe tbody tr th {\n",
       "        vertical-align: top;\n",
       "    }\n",
       "\n",
       "    .dataframe thead th {\n",
       "        text-align: right;\n",
       "    }\n",
       "</style>\n",
       "<table border=\"1\" class=\"dataframe\">\n",
       "  <thead>\n",
       "    <tr style=\"text-align: right;\">\n",
       "      <th></th>\n",
       "      <th>U2M</th>\n",
       "      <th>V250</th>\n",
       "      <th>TROPT</th>\n",
       "      <th>TROPPB</th>\n",
       "      <th>T2M</th>\n",
       "      <th>TQL</th>\n",
       "      <th>T500</th>\n",
       "      <th>U850</th>\n",
       "      <th>PS</th>\n",
       "      <th>V850</th>\n",
       "      <th>...</th>\n",
       "      <th>H850</th>\n",
       "      <th>T850</th>\n",
       "      <th>U50M</th>\n",
       "      <th>U10M</th>\n",
       "      <th>TROPPV</th>\n",
       "      <th>H500</th>\n",
       "      <th>V500</th>\n",
       "      <th>T2MWET</th>\n",
       "      <th>U500</th>\n",
       "      <th>QV10M</th>\n",
       "    </tr>\n",
       "  </thead>\n",
       "  <tbody>\n",
       "    <tr>\n",
       "      <th>count</th>\n",
       "      <td>8483.000000</td>\n",
       "      <td>8483.000000</td>\n",
       "      <td>8483.000000</td>\n",
       "      <td>8483.000000</td>\n",
       "      <td>8483.000000</td>\n",
       "      <td>8483.000000</td>\n",
       "      <td>8483.000000</td>\n",
       "      <td>8483.000000</td>\n",
       "      <td>8483.000000</td>\n",
       "      <td>8483.000000</td>\n",
       "      <td>...</td>\n",
       "      <td>8483.000000</td>\n",
       "      <td>8483.000000</td>\n",
       "      <td>8483.000000</td>\n",
       "      <td>8483.000000</td>\n",
       "      <td>8483.000000</td>\n",
       "      <td>8483.000000</td>\n",
       "      <td>8483.000000</td>\n",
       "      <td>8483.000000</td>\n",
       "      <td>8483.000000</td>\n",
       "      <td>8483.000000</td>\n",
       "    </tr>\n",
       "    <tr>\n",
       "      <th>mean</th>\n",
       "      <td>-0.661194</td>\n",
       "      <td>0.911338</td>\n",
       "      <td>192.983228</td>\n",
       "      <td>9874.836900</td>\n",
       "      <td>296.432677</td>\n",
       "      <td>0.080424</td>\n",
       "      <td>268.319280</td>\n",
       "      <td>0.650805</td>\n",
       "      <td>100073.794543</td>\n",
       "      <td>1.204573</td>\n",
       "      <td>...</td>\n",
       "      <td>1498.307756</td>\n",
       "      <td>289.649016</td>\n",
       "      <td>-1.421893</td>\n",
       "      <td>-0.978380</td>\n",
       "      <td>8695.439796</td>\n",
       "      <td>5853.869860</td>\n",
       "      <td>1.205586</td>\n",
       "      <td>293.377792</td>\n",
       "      <td>7.558238</td>\n",
       "      <td>0.015139</td>\n",
       "    </tr>\n",
       "    <tr>\n",
       "      <th>std</th>\n",
       "      <td>1.022452</td>\n",
       "      <td>7.235232</td>\n",
       "      <td>2.459432</td>\n",
       "      <td>1055.276131</td>\n",
       "      <td>6.134071</td>\n",
       "      <td>0.083286</td>\n",
       "      <td>2.165962</td>\n",
       "      <td>4.702194</td>\n",
       "      <td>734.635678</td>\n",
       "      <td>4.222000</td>\n",
       "      <td>...</td>\n",
       "      <td>39.089350</td>\n",
       "      <td>4.745890</td>\n",
       "      <td>2.253938</td>\n",
       "      <td>1.502244</td>\n",
       "      <td>1091.511613</td>\n",
       "      <td>26.150734</td>\n",
       "      <td>4.703001</td>\n",
       "      <td>5.855006</td>\n",
       "      <td>8.829429</td>\n",
       "      <td>0.004645</td>\n",
       "    </tr>\n",
       "    <tr>\n",
       "      <th>min</th>\n",
       "      <td>-5.820403</td>\n",
       "      <td>-24.197369</td>\n",
       "      <td>184.202580</td>\n",
       "      <td>7255.293000</td>\n",
       "      <td>275.719970</td>\n",
       "      <td>0.000000</td>\n",
       "      <td>258.809420</td>\n",
       "      <td>-22.636606</td>\n",
       "      <td>98338.780000</td>\n",
       "      <td>-17.767721</td>\n",
       "      <td>...</td>\n",
       "      <td>1367.254400</td>\n",
       "      <td>271.759030</td>\n",
       "      <td>-11.224982</td>\n",
       "      <td>-8.524143</td>\n",
       "      <td>6149.086000</td>\n",
       "      <td>5744.518000</td>\n",
       "      <td>-16.558525</td>\n",
       "      <td>271.761080</td>\n",
       "      <td>-22.920101</td>\n",
       "      <td>0.002889</td>\n",
       "    </tr>\n",
       "    <tr>\n",
       "      <th>25%</th>\n",
       "      <td>-1.263075</td>\n",
       "      <td>-3.923812</td>\n",
       "      <td>191.382130</td>\n",
       "      <td>8735.479000</td>\n",
       "      <td>292.590985</td>\n",
       "      <td>0.012516</td>\n",
       "      <td>266.953430</td>\n",
       "      <td>-2.512539</td>\n",
       "      <td>99431.925000</td>\n",
       "      <td>-1.230508</td>\n",
       "      <td>...</td>\n",
       "      <td>1470.055150</td>\n",
       "      <td>287.306015</td>\n",
       "      <td>-2.895601</td>\n",
       "      <td>-1.876319</td>\n",
       "      <td>8104.948150</td>\n",
       "      <td>5836.291500</td>\n",
       "      <td>-1.708599</td>\n",
       "      <td>290.466200</td>\n",
       "      <td>1.127894</td>\n",
       "      <td>0.011993</td>\n",
       "    </tr>\n",
       "    <tr>\n",
       "      <th>50%</th>\n",
       "      <td>-0.678653</td>\n",
       "      <td>0.018114</td>\n",
       "      <td>192.955900</td>\n",
       "      <td>10051.172000</td>\n",
       "      <td>297.864900</td>\n",
       "      <td>0.055450</td>\n",
       "      <td>268.411380</td>\n",
       "      <td>0.655021</td>\n",
       "      <td>100131.125000</td>\n",
       "      <td>1.752397</td>\n",
       "      <td>...</td>\n",
       "      <td>1504.329500</td>\n",
       "      <td>290.681700</td>\n",
       "      <td>-1.665551</td>\n",
       "      <td>-1.138683</td>\n",
       "      <td>8544.076000</td>\n",
       "      <td>5853.969000</td>\n",
       "      <td>1.083833</td>\n",
       "      <td>295.096560</td>\n",
       "      <td>7.797653</td>\n",
       "      <td>0.016063</td>\n",
       "    </tr>\n",
       "    <tr>\n",
       "      <th>75%</th>\n",
       "      <td>-0.086650</td>\n",
       "      <td>5.154851</td>\n",
       "      <td>194.554450</td>\n",
       "      <td>10052.314000</td>\n",
       "      <td>300.669405</td>\n",
       "      <td>0.121292</td>\n",
       "      <td>270.076035</td>\n",
       "      <td>3.664199</td>\n",
       "      <td>100565.390000</td>\n",
       "      <td>3.917061</td>\n",
       "      <td>...</td>\n",
       "      <td>1527.514700</td>\n",
       "      <td>293.126145</td>\n",
       "      <td>-0.180966</td>\n",
       "      <td>-0.146952</td>\n",
       "      <td>9564.690750</td>\n",
       "      <td>5873.187500</td>\n",
       "      <td>4.363369</td>\n",
       "      <td>298.027035</td>\n",
       "      <td>13.789646</td>\n",
       "      <td>0.019173</td>\n",
       "    </tr>\n",
       "    <tr>\n",
       "      <th>max</th>\n",
       "      <td>3.647237</td>\n",
       "      <td>28.693241</td>\n",
       "      <td>207.632840</td>\n",
       "      <td>14726.783000</td>\n",
       "      <td>309.323800</td>\n",
       "      <td>0.451294</td>\n",
       "      <td>272.917000</td>\n",
       "      <td>21.900370</td>\n",
       "      <td>102189.990000</td>\n",
       "      <td>14.195785</td>\n",
       "      <td>...</td>\n",
       "      <td>1588.751800</td>\n",
       "      <td>297.514160</td>\n",
       "      <td>7.377525</td>\n",
       "      <td>5.157908</td>\n",
       "      <td>14727.668000</td>\n",
       "      <td>5925.305700</td>\n",
       "      <td>19.502840</td>\n",
       "      <td>301.152130</td>\n",
       "      <td>31.799278</td>\n",
       "      <td>0.022890</td>\n",
       "    </tr>\n",
       "  </tbody>\n",
       "</table>\n",
       "<p>8 rows × 39 columns</p>\n",
       "</div>"
      ]
     },
     "execution_count": 235,
     "metadata": {},
     "output_type": "execute_result"
    }
   ],
   "execution_count": 235
  },
  {
   "cell_type": "markdown",
   "metadata": {},
   "source": [
    "## reading netCDF4\n",
    "- let see the standard name by reading metadata using netCDF"
   ]
  },
  {
   "cell_type": "code",
   "metadata": {
    "ExecuteTime": {
     "end_time": "2024-12-17T15:41:06.833301Z",
     "start_time": "2024-12-17T15:41:06.830977Z"
    }
   },
   "source": [
    "import netCDF4 as nc"
   ],
   "outputs": [],
   "execution_count": 236
  },
  {
   "cell_type": "code",
   "metadata": {
    "ExecuteTime": {
     "end_time": "2024-12-17T15:41:07.033688Z",
     "start_time": "2024-12-17T15:41:07.020578Z"
    }
   },
   "source": [
    "ds = nc.Dataset('data/nc4/MERRA2_400.tavg1_2d_slv_Nx.20180722.nc4')"
   ],
   "outputs": [],
   "execution_count": 237
  },
  {
   "cell_type": "code",
   "metadata": {
    "ExecuteTime": {
     "end_time": "2024-12-17T15:41:07.170621Z",
     "start_time": "2024-12-17T15:41:07.165002Z"
    }
   },
   "source": [
    "name_ = dict()\n",
    "for k in ds.variables.keys():\n",
    "    name_[k] = f'{ds.variables[k].standard_name}, {ds.variables[k].units}'\n",
    "name_ "
   ],
   "outputs": [
    {
     "data": {
      "text/plain": [
       "{'U2M': '2-meter_eastward_wind, m s-1',\n",
       " 'V250': 'northward_wind_at_250_hPa, m s-1',\n",
       " 'TROPT': 'tropopause_temperature_using_blended_TROPP_estimate, K',\n",
       " 'TROPPB': 'tropopause_pressure_based_on_blended_estimate, Pa',\n",
       " 'T2M': '2-meter_air_temperature, K',\n",
       " 'TQL': 'total_precipitable_liquid_water, kg m-2',\n",
       " 'T500': 'air_temperature_at_500_hPa, K',\n",
       " 'U850': 'eastward_wind_at_850_hPa, m s-1',\n",
       " 'PS': 'surface_pressure, Pa',\n",
       " 'V850': 'northward_wind_at_850_hPa, m s-1',\n",
       " 'H250': 'height_at_250_hPa, m',\n",
       " 'Q250': 'specific_humidity_at_250_hPa, kg kg-1',\n",
       " 'T2MDEW': 'dew_point_temperature_at_2_m, K',\n",
       " 'V50M': 'northward_wind_at_50_meters, m s-1',\n",
       " 'Q500': 'specific_humidity_at_500_hPa, kg kg-1',\n",
       " 'DISPH': 'zero_plane_displacement_height, m',\n",
       " 'H1000': 'height_at_1000_mb, m',\n",
       " 'TS': 'surface_skin_temperature, K',\n",
       " 'T10M': '10-meter_air_temperature, K',\n",
       " 'TROPPT': 'tropopause_pressure_based_on_thermal_estimate, Pa',\n",
       " 'SLP': 'sea_level_pressure, Pa',\n",
       " 'U250': 'eastward_wind_at_250_hPa, m s-1',\n",
       " 'Q850': 'specific_humidity_at_850_hPa, kg kg-1',\n",
       " 'ZLCL': 'lifting_condensation_level, m',\n",
       " 'TQV': 'total_precipitable_water_vapor, kg m-2',\n",
       " 'V2M': '2-meter_northward_wind, m s-1',\n",
       " 'T250': 'air_temperature_at_250_hPa, K',\n",
       " 'TROPQ': 'tropopause_specific_humidity_using_blended_TROPP_estimate, kg kg-1',\n",
       " 'V10M': '10-meter_northward_wind, m s-1',\n",
       " 'H850': 'height_at_850_hPa, m',\n",
       " 'T850': 'air_temperature_at_850_hPa, K',\n",
       " 'U50M': 'eastward_wind_at_50_meters, m s-1',\n",
       " 'U10M': '10-meter_eastward_wind, m s-1',\n",
       " 'TROPPV': 'tropopause_pressure_based_on_EPV_estimate, Pa',\n",
       " 'H500': 'height_at_500_hPa, m',\n",
       " 'V500': 'northward_wind_at_500_hPa, m s-1',\n",
       " 'T2MWET': 'wet_bulb_temperature_at_2_m, K',\n",
       " 'U500': 'eastward_wind_at_500_hPa, m s-1',\n",
       " 'QV10M': '10-meter_specific_humidity, kg kg-1'}"
      ]
     },
     "execution_count": 238,
     "metadata": {},
     "output_type": "execute_result"
    }
   ],
   "execution_count": 238
  },
  {
   "cell_type": "code",
   "metadata": {
    "ExecuteTime": {
     "end_time": "2024-12-17T15:41:07.305847Z",
     "start_time": "2024-12-17T15:41:07.301426Z"
    }
   },
   "source": [
    "# select data of wind only\n",
    "wind_cols = list()\n",
    "for k, v in name_.items():\n",
    "    if 'wind' in v:\n",
    "        print(k,v)\n",
    "        wind_cols.append(k)\n",
    "wind_cols"
   ],
   "outputs": [
    {
     "name": "stdout",
     "output_type": "stream",
     "text": [
      "U2M 2-meter_eastward_wind, m s-1\n",
      "V250 northward_wind_at_250_hPa, m s-1\n",
      "U850 eastward_wind_at_850_hPa, m s-1\n",
      "V850 northward_wind_at_850_hPa, m s-1\n",
      "V50M northward_wind_at_50_meters, m s-1\n",
      "U250 eastward_wind_at_250_hPa, m s-1\n",
      "V2M 2-meter_northward_wind, m s-1\n",
      "V10M 10-meter_northward_wind, m s-1\n",
      "U50M eastward_wind_at_50_meters, m s-1\n",
      "U10M 10-meter_eastward_wind, m s-1\n",
      "V500 northward_wind_at_500_hPa, m s-1\n",
      "U500 eastward_wind_at_500_hPa, m s-1\n"
     ]
    },
    {
     "data": {
      "text/plain": [
       "['U2M',\n",
       " 'V250',\n",
       " 'U850',\n",
       " 'V850',\n",
       " 'V50M',\n",
       " 'U250',\n",
       " 'V2M',\n",
       " 'V10M',\n",
       " 'U50M',\n",
       " 'U10M',\n",
       " 'V500',\n",
       " 'U500']"
      ]
     },
     "execution_count": 239,
     "metadata": {},
     "output_type": "execute_result"
    }
   ],
   "execution_count": 239
  },
  {
   "cell_type": "code",
   "metadata": {
    "ExecuteTime": {
     "end_time": "2024-12-17T15:41:07.586724Z",
     "start_time": "2024-12-17T15:41:07.554239Z"
    }
   },
   "source": [
    "# all columns to wind\n",
    "# let hold off question about what is this wind data, a short answer is that is winds in different altitudes\n",
    "df[wind_cols].describe()"
   ],
   "outputs": [
    {
     "data": {
      "text/plain": [
       "               U2M         V250         U850         V850         V50M  \\\n",
       "count  8483.000000  8483.000000  8483.000000  8483.000000  8483.000000   \n",
       "mean     -0.661194     0.911338     0.650805     1.204573     0.827948   \n",
       "std       1.022452     7.235232     4.702194     4.222000     3.357065   \n",
       "min      -5.820403   -24.197369   -22.636606   -17.767721   -10.803814   \n",
       "25%      -1.263075    -3.923812    -2.512539    -1.230508    -1.804140   \n",
       "50%      -0.678653     0.018114     0.655021     1.752397     1.389059   \n",
       "75%      -0.086650     5.154851     3.664199     3.917061     3.515750   \n",
       "max       3.647237    28.693241    21.900370    14.195785     8.654327   \n",
       "\n",
       "              U250          V2M         V10M         U50M         U10M  \\\n",
       "count  8483.000000  8483.000000  8483.000000  8483.000000  8483.000000   \n",
       "mean     12.517031     0.278457     0.455033    -1.421893    -0.978380   \n",
       "std      16.789135     1.555940     2.270334     2.253938     1.502244   \n",
       "min     -25.246635    -5.911692    -8.217997   -11.224982    -8.524143   \n",
       "25%      -3.606235    -0.749631    -1.253041    -2.895601    -1.876319   \n",
       "50%      13.254944     0.520839     0.915810    -1.665551    -1.138683   \n",
       "75%      27.017761     1.236187     2.029492    -0.180966    -0.146952   \n",
       "max      54.048200     5.089890     6.895058     7.377525     5.157908   \n",
       "\n",
       "              V500         U500  \n",
       "count  8483.000000  8483.000000  \n",
       "mean      1.205586     7.558238  \n",
       "std       4.703001     8.829429  \n",
       "min     -16.558525   -22.920101  \n",
       "25%      -1.708599     1.127894  \n",
       "50%       1.083833     7.797653  \n",
       "75%       4.363369    13.789646  \n",
       "max      19.502840    31.799278  "
      ],
      "text/html": [
       "<div>\n",
       "<style scoped>\n",
       "    .dataframe tbody tr th:only-of-type {\n",
       "        vertical-align: middle;\n",
       "    }\n",
       "\n",
       "    .dataframe tbody tr th {\n",
       "        vertical-align: top;\n",
       "    }\n",
       "\n",
       "    .dataframe thead th {\n",
       "        text-align: right;\n",
       "    }\n",
       "</style>\n",
       "<table border=\"1\" class=\"dataframe\">\n",
       "  <thead>\n",
       "    <tr style=\"text-align: right;\">\n",
       "      <th></th>\n",
       "      <th>U2M</th>\n",
       "      <th>V250</th>\n",
       "      <th>U850</th>\n",
       "      <th>V850</th>\n",
       "      <th>V50M</th>\n",
       "      <th>U250</th>\n",
       "      <th>V2M</th>\n",
       "      <th>V10M</th>\n",
       "      <th>U50M</th>\n",
       "      <th>U10M</th>\n",
       "      <th>V500</th>\n",
       "      <th>U500</th>\n",
       "    </tr>\n",
       "  </thead>\n",
       "  <tbody>\n",
       "    <tr>\n",
       "      <th>count</th>\n",
       "      <td>8483.000000</td>\n",
       "      <td>8483.000000</td>\n",
       "      <td>8483.000000</td>\n",
       "      <td>8483.000000</td>\n",
       "      <td>8483.000000</td>\n",
       "      <td>8483.000000</td>\n",
       "      <td>8483.000000</td>\n",
       "      <td>8483.000000</td>\n",
       "      <td>8483.000000</td>\n",
       "      <td>8483.000000</td>\n",
       "      <td>8483.000000</td>\n",
       "      <td>8483.000000</td>\n",
       "    </tr>\n",
       "    <tr>\n",
       "      <th>mean</th>\n",
       "      <td>-0.661194</td>\n",
       "      <td>0.911338</td>\n",
       "      <td>0.650805</td>\n",
       "      <td>1.204573</td>\n",
       "      <td>0.827948</td>\n",
       "      <td>12.517031</td>\n",
       "      <td>0.278457</td>\n",
       "      <td>0.455033</td>\n",
       "      <td>-1.421893</td>\n",
       "      <td>-0.978380</td>\n",
       "      <td>1.205586</td>\n",
       "      <td>7.558238</td>\n",
       "    </tr>\n",
       "    <tr>\n",
       "      <th>std</th>\n",
       "      <td>1.022452</td>\n",
       "      <td>7.235232</td>\n",
       "      <td>4.702194</td>\n",
       "      <td>4.222000</td>\n",
       "      <td>3.357065</td>\n",
       "      <td>16.789135</td>\n",
       "      <td>1.555940</td>\n",
       "      <td>2.270334</td>\n",
       "      <td>2.253938</td>\n",
       "      <td>1.502244</td>\n",
       "      <td>4.703001</td>\n",
       "      <td>8.829429</td>\n",
       "    </tr>\n",
       "    <tr>\n",
       "      <th>min</th>\n",
       "      <td>-5.820403</td>\n",
       "      <td>-24.197369</td>\n",
       "      <td>-22.636606</td>\n",
       "      <td>-17.767721</td>\n",
       "      <td>-10.803814</td>\n",
       "      <td>-25.246635</td>\n",
       "      <td>-5.911692</td>\n",
       "      <td>-8.217997</td>\n",
       "      <td>-11.224982</td>\n",
       "      <td>-8.524143</td>\n",
       "      <td>-16.558525</td>\n",
       "      <td>-22.920101</td>\n",
       "    </tr>\n",
       "    <tr>\n",
       "      <th>25%</th>\n",
       "      <td>-1.263075</td>\n",
       "      <td>-3.923812</td>\n",
       "      <td>-2.512539</td>\n",
       "      <td>-1.230508</td>\n",
       "      <td>-1.804140</td>\n",
       "      <td>-3.606235</td>\n",
       "      <td>-0.749631</td>\n",
       "      <td>-1.253041</td>\n",
       "      <td>-2.895601</td>\n",
       "      <td>-1.876319</td>\n",
       "      <td>-1.708599</td>\n",
       "      <td>1.127894</td>\n",
       "    </tr>\n",
       "    <tr>\n",
       "      <th>50%</th>\n",
       "      <td>-0.678653</td>\n",
       "      <td>0.018114</td>\n",
       "      <td>0.655021</td>\n",
       "      <td>1.752397</td>\n",
       "      <td>1.389059</td>\n",
       "      <td>13.254944</td>\n",
       "      <td>0.520839</td>\n",
       "      <td>0.915810</td>\n",
       "      <td>-1.665551</td>\n",
       "      <td>-1.138683</td>\n",
       "      <td>1.083833</td>\n",
       "      <td>7.797653</td>\n",
       "    </tr>\n",
       "    <tr>\n",
       "      <th>75%</th>\n",
       "      <td>-0.086650</td>\n",
       "      <td>5.154851</td>\n",
       "      <td>3.664199</td>\n",
       "      <td>3.917061</td>\n",
       "      <td>3.515750</td>\n",
       "      <td>27.017761</td>\n",
       "      <td>1.236187</td>\n",
       "      <td>2.029492</td>\n",
       "      <td>-0.180966</td>\n",
       "      <td>-0.146952</td>\n",
       "      <td>4.363369</td>\n",
       "      <td>13.789646</td>\n",
       "    </tr>\n",
       "    <tr>\n",
       "      <th>max</th>\n",
       "      <td>3.647237</td>\n",
       "      <td>28.693241</td>\n",
       "      <td>21.900370</td>\n",
       "      <td>14.195785</td>\n",
       "      <td>8.654327</td>\n",
       "      <td>54.048200</td>\n",
       "      <td>5.089890</td>\n",
       "      <td>6.895058</td>\n",
       "      <td>7.377525</td>\n",
       "      <td>5.157908</td>\n",
       "      <td>19.502840</td>\n",
       "      <td>31.799278</td>\n",
       "    </tr>\n",
       "  </tbody>\n",
       "</table>\n",
       "</div>"
      ]
     },
     "execution_count": 240,
     "metadata": {},
     "output_type": "execute_result"
    }
   ],
   "execution_count": 240
  },
  {
   "cell_type": "code",
   "metadata": {
    "ExecuteTime": {
     "end_time": "2024-12-17T15:41:07.677924Z",
     "start_time": "2024-12-17T15:41:07.672278Z"
    }
   },
   "source": [
    "# let start more, 2M wind with V and U components (wind at 2m from the ground)\n",
    "dfw = df[['V2M', 'U2M']]\n",
    "dfw.head()"
   ],
   "outputs": [
    {
     "data": {
      "text/plain": [
       "                          V2M       U2M\n",
       "time                                   \n",
       "2018-01-01 00:00:00  0.507052  0.023183\n",
       "2018-01-01 01:00:00  0.384886  0.189619\n",
       "2018-01-01 02:00:00  0.296402  0.243190\n",
       "2018-01-01 03:00:00  0.277474  0.195083\n",
       "2018-01-01 04:00:00  0.275675  0.132475"
      ],
      "text/html": [
       "<div>\n",
       "<style scoped>\n",
       "    .dataframe tbody tr th:only-of-type {\n",
       "        vertical-align: middle;\n",
       "    }\n",
       "\n",
       "    .dataframe tbody tr th {\n",
       "        vertical-align: top;\n",
       "    }\n",
       "\n",
       "    .dataframe thead th {\n",
       "        text-align: right;\n",
       "    }\n",
       "</style>\n",
       "<table border=\"1\" class=\"dataframe\">\n",
       "  <thead>\n",
       "    <tr style=\"text-align: right;\">\n",
       "      <th></th>\n",
       "      <th>V2M</th>\n",
       "      <th>U2M</th>\n",
       "    </tr>\n",
       "    <tr>\n",
       "      <th>time</th>\n",
       "      <th></th>\n",
       "      <th></th>\n",
       "    </tr>\n",
       "  </thead>\n",
       "  <tbody>\n",
       "    <tr>\n",
       "      <th>2018-01-01 00:00:00</th>\n",
       "      <td>0.507052</td>\n",
       "      <td>0.023183</td>\n",
       "    </tr>\n",
       "    <tr>\n",
       "      <th>2018-01-01 01:00:00</th>\n",
       "      <td>0.384886</td>\n",
       "      <td>0.189619</td>\n",
       "    </tr>\n",
       "    <tr>\n",
       "      <th>2018-01-01 02:00:00</th>\n",
       "      <td>0.296402</td>\n",
       "      <td>0.243190</td>\n",
       "    </tr>\n",
       "    <tr>\n",
       "      <th>2018-01-01 03:00:00</th>\n",
       "      <td>0.277474</td>\n",
       "      <td>0.195083</td>\n",
       "    </tr>\n",
       "    <tr>\n",
       "      <th>2018-01-01 04:00:00</th>\n",
       "      <td>0.275675</td>\n",
       "      <td>0.132475</td>\n",
       "    </tr>\n",
       "  </tbody>\n",
       "</table>\n",
       "</div>"
      ]
     },
     "execution_count": 241,
     "metadata": {},
     "output_type": "execute_result"
    }
   ],
   "execution_count": 241
  },
  {
   "cell_type": "markdown",
   "metadata": {},
   "source": [
    "## Working with wind data"
   ]
  },
  {
   "cell_type": "markdown",
   "metadata": {},
   "source": [
    "- a good place to start with wind data in MERRA-2 is from this [post on MERRA-2 wind](https://disc.gsfc.nasa.gov/information/data-in-action?title=Derive%20Wind%20Speed%20and%20Direction%20With%20MERRA-2%20Wind%20Components)\n",
    "- in short, instead of giving wind data in speed (m/s) and angle (in degree with zero to 360, or main directiton such as North-East), in which zero degree is northerly wind or the wind blows from north to the south\n",
    "- report wind data in degree due North is called azimuth degrees or [cardinal directions](https://en.wikipedia.org/wiki/Wind_direction). If you look back at SLV data, in original format, wind data is with U,V components\n",
    "\n",
    "![wind vector](img/windspeed-diagram.png)"
   ]
  },
  {
   "cell_type": "markdown",
   "metadata": {},
   "source": [
    "**conversion**\n",
    "\n",
    "- wind speed is simple from U, V vectors\n",
    "$$ ws = \\sqrt{u^2 + v^2}$$\n",
    "\n",
    "- angle is more complex:\n",
    "$$ wd = arctan(v/u)$$ except when v = 0, luckily in numpy package, the `arctan2` will take care of zero values. The output is in radian, not in degree\n",
    "\n",
    "- and also, if wind data is presented in speed (m/s) and angle (in degree due North), then \n",
    "    - U = -ws*sin(direction in radians)\n",
    "    - and V = -ws.cost(direction in radians)\n",
    "    - more about equation is in [ucar.edu](https://www.eol.ucar.edu/content/wind-direction-quick-reference)"
   ]
  },
  {
   "cell_type": "markdown",
   "metadata": {},
   "source": [
    "## Manual calculate"
   ]
  },
  {
   "cell_type": "code",
   "metadata": {
    "ExecuteTime": {
     "end_time": "2024-12-17T15:41:07.877339Z",
     "start_time": "2024-12-17T15:41:07.793441Z"
    }
   },
   "source": [
    "# wind speed is easy\n",
    "dfw['ws'] = dfw.apply(lambda row: np.sqrt(row['V2M']**2 + row['U2M']**2), axis=1)\n",
    "dfw.head()"
   ],
   "outputs": [
    {
     "data": {
      "text/plain": [
       "                          V2M       U2M        ws\n",
       "time                                             \n",
       "2018-01-01 00:00:00  0.507052  0.023183  0.507582\n",
       "2018-01-01 01:00:00  0.384886  0.189619  0.429060\n",
       "2018-01-01 02:00:00  0.296402  0.243190  0.383400\n",
       "2018-01-01 03:00:00  0.277474  0.195083  0.339189\n",
       "2018-01-01 04:00:00  0.275675  0.132475  0.305853"
      ],
      "text/html": [
       "<div>\n",
       "<style scoped>\n",
       "    .dataframe tbody tr th:only-of-type {\n",
       "        vertical-align: middle;\n",
       "    }\n",
       "\n",
       "    .dataframe tbody tr th {\n",
       "        vertical-align: top;\n",
       "    }\n",
       "\n",
       "    .dataframe thead th {\n",
       "        text-align: right;\n",
       "    }\n",
       "</style>\n",
       "<table border=\"1\" class=\"dataframe\">\n",
       "  <thead>\n",
       "    <tr style=\"text-align: right;\">\n",
       "      <th></th>\n",
       "      <th>V2M</th>\n",
       "      <th>U2M</th>\n",
       "      <th>ws</th>\n",
       "    </tr>\n",
       "    <tr>\n",
       "      <th>time</th>\n",
       "      <th></th>\n",
       "      <th></th>\n",
       "      <th></th>\n",
       "    </tr>\n",
       "  </thead>\n",
       "  <tbody>\n",
       "    <tr>\n",
       "      <th>2018-01-01 00:00:00</th>\n",
       "      <td>0.507052</td>\n",
       "      <td>0.023183</td>\n",
       "      <td>0.507582</td>\n",
       "    </tr>\n",
       "    <tr>\n",
       "      <th>2018-01-01 01:00:00</th>\n",
       "      <td>0.384886</td>\n",
       "      <td>0.189619</td>\n",
       "      <td>0.429060</td>\n",
       "    </tr>\n",
       "    <tr>\n",
       "      <th>2018-01-01 02:00:00</th>\n",
       "      <td>0.296402</td>\n",
       "      <td>0.243190</td>\n",
       "      <td>0.383400</td>\n",
       "    </tr>\n",
       "    <tr>\n",
       "      <th>2018-01-01 03:00:00</th>\n",
       "      <td>0.277474</td>\n",
       "      <td>0.195083</td>\n",
       "      <td>0.339189</td>\n",
       "    </tr>\n",
       "    <tr>\n",
       "      <th>2018-01-01 04:00:00</th>\n",
       "      <td>0.275675</td>\n",
       "      <td>0.132475</td>\n",
       "      <td>0.305853</td>\n",
       "    </tr>\n",
       "  </tbody>\n",
       "</table>\n",
       "</div>"
      ]
     },
     "execution_count": 242,
     "metadata": {},
     "output_type": "execute_result"
    }
   ],
   "execution_count": 242
  },
  {
   "cell_type": "code",
   "metadata": {
    "ExecuteTime": {
     "end_time": "2024-12-17T15:41:08.113144Z",
     "start_time": "2024-12-17T15:41:08.044661Z"
    }
   },
   "source": [
    "# to convert to direction (in degree), it is more complext\n",
    "dfw['deg'] = dfw.apply(lambda row: ((180/np.pi)*np.arctan2(row['U2M'], row['V2M']))%360, axis=1)\n",
    "dfw.head()"
   ],
   "outputs": [
    {
     "data": {
      "text/plain": [
       "                          V2M       U2M        ws        deg\n",
       "time                                                        \n",
       "2018-01-01 00:00:00  0.507052  0.023183  0.507582   2.617815\n",
       "2018-01-01 01:00:00  0.384886  0.189619  0.429060  26.227729\n",
       "2018-01-01 02:00:00  0.296402  0.243190  0.383400  39.367919\n",
       "2018-01-01 03:00:00  0.277474  0.195083  0.339189  35.109724\n",
       "2018-01-01 04:00:00  0.275675  0.132475  0.305853  25.666509"
      ],
      "text/html": [
       "<div>\n",
       "<style scoped>\n",
       "    .dataframe tbody tr th:only-of-type {\n",
       "        vertical-align: middle;\n",
       "    }\n",
       "\n",
       "    .dataframe tbody tr th {\n",
       "        vertical-align: top;\n",
       "    }\n",
       "\n",
       "    .dataframe thead th {\n",
       "        text-align: right;\n",
       "    }\n",
       "</style>\n",
       "<table border=\"1\" class=\"dataframe\">\n",
       "  <thead>\n",
       "    <tr style=\"text-align: right;\">\n",
       "      <th></th>\n",
       "      <th>V2M</th>\n",
       "      <th>U2M</th>\n",
       "      <th>ws</th>\n",
       "      <th>deg</th>\n",
       "    </tr>\n",
       "    <tr>\n",
       "      <th>time</th>\n",
       "      <th></th>\n",
       "      <th></th>\n",
       "      <th></th>\n",
       "      <th></th>\n",
       "    </tr>\n",
       "  </thead>\n",
       "  <tbody>\n",
       "    <tr>\n",
       "      <th>2018-01-01 00:00:00</th>\n",
       "      <td>0.507052</td>\n",
       "      <td>0.023183</td>\n",
       "      <td>0.507582</td>\n",
       "      <td>2.617815</td>\n",
       "    </tr>\n",
       "    <tr>\n",
       "      <th>2018-01-01 01:00:00</th>\n",
       "      <td>0.384886</td>\n",
       "      <td>0.189619</td>\n",
       "      <td>0.429060</td>\n",
       "      <td>26.227729</td>\n",
       "    </tr>\n",
       "    <tr>\n",
       "      <th>2018-01-01 02:00:00</th>\n",
       "      <td>0.296402</td>\n",
       "      <td>0.243190</td>\n",
       "      <td>0.383400</td>\n",
       "      <td>39.367919</td>\n",
       "    </tr>\n",
       "    <tr>\n",
       "      <th>2018-01-01 03:00:00</th>\n",
       "      <td>0.277474</td>\n",
       "      <td>0.195083</td>\n",
       "      <td>0.339189</td>\n",
       "      <td>35.109724</td>\n",
       "    </tr>\n",
       "    <tr>\n",
       "      <th>2018-01-01 04:00:00</th>\n",
       "      <td>0.275675</td>\n",
       "      <td>0.132475</td>\n",
       "      <td>0.305853</td>\n",
       "      <td>25.666509</td>\n",
       "    </tr>\n",
       "  </tbody>\n",
       "</table>\n",
       "</div>"
      ]
     },
     "execution_count": 243,
     "metadata": {},
     "output_type": "execute_result"
    }
   ],
   "execution_count": 243
  },
  {
   "cell_type": "code",
   "metadata": {
    "ExecuteTime": {
     "end_time": "2024-12-17T15:41:08.329012Z",
     "start_time": "2024-12-17T15:41:08.308762Z"
    }
   },
   "source": [
    "dfw.describe()"
   ],
   "outputs": [
    {
     "data": {
      "text/plain": [
       "               V2M          U2M           ws          deg\n",
       "count  8483.000000  8483.000000  8483.000000  8483.000000\n",
       "mean      0.278457    -0.661194     1.722973   242.907187\n",
       "std       1.555940     1.022452     1.006058    98.782262\n",
       "min      -5.911692    -5.820403     0.005149     0.188730\n",
       "25%      -0.749631    -1.263075     0.947313   190.805811\n",
       "50%       0.520839    -0.678653     1.476474   272.368924\n",
       "75%       1.236187    -0.086650     2.316369   325.353762\n",
       "max       5.089890     3.647237     6.811332   359.985100"
      ],
      "text/html": [
       "<div>\n",
       "<style scoped>\n",
       "    .dataframe tbody tr th:only-of-type {\n",
       "        vertical-align: middle;\n",
       "    }\n",
       "\n",
       "    .dataframe tbody tr th {\n",
       "        vertical-align: top;\n",
       "    }\n",
       "\n",
       "    .dataframe thead th {\n",
       "        text-align: right;\n",
       "    }\n",
       "</style>\n",
       "<table border=\"1\" class=\"dataframe\">\n",
       "  <thead>\n",
       "    <tr style=\"text-align: right;\">\n",
       "      <th></th>\n",
       "      <th>V2M</th>\n",
       "      <th>U2M</th>\n",
       "      <th>ws</th>\n",
       "      <th>deg</th>\n",
       "    </tr>\n",
       "  </thead>\n",
       "  <tbody>\n",
       "    <tr>\n",
       "      <th>count</th>\n",
       "      <td>8483.000000</td>\n",
       "      <td>8483.000000</td>\n",
       "      <td>8483.000000</td>\n",
       "      <td>8483.000000</td>\n",
       "    </tr>\n",
       "    <tr>\n",
       "      <th>mean</th>\n",
       "      <td>0.278457</td>\n",
       "      <td>-0.661194</td>\n",
       "      <td>1.722973</td>\n",
       "      <td>242.907187</td>\n",
       "    </tr>\n",
       "    <tr>\n",
       "      <th>std</th>\n",
       "      <td>1.555940</td>\n",
       "      <td>1.022452</td>\n",
       "      <td>1.006058</td>\n",
       "      <td>98.782262</td>\n",
       "    </tr>\n",
       "    <tr>\n",
       "      <th>min</th>\n",
       "      <td>-5.911692</td>\n",
       "      <td>-5.820403</td>\n",
       "      <td>0.005149</td>\n",
       "      <td>0.188730</td>\n",
       "    </tr>\n",
       "    <tr>\n",
       "      <th>25%</th>\n",
       "      <td>-0.749631</td>\n",
       "      <td>-1.263075</td>\n",
       "      <td>0.947313</td>\n",
       "      <td>190.805811</td>\n",
       "    </tr>\n",
       "    <tr>\n",
       "      <th>50%</th>\n",
       "      <td>0.520839</td>\n",
       "      <td>-0.678653</td>\n",
       "      <td>1.476474</td>\n",
       "      <td>272.368924</td>\n",
       "    </tr>\n",
       "    <tr>\n",
       "      <th>75%</th>\n",
       "      <td>1.236187</td>\n",
       "      <td>-0.086650</td>\n",
       "      <td>2.316369</td>\n",
       "      <td>325.353762</td>\n",
       "    </tr>\n",
       "    <tr>\n",
       "      <th>max</th>\n",
       "      <td>5.089890</td>\n",
       "      <td>3.647237</td>\n",
       "      <td>6.811332</td>\n",
       "      <td>359.985100</td>\n",
       "    </tr>\n",
       "  </tbody>\n",
       "</table>\n",
       "</div>"
      ]
     },
     "execution_count": 244,
     "metadata": {},
     "output_type": "execute_result"
    }
   ],
   "execution_count": 244
  },
  {
   "cell_type": "code",
   "metadata": {
    "ExecuteTime": {
     "end_time": "2024-12-17T15:41:08.567647Z",
     "start_time": "2024-12-17T15:41:08.565413Z"
    }
   },
   "source": [
    "# let reverse to to U, V component"
   ],
   "outputs": [],
   "execution_count": 245
  },
  {
   "cell_type": "code",
   "metadata": {
    "ExecuteTime": {
     "end_time": "2024-12-17T15:41:08.795777Z",
     "start_time": "2024-12-17T15:41:08.727059Z"
    }
   },
   "source": [
    "dfw['V_re'] = dfw.apply(lambda row: row['ws']*np.cos(np.radians(row['deg'])), axis=1)\n",
    "dfw.head()"
   ],
   "outputs": [
    {
     "data": {
      "text/plain": [
       "                          V2M       U2M        ws        deg      V_re\n",
       "time                                                                  \n",
       "2018-01-01 00:00:00  0.507052  0.023183  0.507582   2.617815  0.507052\n",
       "2018-01-01 01:00:00  0.384886  0.189619  0.429060  26.227729  0.384886\n",
       "2018-01-01 02:00:00  0.296402  0.243190  0.383400  39.367919  0.296402\n",
       "2018-01-01 03:00:00  0.277474  0.195083  0.339189  35.109724  0.277474\n",
       "2018-01-01 04:00:00  0.275675  0.132475  0.305853  25.666509  0.275675"
      ],
      "text/html": [
       "<div>\n",
       "<style scoped>\n",
       "    .dataframe tbody tr th:only-of-type {\n",
       "        vertical-align: middle;\n",
       "    }\n",
       "\n",
       "    .dataframe tbody tr th {\n",
       "        vertical-align: top;\n",
       "    }\n",
       "\n",
       "    .dataframe thead th {\n",
       "        text-align: right;\n",
       "    }\n",
       "</style>\n",
       "<table border=\"1\" class=\"dataframe\">\n",
       "  <thead>\n",
       "    <tr style=\"text-align: right;\">\n",
       "      <th></th>\n",
       "      <th>V2M</th>\n",
       "      <th>U2M</th>\n",
       "      <th>ws</th>\n",
       "      <th>deg</th>\n",
       "      <th>V_re</th>\n",
       "    </tr>\n",
       "    <tr>\n",
       "      <th>time</th>\n",
       "      <th></th>\n",
       "      <th></th>\n",
       "      <th></th>\n",
       "      <th></th>\n",
       "      <th></th>\n",
       "    </tr>\n",
       "  </thead>\n",
       "  <tbody>\n",
       "    <tr>\n",
       "      <th>2018-01-01 00:00:00</th>\n",
       "      <td>0.507052</td>\n",
       "      <td>0.023183</td>\n",
       "      <td>0.507582</td>\n",
       "      <td>2.617815</td>\n",
       "      <td>0.507052</td>\n",
       "    </tr>\n",
       "    <tr>\n",
       "      <th>2018-01-01 01:00:00</th>\n",
       "      <td>0.384886</td>\n",
       "      <td>0.189619</td>\n",
       "      <td>0.429060</td>\n",
       "      <td>26.227729</td>\n",
       "      <td>0.384886</td>\n",
       "    </tr>\n",
       "    <tr>\n",
       "      <th>2018-01-01 02:00:00</th>\n",
       "      <td>0.296402</td>\n",
       "      <td>0.243190</td>\n",
       "      <td>0.383400</td>\n",
       "      <td>39.367919</td>\n",
       "      <td>0.296402</td>\n",
       "    </tr>\n",
       "    <tr>\n",
       "      <th>2018-01-01 03:00:00</th>\n",
       "      <td>0.277474</td>\n",
       "      <td>0.195083</td>\n",
       "      <td>0.339189</td>\n",
       "      <td>35.109724</td>\n",
       "      <td>0.277474</td>\n",
       "    </tr>\n",
       "    <tr>\n",
       "      <th>2018-01-01 04:00:00</th>\n",
       "      <td>0.275675</td>\n",
       "      <td>0.132475</td>\n",
       "      <td>0.305853</td>\n",
       "      <td>25.666509</td>\n",
       "      <td>0.275675</td>\n",
       "    </tr>\n",
       "  </tbody>\n",
       "</table>\n",
       "</div>"
      ]
     },
     "execution_count": 246,
     "metadata": {},
     "output_type": "execute_result"
    }
   ],
   "execution_count": 246
  },
  {
   "cell_type": "code",
   "metadata": {
    "ExecuteTime": {
     "end_time": "2024-12-17T15:41:09.020189Z",
     "start_time": "2024-12-17T15:41:08.950326Z"
    }
   },
   "source": [
    "dfw['U_re'] = dfw.apply(lambda row: row['ws']*np.sin(np.radians(row['deg'])), axis=1)\n",
    "dfw.head()"
   ],
   "outputs": [
    {
     "data": {
      "text/plain": [
       "                          V2M       U2M        ws        deg      V_re  \\\n",
       "time                                                                     \n",
       "2018-01-01 00:00:00  0.507052  0.023183  0.507582   2.617815  0.507052   \n",
       "2018-01-01 01:00:00  0.384886  0.189619  0.429060  26.227729  0.384886   \n",
       "2018-01-01 02:00:00  0.296402  0.243190  0.383400  39.367919  0.296402   \n",
       "2018-01-01 03:00:00  0.277474  0.195083  0.339189  35.109724  0.277474   \n",
       "2018-01-01 04:00:00  0.275675  0.132475  0.305853  25.666509  0.275675   \n",
       "\n",
       "                         U_re  \n",
       "time                           \n",
       "2018-01-01 00:00:00  0.023183  \n",
       "2018-01-01 01:00:00  0.189619  \n",
       "2018-01-01 02:00:00  0.243190  \n",
       "2018-01-01 03:00:00  0.195083  \n",
       "2018-01-01 04:00:00  0.132475  "
      ],
      "text/html": [
       "<div>\n",
       "<style scoped>\n",
       "    .dataframe tbody tr th:only-of-type {\n",
       "        vertical-align: middle;\n",
       "    }\n",
       "\n",
       "    .dataframe tbody tr th {\n",
       "        vertical-align: top;\n",
       "    }\n",
       "\n",
       "    .dataframe thead th {\n",
       "        text-align: right;\n",
       "    }\n",
       "</style>\n",
       "<table border=\"1\" class=\"dataframe\">\n",
       "  <thead>\n",
       "    <tr style=\"text-align: right;\">\n",
       "      <th></th>\n",
       "      <th>V2M</th>\n",
       "      <th>U2M</th>\n",
       "      <th>ws</th>\n",
       "      <th>deg</th>\n",
       "      <th>V_re</th>\n",
       "      <th>U_re</th>\n",
       "    </tr>\n",
       "    <tr>\n",
       "      <th>time</th>\n",
       "      <th></th>\n",
       "      <th></th>\n",
       "      <th></th>\n",
       "      <th></th>\n",
       "      <th></th>\n",
       "      <th></th>\n",
       "    </tr>\n",
       "  </thead>\n",
       "  <tbody>\n",
       "    <tr>\n",
       "      <th>2018-01-01 00:00:00</th>\n",
       "      <td>0.507052</td>\n",
       "      <td>0.023183</td>\n",
       "      <td>0.507582</td>\n",
       "      <td>2.617815</td>\n",
       "      <td>0.507052</td>\n",
       "      <td>0.023183</td>\n",
       "    </tr>\n",
       "    <tr>\n",
       "      <th>2018-01-01 01:00:00</th>\n",
       "      <td>0.384886</td>\n",
       "      <td>0.189619</td>\n",
       "      <td>0.429060</td>\n",
       "      <td>26.227729</td>\n",
       "      <td>0.384886</td>\n",
       "      <td>0.189619</td>\n",
       "    </tr>\n",
       "    <tr>\n",
       "      <th>2018-01-01 02:00:00</th>\n",
       "      <td>0.296402</td>\n",
       "      <td>0.243190</td>\n",
       "      <td>0.383400</td>\n",
       "      <td>39.367919</td>\n",
       "      <td>0.296402</td>\n",
       "      <td>0.243190</td>\n",
       "    </tr>\n",
       "    <tr>\n",
       "      <th>2018-01-01 03:00:00</th>\n",
       "      <td>0.277474</td>\n",
       "      <td>0.195083</td>\n",
       "      <td>0.339189</td>\n",
       "      <td>35.109724</td>\n",
       "      <td>0.277474</td>\n",
       "      <td>0.195083</td>\n",
       "    </tr>\n",
       "    <tr>\n",
       "      <th>2018-01-01 04:00:00</th>\n",
       "      <td>0.275675</td>\n",
       "      <td>0.132475</td>\n",
       "      <td>0.305853</td>\n",
       "      <td>25.666509</td>\n",
       "      <td>0.275675</td>\n",
       "      <td>0.132475</td>\n",
       "    </tr>\n",
       "  </tbody>\n",
       "</table>\n",
       "</div>"
      ]
     },
     "execution_count": 247,
     "metadata": {},
     "output_type": "execute_result"
    }
   ],
   "execution_count": 247
  },
  {
   "cell_type": "markdown",
   "metadata": {},
   "source": [
    "- noted that I did put a minus in front of U, V vectors"
   ]
  },
  {
   "cell_type": "code",
   "metadata": {
    "ExecuteTime": {
     "end_time": "2024-12-17T15:41:09.289540Z",
     "start_time": "2024-12-17T15:41:09.143437Z"
    }
   },
   "source": [
    "plt.scatter(dfw.index, dfw['deg'], marker='.')"
   ],
   "outputs": [
    {
     "data": {
      "text/plain": [
       "<matplotlib.collections.PathCollection at 0x7930338d2380>"
      ]
     },
     "execution_count": 248,
     "metadata": {},
     "output_type": "execute_result"
    },
    {
     "data": {
      "text/plain": [
       "<Figure size 1000x600 with 1 Axes>"
      ],
      "image/png": "[encoded data removed]"
     },
     "metadata": {},
     "output_type": "display_data"
    }
   ],
   "execution_count": 248
  },
  {
   "cell_type": "markdown",
   "metadata": {},
   "source": [
    "- so we can manually calculate back and foward between vectors (U,V) components and in speed and direction, \n",
    "-  do we have a better way to convert using some prepared package, you yes, you bet, there are such package"
   ]
  },
  {
   "cell_type": "markdown",
   "metadata": {},
   "source": [
    "## Welcome to MetPy\n",
    "- comprehensive package to work with atmospheric data"
   ]
  },
  {
   "cell_type": "code",
   "metadata": {
    "ExecuteTime": {
     "end_time": "2024-12-17T15:41:09.436653Z",
     "start_time": "2024-12-17T15:41:09.434262Z"
    }
   },
   "source": [
    "# https://unidata.github.io/MetPy/latest/api/generated/metpy.calc.html\n",
    "try:\n",
    "    import metpy.calc as mpcalc\n",
    "except Exception as e:\n",
    "    print(e)\n",
    "    !pip install metpy --user"
   ],
   "outputs": [],
   "execution_count": 249
  },
  {
   "cell_type": "code",
   "metadata": {
    "ExecuteTime": {
     "end_time": "2024-12-17T15:41:09.481792Z",
     "start_time": "2024-12-17T15:41:09.478656Z"
    }
   },
   "source": [
    "# you could have all conversion function, and many of them are \n",
    "# wind speed and component in the end of Dynamic/Kinematic session\n",
    "# to use the metpy function, you need to attach the units. \n",
    "# to do that we will import \n",
    "from metpy.units import pandas_dataframe_to_unit_arrays, units"
   ],
   "outputs": [],
   "execution_count": 250
  },
  {
   "cell_type": "code",
   "metadata": {
    "ExecuteTime": {
     "end_time": "2024-12-17T15:41:09.564020Z",
     "start_time": "2024-12-17T15:41:09.560432Z"
    }
   },
   "source": [
    "print(len(dir(units)))\n",
    "# almost one thoudsand types of units"
   ],
   "outputs": [
    {
     "name": "stdout",
     "output_type": "stream",
     "text": [
      "1128\n"
     ]
    }
   ],
   "execution_count": 251
  },
  {
   "cell_type": "code",
   "metadata": {
    "ExecuteTime": {
     "end_time": "2024-12-17T15:41:09.643048Z",
     "start_time": "2024-12-17T15:41:09.639080Z"
    }
   },
   "source": [
    "wind_cols"
   ],
   "outputs": [
    {
     "data": {
      "text/plain": [
       "['U2M',\n",
       " 'V250',\n",
       " 'U850',\n",
       " 'V850',\n",
       " 'V50M',\n",
       " 'U250',\n",
       " 'V2M',\n",
       " 'V10M',\n",
       " 'U50M',\n",
       " 'U10M',\n",
       " 'V500',\n",
       " 'U500']"
      ]
     },
     "execution_count": 252,
     "metadata": {},
     "output_type": "execute_result"
    }
   ],
   "execution_count": 252
  },
  {
   "cell_type": "code",
   "metadata": {
    "ExecuteTime": {
     "end_time": "2024-12-17T15:41:09.740198Z",
     "start_time": "2024-12-17T15:41:09.736351Z"
    }
   },
   "source": [
    "# make a dictionary to map each parameter with the unit\n",
    "w_units = dict()\n",
    "for col in wind_cols:\n",
    "    w_units[col] = 'meter_per_second'\n",
    "    \n",
    "w_units"
   ],
   "outputs": [
    {
     "data": {
      "text/plain": [
       "{'U2M': 'meter_per_second',\n",
       " 'V250': 'meter_per_second',\n",
       " 'U850': 'meter_per_second',\n",
       " 'V850': 'meter_per_second',\n",
       " 'V50M': 'meter_per_second',\n",
       " 'U250': 'meter_per_second',\n",
       " 'V2M': 'meter_per_second',\n",
       " 'V10M': 'meter_per_second',\n",
       " 'U50M': 'meter_per_second',\n",
       " 'U10M': 'meter_per_second',\n",
       " 'V500': 'meter_per_second',\n",
       " 'U500': 'meter_per_second'}"
      ]
     },
     "execution_count": 253,
     "metadata": {},
     "output_type": "execute_result"
    }
   ],
   "execution_count": 253
  },
  {
   "cell_type": "code",
   "metadata": {
    "ExecuteTime": {
     "end_time": "2024-12-17T15:41:09.787373Z",
     "start_time": "2024-12-17T15:41:09.784710Z"
    }
   },
   "source": [
    "select_cols = ['V2M', 'U2M']"
   ],
   "outputs": [],
   "execution_count": 254
  },
  {
   "cell_type": "code",
   "metadata": {
    "ExecuteTime": {
     "end_time": "2024-12-17T15:41:09.847377Z",
     "start_time": "2024-12-17T15:41:09.840529Z"
    }
   },
   "source": [
    "df[select_cols].head()"
   ],
   "outputs": [
    {
     "data": {
      "text/plain": [
       "                          V2M       U2M\n",
       "time                                   \n",
       "2018-01-01 00:00:00  0.507052  0.023183\n",
       "2018-01-01 01:00:00  0.384886  0.189619\n",
       "2018-01-01 02:00:00  0.296402  0.243190\n",
       "2018-01-01 03:00:00  0.277474  0.195083\n",
       "2018-01-01 04:00:00  0.275675  0.132475"
      ],
      "text/html": [
       "<div>\n",
       "<style scoped>\n",
       "    .dataframe tbody tr th:only-of-type {\n",
       "        vertical-align: middle;\n",
       "    }\n",
       "\n",
       "    .dataframe tbody tr th {\n",
       "        vertical-align: top;\n",
       "    }\n",
       "\n",
       "    .dataframe thead th {\n",
       "        text-align: right;\n",
       "    }\n",
       "</style>\n",
       "<table border=\"1\" class=\"dataframe\">\n",
       "  <thead>\n",
       "    <tr style=\"text-align: right;\">\n",
       "      <th></th>\n",
       "      <th>V2M</th>\n",
       "      <th>U2M</th>\n",
       "    </tr>\n",
       "    <tr>\n",
       "      <th>time</th>\n",
       "      <th></th>\n",
       "      <th></th>\n",
       "    </tr>\n",
       "  </thead>\n",
       "  <tbody>\n",
       "    <tr>\n",
       "      <th>2018-01-01 00:00:00</th>\n",
       "      <td>0.507052</td>\n",
       "      <td>0.023183</td>\n",
       "    </tr>\n",
       "    <tr>\n",
       "      <th>2018-01-01 01:00:00</th>\n",
       "      <td>0.384886</td>\n",
       "      <td>0.189619</td>\n",
       "    </tr>\n",
       "    <tr>\n",
       "      <th>2018-01-01 02:00:00</th>\n",
       "      <td>0.296402</td>\n",
       "      <td>0.243190</td>\n",
       "    </tr>\n",
       "    <tr>\n",
       "      <th>2018-01-01 03:00:00</th>\n",
       "      <td>0.277474</td>\n",
       "      <td>0.195083</td>\n",
       "    </tr>\n",
       "    <tr>\n",
       "      <th>2018-01-01 04:00:00</th>\n",
       "      <td>0.275675</td>\n",
       "      <td>0.132475</td>\n",
       "    </tr>\n",
       "  </tbody>\n",
       "</table>\n",
       "</div>"
      ]
     },
     "execution_count": 255,
     "metadata": {},
     "output_type": "execute_result"
    }
   ],
   "execution_count": 255
  },
  {
   "cell_type": "code",
   "metadata": {
    "ExecuteTime": {
     "end_time": "2024-12-17T15:41:09.875172Z",
     "start_time": "2024-12-17T15:41:09.872167Z"
    }
   },
   "source": [
    "# convert a pandas column to an array, this approach is much faster than row-wise with apply() function\n",
    "wind = pandas_dataframe_to_unit_arrays(df[select_cols], w_units)"
   ],
   "outputs": [],
   "execution_count": 256
  },
  {
   "cell_type": "code",
   "metadata": {
    "ExecuteTime": {
     "end_time": "2024-12-17T15:41:09.932900Z",
     "start_time": "2024-12-17T15:41:09.929387Z"
    }
   },
   "source": [
    "wind"
   ],
   "outputs": [
    {
     "data": {
      "text/plain": [
       "{'V2M': <Quantity([ 0.507052    0.38488576  0.29640204 ... -1.092206   -1.2885575\n",
       "  -1.7575915 ], 'meter_per_second')>,\n",
       " 'U2M': <Quantity([ 0.02318308  0.1896187   0.24318957 ...  0.09979065 -0.01472685\n",
       "  -0.12540904], 'meter_per_second')>}"
      ]
     },
     "execution_count": 257,
     "metadata": {},
     "output_type": "execute_result"
    }
   ],
   "execution_count": 257
  },
  {
   "cell_type": "code",
   "metadata": {
    "ExecuteTime": {
     "end_time": "2024-12-17T15:41:10.071924Z",
     "start_time": "2024-12-17T15:41:10.068096Z"
    }
   },
   "source": [
    "# and to calculate speed and direction, we call them directly from the package\n",
    "wind['v_2m'] = mpcalc.wind_speed(wind['U2M'], wind['V2M'])\n",
    "wind['d_2m']  = mpcalc.wind_direction(wind['U2M'], wind['V2M'])"
   ],
   "outputs": [],
   "execution_count": 258
  },
  {
   "cell_type": "code",
   "metadata": {
    "ExecuteTime": {
     "end_time": "2024-12-17T15:41:10.146982Z",
     "start_time": "2024-12-17T15:41:10.123751Z"
    }
   },
   "source": [
    "# make a dataframe with shared timestamps as the index\n",
    "dft = pd.DataFrame({\n",
    "        'v_2m': wind['v_2m'],\n",
    "        'd_2m': wind['d_2m']}, index=df.index.to_list(),)\n",
    "dft.dtypes"
   ],
   "outputs": [
    {
     "data": {
      "text/plain": [
       "v_2m    float64\n",
       "d_2m    float64\n",
       "dtype: object"
      ]
     },
     "execution_count": 259,
     "metadata": {},
     "output_type": "execute_result"
    }
   ],
   "execution_count": 259
  },
  {
   "cell_type": "code",
   "metadata": {
    "ExecuteTime": {
     "end_time": "2024-12-17T15:41:10.242934Z",
     "start_time": "2024-12-17T15:41:10.238003Z"
    }
   },
   "source": [
    "dft.head()"
   ],
   "outputs": [
    {
     "data": {
      "text/plain": [
       "                         v_2m        d_2m\n",
       "2018-01-01 00:00:00  0.507582  182.617815\n",
       "2018-01-01 01:00:00  0.429060  206.227729\n",
       "2018-01-01 02:00:00  0.383400  219.367919\n",
       "2018-01-01 03:00:00  0.339189  215.109724\n",
       "2018-01-01 04:00:00  0.305853  205.666509"
      ],
      "text/html": [
       "<div>\n",
       "<style scoped>\n",
       "    .dataframe tbody tr th:only-of-type {\n",
       "        vertical-align: middle;\n",
       "    }\n",
       "\n",
       "    .dataframe tbody tr th {\n",
       "        vertical-align: top;\n",
       "    }\n",
       "\n",
       "    .dataframe thead th {\n",
       "        text-align: right;\n",
       "    }\n",
       "</style>\n",
       "<table border=\"1\" class=\"dataframe\">\n",
       "  <thead>\n",
       "    <tr style=\"text-align: right;\">\n",
       "      <th></th>\n",
       "      <th>v_2m</th>\n",
       "      <th>d_2m</th>\n",
       "    </tr>\n",
       "  </thead>\n",
       "  <tbody>\n",
       "    <tr>\n",
       "      <th>2018-01-01 00:00:00</th>\n",
       "      <td>0.507582</td>\n",
       "      <td>182.617815</td>\n",
       "    </tr>\n",
       "    <tr>\n",
       "      <th>2018-01-01 01:00:00</th>\n",
       "      <td>0.429060</td>\n",
       "      <td>206.227729</td>\n",
       "    </tr>\n",
       "    <tr>\n",
       "      <th>2018-01-01 02:00:00</th>\n",
       "      <td>0.383400</td>\n",
       "      <td>219.367919</td>\n",
       "    </tr>\n",
       "    <tr>\n",
       "      <th>2018-01-01 03:00:00</th>\n",
       "      <td>0.339189</td>\n",
       "      <td>215.109724</td>\n",
       "    </tr>\n",
       "    <tr>\n",
       "      <th>2018-01-01 04:00:00</th>\n",
       "      <td>0.305853</td>\n",
       "      <td>205.666509</td>\n",
       "    </tr>\n",
       "  </tbody>\n",
       "</table>\n",
       "</div>"
      ]
     },
     "execution_count": 260,
     "metadata": {},
     "output_type": "execute_result"
    }
   ],
   "execution_count": 260
  },
  {
   "cell_type": "code",
   "metadata": {
    "ExecuteTime": {
     "end_time": "2024-12-17T15:41:10.398462Z",
     "start_time": "2024-12-17T15:41:10.393832Z"
    }
   },
   "source": [
    "# let merge dataframe with manual calculate and through MetPy package\n",
    "dfw = pd.merge(dfw, dft, right_index=True, left_index=True)"
   ],
   "outputs": [],
   "execution_count": 261
  },
  {
   "cell_type": "code",
   "metadata": {
    "ExecuteTime": {
     "end_time": "2024-12-17T15:41:10.567064Z",
     "start_time": "2024-12-17T15:41:10.559494Z"
    }
   },
   "source": [
    "dfw.index.rename('time', inplace=True)\n",
    "dfw.head()"
   ],
   "outputs": [
    {
     "data": {
      "text/plain": [
       "                          V2M       U2M        ws        deg      V_re  \\\n",
       "time                                                                     \n",
       "2018-01-01 00:00:00  0.507052  0.023183  0.507582   2.617815  0.507052   \n",
       "2018-01-01 01:00:00  0.384886  0.189619  0.429060  26.227729  0.384886   \n",
       "2018-01-01 02:00:00  0.296402  0.243190  0.383400  39.367919  0.296402   \n",
       "2018-01-01 03:00:00  0.277474  0.195083  0.339189  35.109724  0.277474   \n",
       "2018-01-01 04:00:00  0.275675  0.132475  0.305853  25.666509  0.275675   \n",
       "\n",
       "                         U_re      v_2m        d_2m  \n",
       "time                                                 \n",
       "2018-01-01 00:00:00  0.023183  0.507582  182.617815  \n",
       "2018-01-01 01:00:00  0.189619  0.429060  206.227729  \n",
       "2018-01-01 02:00:00  0.243190  0.383400  219.367919  \n",
       "2018-01-01 03:00:00  0.195083  0.339189  215.109724  \n",
       "2018-01-01 04:00:00  0.132475  0.305853  205.666509  "
      ],
      "text/html": [
       "<div>\n",
       "<style scoped>\n",
       "    .dataframe tbody tr th:only-of-type {\n",
       "        vertical-align: middle;\n",
       "    }\n",
       "\n",
       "    .dataframe tbody tr th {\n",
       "        vertical-align: top;\n",
       "    }\n",
       "\n",
       "    .dataframe thead th {\n",
       "        text-align: right;\n",
       "    }\n",
       "</style>\n",
       "<table border=\"1\" class=\"dataframe\">\n",
       "  <thead>\n",
       "    <tr style=\"text-align: right;\">\n",
       "      <th></th>\n",
       "      <th>V2M</th>\n",
       "      <th>U2M</th>\n",
       "      <th>ws</th>\n",
       "      <th>deg</th>\n",
       "      <th>V_re</th>\n",
       "      <th>U_re</th>\n",
       "      <th>v_2m</th>\n",
       "      <th>d_2m</th>\n",
       "    </tr>\n",
       "    <tr>\n",
       "      <th>time</th>\n",
       "      <th></th>\n",
       "      <th></th>\n",
       "      <th></th>\n",
       "      <th></th>\n",
       "      <th></th>\n",
       "      <th></th>\n",
       "      <th></th>\n",
       "      <th></th>\n",
       "    </tr>\n",
       "  </thead>\n",
       "  <tbody>\n",
       "    <tr>\n",
       "      <th>2018-01-01 00:00:00</th>\n",
       "      <td>0.507052</td>\n",
       "      <td>0.023183</td>\n",
       "      <td>0.507582</td>\n",
       "      <td>2.617815</td>\n",
       "      <td>0.507052</td>\n",
       "      <td>0.023183</td>\n",
       "      <td>0.507582</td>\n",
       "      <td>182.617815</td>\n",
       "    </tr>\n",
       "    <tr>\n",
       "      <th>2018-01-01 01:00:00</th>\n",
       "      <td>0.384886</td>\n",
       "      <td>0.189619</td>\n",
       "      <td>0.429060</td>\n",
       "      <td>26.227729</td>\n",
       "      <td>0.384886</td>\n",
       "      <td>0.189619</td>\n",
       "      <td>0.429060</td>\n",
       "      <td>206.227729</td>\n",
       "    </tr>\n",
       "    <tr>\n",
       "      <th>2018-01-01 02:00:00</th>\n",
       "      <td>0.296402</td>\n",
       "      <td>0.243190</td>\n",
       "      <td>0.383400</td>\n",
       "      <td>39.367919</td>\n",
       "      <td>0.296402</td>\n",
       "      <td>0.243190</td>\n",
       "      <td>0.383400</td>\n",
       "      <td>219.367919</td>\n",
       "    </tr>\n",
       "    <tr>\n",
       "      <th>2018-01-01 03:00:00</th>\n",
       "      <td>0.277474</td>\n",
       "      <td>0.195083</td>\n",
       "      <td>0.339189</td>\n",
       "      <td>35.109724</td>\n",
       "      <td>0.277474</td>\n",
       "      <td>0.195083</td>\n",
       "      <td>0.339189</td>\n",
       "      <td>215.109724</td>\n",
       "    </tr>\n",
       "    <tr>\n",
       "      <th>2018-01-01 04:00:00</th>\n",
       "      <td>0.275675</td>\n",
       "      <td>0.132475</td>\n",
       "      <td>0.305853</td>\n",
       "      <td>25.666509</td>\n",
       "      <td>0.275675</td>\n",
       "      <td>0.132475</td>\n",
       "      <td>0.305853</td>\n",
       "      <td>205.666509</td>\n",
       "    </tr>\n",
       "  </tbody>\n",
       "</table>\n",
       "</div>"
      ]
     },
     "execution_count": 262,
     "metadata": {},
     "output_type": "execute_result"
    }
   ],
   "execution_count": 262
  },
  {
   "cell_type": "markdown",
   "metadata": {},
   "source": [
    "a few interesting point,\n",
    "- `deg` and `d_2m` seems have some different"
   ]
  },
  {
   "cell_type": "code",
   "metadata": {
    "ExecuteTime": {
     "end_time": "2024-12-17T15:41:10.843398Z",
     "start_time": "2024-12-17T15:41:10.664457Z"
    }
   },
   "source": [
    "# let visualize data\n",
    "dft = dfw[0:200]\n",
    "plt.scatter(dft.index, dft['deg'], label='manual', alpha=0.5)\n",
    "plt.scatter(dft.index, dft['d_2m'], label='metpy', alpha=0.5)\n",
    "plt.legend()"
   ],
   "outputs": [
    {
     "data": {
      "text/plain": [
       "<matplotlib.legend.Legend at 0x793033922890>"
      ]
     },
     "execution_count": 263,
     "metadata": {},
     "output_type": "execute_result"
    },
    {
     "data": {
      "text/plain": [
       "<Figure size 1000x600 with 1 Axes>"
      ],
      "image/png": "[encoded data removed]"
     },
     "metadata": {},
     "output_type": "display_data"
    }
   ],
   "execution_count": 263
  },
  {
   "cell_type": "markdown",
   "metadata": {},
   "source": [
    "- there is something wrong, since the direction in angle is not consistent, in fact they are different with 180 degree"
   ]
  },
  {
   "cell_type": "code",
   "metadata": {
    "ExecuteTime": {
     "end_time": "2024-12-17T15:41:11.038695Z",
     "start_time": "2024-12-17T15:41:10.968684Z"
    }
   },
   "source": [
    "# let redo manual calculation, and add 180 degree to equation:\n",
    "dfw['deg2'] = dfw.apply(lambda row: ((180/np.pi)*np.arctan2(row['U2M'], row['V2M'])+180)%360, axis=1)\n",
    "dfw.head()"
   ],
   "outputs": [
    {
     "data": {
      "text/plain": [
       "                          V2M       U2M        ws        deg      V_re  \\\n",
       "time                                                                     \n",
       "2018-01-01 00:00:00  0.507052  0.023183  0.507582   2.617815  0.507052   \n",
       "2018-01-01 01:00:00  0.384886  0.189619  0.429060  26.227729  0.384886   \n",
       "2018-01-01 02:00:00  0.296402  0.243190  0.383400  39.367919  0.296402   \n",
       "2018-01-01 03:00:00  0.277474  0.195083  0.339189  35.109724  0.277474   \n",
       "2018-01-01 04:00:00  0.275675  0.132475  0.305853  25.666509  0.275675   \n",
       "\n",
       "                         U_re      v_2m        d_2m        deg2  \n",
       "time                                                             \n",
       "2018-01-01 00:00:00  0.023183  0.507582  182.617815  182.617815  \n",
       "2018-01-01 01:00:00  0.189619  0.429060  206.227729  206.227729  \n",
       "2018-01-01 02:00:00  0.243190  0.383400  219.367919  219.367919  \n",
       "2018-01-01 03:00:00  0.195083  0.339189  215.109724  215.109724  \n",
       "2018-01-01 04:00:00  0.132475  0.305853  205.666509  205.666509  "
      ],
      "text/html": [
       "<div>\n",
       "<style scoped>\n",
       "    .dataframe tbody tr th:only-of-type {\n",
       "        vertical-align: middle;\n",
       "    }\n",
       "\n",
       "    .dataframe tbody tr th {\n",
       "        vertical-align: top;\n",
       "    }\n",
       "\n",
       "    .dataframe thead th {\n",
       "        text-align: right;\n",
       "    }\n",
       "</style>\n",
       "<table border=\"1\" class=\"dataframe\">\n",
       "  <thead>\n",
       "    <tr style=\"text-align: right;\">\n",
       "      <th></th>\n",
       "      <th>V2M</th>\n",
       "      <th>U2M</th>\n",
       "      <th>ws</th>\n",
       "      <th>deg</th>\n",
       "      <th>V_re</th>\n",
       "      <th>U_re</th>\n",
       "      <th>v_2m</th>\n",
       "      <th>d_2m</th>\n",
       "      <th>deg2</th>\n",
       "    </tr>\n",
       "    <tr>\n",
       "      <th>time</th>\n",
       "      <th></th>\n",
       "      <th></th>\n",
       "      <th></th>\n",
       "      <th></th>\n",
       "      <th></th>\n",
       "      <th></th>\n",
       "      <th></th>\n",
       "      <th></th>\n",
       "      <th></th>\n",
       "    </tr>\n",
       "  </thead>\n",
       "  <tbody>\n",
       "    <tr>\n",
       "      <th>2018-01-01 00:00:00</th>\n",
       "      <td>0.507052</td>\n",
       "      <td>0.023183</td>\n",
       "      <td>0.507582</td>\n",
       "      <td>2.617815</td>\n",
       "      <td>0.507052</td>\n",
       "      <td>0.023183</td>\n",
       "      <td>0.507582</td>\n",
       "      <td>182.617815</td>\n",
       "      <td>182.617815</td>\n",
       "    </tr>\n",
       "    <tr>\n",
       "      <th>2018-01-01 01:00:00</th>\n",
       "      <td>0.384886</td>\n",
       "      <td>0.189619</td>\n",
       "      <td>0.429060</td>\n",
       "      <td>26.227729</td>\n",
       "      <td>0.384886</td>\n",
       "      <td>0.189619</td>\n",
       "      <td>0.429060</td>\n",
       "      <td>206.227729</td>\n",
       "      <td>206.227729</td>\n",
       "    </tr>\n",
       "    <tr>\n",
       "      <th>2018-01-01 02:00:00</th>\n",
       "      <td>0.296402</td>\n",
       "      <td>0.243190</td>\n",
       "      <td>0.383400</td>\n",
       "      <td>39.367919</td>\n",
       "      <td>0.296402</td>\n",
       "      <td>0.243190</td>\n",
       "      <td>0.383400</td>\n",
       "      <td>219.367919</td>\n",
       "      <td>219.367919</td>\n",
       "    </tr>\n",
       "    <tr>\n",
       "      <th>2018-01-01 03:00:00</th>\n",
       "      <td>0.277474</td>\n",
       "      <td>0.195083</td>\n",
       "      <td>0.339189</td>\n",
       "      <td>35.109724</td>\n",
       "      <td>0.277474</td>\n",
       "      <td>0.195083</td>\n",
       "      <td>0.339189</td>\n",
       "      <td>215.109724</td>\n",
       "      <td>215.109724</td>\n",
       "    </tr>\n",
       "    <tr>\n",
       "      <th>2018-01-01 04:00:00</th>\n",
       "      <td>0.275675</td>\n",
       "      <td>0.132475</td>\n",
       "      <td>0.305853</td>\n",
       "      <td>25.666509</td>\n",
       "      <td>0.275675</td>\n",
       "      <td>0.132475</td>\n",
       "      <td>0.305853</td>\n",
       "      <td>205.666509</td>\n",
       "      <td>205.666509</td>\n",
       "    </tr>\n",
       "  </tbody>\n",
       "</table>\n",
       "</div>"
      ]
     },
     "execution_count": 264,
     "metadata": {},
     "output_type": "execute_result"
    }
   ],
   "execution_count": 264
  },
  {
   "cell_type": "markdown",
   "metadata": {},
   "source": [
    "- now the degree match, but then the U, V component will be different"
   ]
  },
  {
   "cell_type": "code",
   "metadata": {
    "ExecuteTime": {
     "end_time": "2024-12-17T15:41:11.246147Z",
     "start_time": "2024-12-17T15:41:11.107921Z"
    }
   },
   "source": [
    "dfw['U_re2'] = dfw.apply(lambda row: -row['ws']*np.sin(np.radians(row['deg2'])), axis=1)\n",
    "dfw['V_re2'] = dfw.apply(lambda row: -row['ws']*np.cos(np.radians(row['deg2'])), axis=1)\n",
    "dfw.head()"
   ],
   "outputs": [
    {
     "data": {
      "text/plain": [
       "                          V2M       U2M        ws        deg      V_re  \\\n",
       "time                                                                     \n",
       "2018-01-01 00:00:00  0.507052  0.023183  0.507582   2.617815  0.507052   \n",
       "2018-01-01 01:00:00  0.384886  0.189619  0.429060  26.227729  0.384886   \n",
       "2018-01-01 02:00:00  0.296402  0.243190  0.383400  39.367919  0.296402   \n",
       "2018-01-01 03:00:00  0.277474  0.195083  0.339189  35.109724  0.277474   \n",
       "2018-01-01 04:00:00  0.275675  0.132475  0.305853  25.666509  0.275675   \n",
       "\n",
       "                         U_re      v_2m        d_2m        deg2     U_re2  \\\n",
       "time                                                                        \n",
       "2018-01-01 00:00:00  0.023183  0.507582  182.617815  182.617815  0.023183   \n",
       "2018-01-01 01:00:00  0.189619  0.429060  206.227729  206.227729  0.189619   \n",
       "2018-01-01 02:00:00  0.243190  0.383400  219.367919  219.367919  0.243190   \n",
       "2018-01-01 03:00:00  0.195083  0.339189  215.109724  215.109724  0.195083   \n",
       "2018-01-01 04:00:00  0.132475  0.305853  205.666509  205.666509  0.132475   \n",
       "\n",
       "                        V_re2  \n",
       "time                           \n",
       "2018-01-01 00:00:00  0.507052  \n",
       "2018-01-01 01:00:00  0.384886  \n",
       "2018-01-01 02:00:00  0.296402  \n",
       "2018-01-01 03:00:00  0.277474  \n",
       "2018-01-01 04:00:00  0.275675  "
      ],
      "text/html": [
       "<div>\n",
       "<style scoped>\n",
       "    .dataframe tbody tr th:only-of-type {\n",
       "        vertical-align: middle;\n",
       "    }\n",
       "\n",
       "    .dataframe tbody tr th {\n",
       "        vertical-align: top;\n",
       "    }\n",
       "\n",
       "    .dataframe thead th {\n",
       "        text-align: right;\n",
       "    }\n",
       "</style>\n",
       "<table border=\"1\" class=\"dataframe\">\n",
       "  <thead>\n",
       "    <tr style=\"text-align: right;\">\n",
       "      <th></th>\n",
       "      <th>V2M</th>\n",
       "      <th>U2M</th>\n",
       "      <th>ws</th>\n",
       "      <th>deg</th>\n",
       "      <th>V_re</th>\n",
       "      <th>U_re</th>\n",
       "      <th>v_2m</th>\n",
       "      <th>d_2m</th>\n",
       "      <th>deg2</th>\n",
       "      <th>U_re2</th>\n",
       "      <th>V_re2</th>\n",
       "    </tr>\n",
       "    <tr>\n",
       "      <th>time</th>\n",
       "      <th></th>\n",
       "      <th></th>\n",
       "      <th></th>\n",
       "      <th></th>\n",
       "      <th></th>\n",
       "      <th></th>\n",
       "      <th></th>\n",
       "      <th></th>\n",
       "      <th></th>\n",
       "      <th></th>\n",
       "      <th></th>\n",
       "    </tr>\n",
       "  </thead>\n",
       "  <tbody>\n",
       "    <tr>\n",
       "      <th>2018-01-01 00:00:00</th>\n",
       "      <td>0.507052</td>\n",
       "      <td>0.023183</td>\n",
       "      <td>0.507582</td>\n",
       "      <td>2.617815</td>\n",
       "      <td>0.507052</td>\n",
       "      <td>0.023183</td>\n",
       "      <td>0.507582</td>\n",
       "      <td>182.617815</td>\n",
       "      <td>182.617815</td>\n",
       "      <td>0.023183</td>\n",
       "      <td>0.507052</td>\n",
       "    </tr>\n",
       "    <tr>\n",
       "      <th>2018-01-01 01:00:00</th>\n",
       "      <td>0.384886</td>\n",
       "      <td>0.189619</td>\n",
       "      <td>0.429060</td>\n",
       "      <td>26.227729</td>\n",
       "      <td>0.384886</td>\n",
       "      <td>0.189619</td>\n",
       "      <td>0.429060</td>\n",
       "      <td>206.227729</td>\n",
       "      <td>206.227729</td>\n",
       "      <td>0.189619</td>\n",
       "      <td>0.384886</td>\n",
       "    </tr>\n",
       "    <tr>\n",
       "      <th>2018-01-01 02:00:00</th>\n",
       "      <td>0.296402</td>\n",
       "      <td>0.243190</td>\n",
       "      <td>0.383400</td>\n",
       "      <td>39.367919</td>\n",
       "      <td>0.296402</td>\n",
       "      <td>0.243190</td>\n",
       "      <td>0.383400</td>\n",
       "      <td>219.367919</td>\n",
       "      <td>219.367919</td>\n",
       "      <td>0.243190</td>\n",
       "      <td>0.296402</td>\n",
       "    </tr>\n",
       "    <tr>\n",
       "      <th>2018-01-01 03:00:00</th>\n",
       "      <td>0.277474</td>\n",
       "      <td>0.195083</td>\n",
       "      <td>0.339189</td>\n",
       "      <td>35.109724</td>\n",
       "      <td>0.277474</td>\n",
       "      <td>0.195083</td>\n",
       "      <td>0.339189</td>\n",
       "      <td>215.109724</td>\n",
       "      <td>215.109724</td>\n",
       "      <td>0.195083</td>\n",
       "      <td>0.277474</td>\n",
       "    </tr>\n",
       "    <tr>\n",
       "      <th>2018-01-01 04:00:00</th>\n",
       "      <td>0.275675</td>\n",
       "      <td>0.132475</td>\n",
       "      <td>0.305853</td>\n",
       "      <td>25.666509</td>\n",
       "      <td>0.275675</td>\n",
       "      <td>0.132475</td>\n",
       "      <td>0.305853</td>\n",
       "      <td>205.666509</td>\n",
       "      <td>205.666509</td>\n",
       "      <td>0.132475</td>\n",
       "      <td>0.275675</td>\n",
       "    </tr>\n",
       "  </tbody>\n",
       "</table>\n",
       "</div>"
      ]
     },
     "execution_count": 265,
     "metadata": {},
     "output_type": "execute_result"
    }
   ],
   "execution_count": 265
  },
  {
   "cell_type": "markdown",
   "metadata": {},
   "source": [
    "- that it, we can now properly and manually calculate wind components between U, V components to speed and angle due north"
   ]
  },
  {
   "cell_type": "code",
   "metadata": {
    "ExecuteTime": {
     "end_time": "2024-12-17T15:41:11.449086Z",
     "start_time": "2024-12-17T15:41:11.298609Z"
    }
   },
   "source": [
    "dft = dfw[0:200]\n",
    "plt.scatter(dft.index, dft['deg2'], label='manual+adjust',  lw=2)\n",
    "plt.scatter(dft.index, dft['d_2m'], marker='o', s=5, label='metpy')\n",
    "plt.legend()\n",
    "# and the degrees should matched (perfectly)"
   ],
   "outputs": [
    {
     "data": {
      "text/plain": [
       "<matplotlib.legend.Legend at 0x793033901a80>"
      ]
     },
     "execution_count": 266,
     "metadata": {},
     "output_type": "execute_result"
    },
    {
     "data": {
      "text/plain": [
       "<Figure size 1000x600 with 1 Axes>"
      ],
      "image/png": "[encoded data removed]"
     },
     "metadata": {},
     "output_type": "display_data"
    }
   ],
   "execution_count": 266
  },
  {
   "cell_type": "markdown",
   "metadata": {},
   "source": [
    "# Working with winds with different altitude\n"
   ]
  },
  {
   "cell_type": "markdown",
   "metadata": {},
   "source": [
    "## Pressure and height"
   ]
  },
  {
   "cell_type": "markdown",
   "metadata": {},
   "source": [
    "- the higher from the ground, the lesser the pressure of air is (and air is thinner)\n",
    "$$p = p_0 e^{\\frac{g}{R \\Gamma} \\text{ln}(1-\\frac{Z \\Gamma}{T_0})}$$"
   ]
  },
  {
   "cell_type": "code",
   "metadata": {
    "ExecuteTime": {
     "end_time": "2024-12-17T15:41:11.560921Z",
     "start_time": "2024-12-17T15:41:11.556116Z"
    }
   },
   "source": [
    "# let make a chart for that\n",
    "height = np.linspace(0, 10000, num=11)* units.m\n",
    "press = mpcalc.height_to_pressure_std(height)"
   ],
   "outputs": [],
   "execution_count": 267
  },
  {
   "cell_type": "code",
   "metadata": {
    "ExecuteTime": {
     "end_time": "2024-12-17T15:41:11.718452Z",
     "start_time": "2024-12-17T15:41:11.604404Z"
    }
   },
   "source": [
    "minory = np.linspace(0, 10000, num=101)\n",
    "minorx = np.linspace(0, 1000, num=101)\n",
    "fig, ax = plt.subplots(figsize=(6,6))\n",
    "ax.plot(press, height)\n",
    "ax.grid(which='both')"
   ],
   "outputs": [
    {
     "data": {
      "text/plain": [
       "<Figure size 600x600 with 1 Axes>"
      ],
      "image/png": "[encoded data removed]"
     },
     "metadata": {},
     "output_type": "display_data"
    }
   ],
   "execution_count": 268
  },
  {
   "cell_type": "markdown",
   "metadata": {},
   "source": [
    "- so now you can see wind at 250 (hPa) is almost at the top of the troposhere (10km)"
   ]
  },
  {
   "cell_type": "code",
   "metadata": {
    "ExecuteTime": {
     "end_time": "2024-12-17T15:41:12.702439Z",
     "start_time": "2024-12-17T15:41:11.751177Z"
    }
   },
   "source": [
    "# let make a good graph to display this relationship\n",
    "plt.rcParams['font.family'] ='monospace'\n",
    "fig = plt.figure(figsize=(6,6))\n",
    "\n",
    "ax = fig.add_subplot(1, 1, 1)\n",
    "\n",
    "x_major_ticks = np.linspace(0, 1100, 12 )\n",
    "x_minor_ticks = np.linspace(0, 1100, 111)\n",
    "y_major_ticks = np.linspace(0, 10_000, 11 )\n",
    "y_minor_ticks = np.linspace(0, 10_000, 101)\n",
    "\n",
    "\n",
    "\n",
    "ax.set_xticks(x_major_ticks)\n",
    "ax.set_xticks(x_minor_ticks , minor=True)\n",
    "ax.set_yticks(y_major_ticks)\n",
    "ax.set_yticks(y_minor_ticks, minor=True)\n",
    "\n",
    "ax.grid(which='both')\n",
    "\n",
    "ax.grid(which='minor', alpha=0.2)\n",
    "ax.grid(which='major', alpha=0.5)\n",
    "ax.plot(press, height, color='black', lw=2)\n",
    "ax.set_ylabel('Height, meter')\n",
    "ax.set_xlabel('Pressure, hPa')\n",
    "ax.set_title('Height from ground vs. standard pressure', weight='bold')\n",
    "fig.text(0.9,0.01, 'Implementation of  Hobbs(1977), pg.60-61\\ncreated with MetPy and Matplotlib, Aug 7, 2020', \n",
    "         color='gray', fontsize=6, ha='right')\n",
    "fig.tight_layout(rect=(0.02,0.02, 1, 1))\n",
    "fig.savefig('img/height.vs.pressure.png', dpi=120)"
   ],
   "outputs": [
    {
     "data": {
      "text/plain": [
       "<Figure size 600x600 with 1 Axes>"
      ],
      "image/png": "[encoded data removed]"
     },
     "metadata": {},
     "output_type": "display_data"
    }
   ],
   "execution_count": 269
  },
  {
   "cell_type": "markdown",
   "metadata": {},
   "source": [
    "Resources:  what is the atmosphere level again:\n",
    "- https://scied.ucar.edu/atmosphere-layers\n",
    "- https://niwa.co.nz/education-and-training/schools/students/layers\n",
    "- https://scied.ucar.edu/shortcontent/troposphere-overview"
   ]
  },
  {
   "cell_type": "markdown",
   "metadata": {},
   "source": [
    "## Convert wind (U,V) to speed (m/s)"
   ]
  },
  {
   "cell_type": "code",
   "metadata": {
    "ExecuteTime": {
     "end_time": "2024-12-17T15:41:12.723781Z",
     "start_time": "2024-12-17T15:41:12.720541Z"
    }
   },
   "source": [
    "# let first convert wind speed and wind direction for all data related to wind MERRA-2\n",
    "wind = pandas_dataframe_to_unit_arrays(df[wind_cols], w_units)"
   ],
   "outputs": [],
   "execution_count": 270
  },
  {
   "cell_type": "code",
   "metadata": {
    "ExecuteTime": {
     "end_time": "2024-12-17T15:41:12.775478Z",
     "start_time": "2024-12-17T15:41:12.766470Z"
    }
   },
   "source": [
    "wind['v_2m'] = mpcalc.wind_speed(wind['U2M'], wind['V2M'])\n",
    "wind['d_2m']  = mpcalc.wind_direction(wind['U2M'], wind['V2M'])\n",
    "\n",
    "wind['v_10m'] = mpcalc.wind_speed(wind['U10M'], wind['V10M'])\n",
    "wind['d_10m']  = mpcalc.wind_direction(wind['U10M'], wind['V10M'])\n",
    "\n",
    "wind['v_50m'] = mpcalc.wind_speed(wind['U50M'], wind['V50M'])\n",
    "wind['d_50m']  = mpcalc.wind_direction(wind['U50M'], wind['V50M'])\n",
    "\n",
    "wind['v_850'] = mpcalc.wind_speed(wind['U850'], wind['V850'])\n",
    "wind['d_850']  = mpcalc.wind_direction(wind['U850'], wind['V850'])\n",
    "\n",
    "wind['v_500'] = mpcalc.wind_speed(wind['U500'], wind['V500'])\n",
    "wind['d_500']  = mpcalc.wind_direction(wind['U500'], wind['V500'])\n",
    "\n",
    "wind['v_250'] = mpcalc.wind_speed(wind['U250'], wind['V250'])\n",
    "wind['d_250']  = mpcalc.wind_direction(wind['U250'], wind['V250'])"
   ],
   "outputs": [],
   "execution_count": 271
  },
  {
   "cell_type": "code",
   "metadata": {
    "ExecuteTime": {
     "end_time": "2024-12-17T15:41:12.861397Z",
     "start_time": "2024-12-17T15:41:12.830633Z"
    }
   },
   "source": [
    "dft = pd.DataFrame({\n",
    "        'v_2m': wind['v_2m'],\n",
    "        'd_2m': wind['d_2m'],\n",
    "        'v_10m': wind['v_10m'],\n",
    "        'd_10m': wind['d_10m'],\n",
    "        'v_50m': wind['v_50m'],\n",
    "        'd_50m': wind['d_50m'],\n",
    "        'v_850': wind['v_850'],\n",
    "        'd_850': wind['d_850'],\n",
    "        'v_500': wind['v_500'],\n",
    "        'd_500': wind['d_500'],\n",
    "        'v_250': wind['v_250'],\n",
    "        'd_250': wind['d_250'],\n",
    "        }, index=df.index.to_list(),)\n",
    "dft.head()"
   ],
   "outputs": [
    {
     "data": {
      "text/plain": [
       "                         v_2m        d_2m     v_10m       d_10m     v_50m  \\\n",
       "2018-01-01 00:00:00  0.507582  182.617815  0.820326  182.212835  1.167523   \n",
       "2018-01-01 01:00:00  0.429060  206.227729  0.691324  206.109338  0.979452   \n",
       "2018-01-01 02:00:00  0.383400  219.367919  0.617108  218.824390  0.872296   \n",
       "2018-01-01 03:00:00  0.339189  215.109724  0.525337  212.637784  0.729687   \n",
       "2018-01-01 04:00:00  0.305853  205.666509  0.477588  200.748694  0.666341   \n",
       "\n",
       "                          d_50m     v_850       d_850      v_500       d_500  \\\n",
       "2018-01-01 00:00:00  181.509485  6.347019  173.860069  11.257534  276.654649   \n",
       "2018-01-01 01:00:00  205.692157  6.175777  176.297386  11.215821  280.471385   \n",
       "2018-01-01 02:00:00  218.648565  5.997708  177.918171  10.827758  282.437516   \n",
       "2018-01-01 03:00:00  211.709574  5.915825  177.896957  10.295540  282.633150   \n",
       "2018-01-01 04:00:00  198.644717  5.885087  178.941354   9.500886  280.860531   \n",
       "\n",
       "                         v_250       d_250  \n",
       "2018-01-01 00:00:00  23.196986  242.232266  \n",
       "2018-01-01 01:00:00  23.475563  241.081727  \n",
       "2018-01-01 02:00:00  23.842929  240.022727  \n",
       "2018-01-01 03:00:00  24.137831  239.375860  \n",
       "2018-01-01 04:00:00  24.453376  238.787131  "
      ],
      "text/html": [
       "<div>\n",
       "<style scoped>\n",
       "    .dataframe tbody tr th:only-of-type {\n",
       "        vertical-align: middle;\n",
       "    }\n",
       "\n",
       "    .dataframe tbody tr th {\n",
       "        vertical-align: top;\n",
       "    }\n",
       "\n",
       "    .dataframe thead th {\n",
       "        text-align: right;\n",
       "    }\n",
       "</style>\n",
       "<table border=\"1\" class=\"dataframe\">\n",
       "  <thead>\n",
       "    <tr style=\"text-align: right;\">\n",
       "      <th></th>\n",
       "      <th>v_2m</th>\n",
       "      <th>d_2m</th>\n",
       "      <th>v_10m</th>\n",
       "      <th>d_10m</th>\n",
       "      <th>v_50m</th>\n",
       "      <th>d_50m</th>\n",
       "      <th>v_850</th>\n",
       "      <th>d_850</th>\n",
       "      <th>v_500</th>\n",
       "      <th>d_500</th>\n",
       "      <th>v_250</th>\n",
       "      <th>d_250</th>\n",
       "    </tr>\n",
       "  </thead>\n",
       "  <tbody>\n",
       "    <tr>\n",
       "      <th>2018-01-01 00:00:00</th>\n",
       "      <td>0.507582</td>\n",
       "      <td>182.617815</td>\n",
       "      <td>0.820326</td>\n",
       "      <td>182.212835</td>\n",
       "      <td>1.167523</td>\n",
       "      <td>181.509485</td>\n",
       "      <td>6.347019</td>\n",
       "      <td>173.860069</td>\n",
       "      <td>11.257534</td>\n",
       "      <td>276.654649</td>\n",
       "      <td>23.196986</td>\n",
       "      <td>242.232266</td>\n",
       "    </tr>\n",
       "    <tr>\n",
       "      <th>2018-01-01 01:00:00</th>\n",
       "      <td>0.429060</td>\n",
       "      <td>206.227729</td>\n",
       "      <td>0.691324</td>\n",
       "      <td>206.109338</td>\n",
       "      <td>0.979452</td>\n",
       "      <td>205.692157</td>\n",
       "      <td>6.175777</td>\n",
       "      <td>176.297386</td>\n",
       "      <td>11.215821</td>\n",
       "      <td>280.471385</td>\n",
       "      <td>23.475563</td>\n",
       "      <td>241.081727</td>\n",
       "    </tr>\n",
       "    <tr>\n",
       "      <th>2018-01-01 02:00:00</th>\n",
       "      <td>0.383400</td>\n",
       "      <td>219.367919</td>\n",
       "      <td>0.617108</td>\n",
       "      <td>218.824390</td>\n",
       "      <td>0.872296</td>\n",
       "      <td>218.648565</td>\n",
       "      <td>5.997708</td>\n",
       "      <td>177.918171</td>\n",
       "      <td>10.827758</td>\n",
       "      <td>282.437516</td>\n",
       "      <td>23.842929</td>\n",
       "      <td>240.022727</td>\n",
       "    </tr>\n",
       "    <tr>\n",
       "      <th>2018-01-01 03:00:00</th>\n",
       "      <td>0.339189</td>\n",
       "      <td>215.109724</td>\n",
       "      <td>0.525337</td>\n",
       "      <td>212.637784</td>\n",
       "      <td>0.729687</td>\n",
       "      <td>211.709574</td>\n",
       "      <td>5.915825</td>\n",
       "      <td>177.896957</td>\n",
       "      <td>10.295540</td>\n",
       "      <td>282.633150</td>\n",
       "      <td>24.137831</td>\n",
       "      <td>239.375860</td>\n",
       "    </tr>\n",
       "    <tr>\n",
       "      <th>2018-01-01 04:00:00</th>\n",
       "      <td>0.305853</td>\n",
       "      <td>205.666509</td>\n",
       "      <td>0.477588</td>\n",
       "      <td>200.748694</td>\n",
       "      <td>0.666341</td>\n",
       "      <td>198.644717</td>\n",
       "      <td>5.885087</td>\n",
       "      <td>178.941354</td>\n",
       "      <td>9.500886</td>\n",
       "      <td>280.860531</td>\n",
       "      <td>24.453376</td>\n",
       "      <td>238.787131</td>\n",
       "    </tr>\n",
       "  </tbody>\n",
       "</table>\n",
       "</div>"
      ]
     },
     "execution_count": 272,
     "metadata": {},
     "output_type": "execute_result"
    }
   ],
   "execution_count": 272
  },
  {
   "cell_type": "code",
   "metadata": {
    "ExecuteTime": {
     "end_time": "2024-12-17T15:41:12.910225Z",
     "start_time": "2024-12-17T15:41:12.908355Z"
    }
   },
   "source": [
    "# and save data to work later \n",
    "dft.to_csv('data/merra2_hanoi_2018_wind_converted.csv')"
   ],
   "outputs": [],
   "execution_count": 273
  },
  {
   "cell_type": "markdown",
   "metadata": {},
   "source": [
    "## merge data of wind with pm25"
   ]
  },
  {
   "cell_type": "code",
   "metadata": {
    "ExecuteTime": {
     "end_time": "2024-12-17T15:41:12.955694Z",
     "start_time": "2024-12-17T15:41:12.950847Z"
    }
   },
   "source": [
    "df = pd.merge(dft, pm25, right_index=True, left_index=True)"
   ],
   "outputs": [],
   "execution_count": 274
  },
  {
   "cell_type": "code",
   "metadata": {
    "ExecuteTime": {
     "end_time": "2024-12-17T15:41:13.223222Z",
     "start_time": "2024-12-17T15:41:13.035278Z"
    }
   },
   "source": [
    "sns.heatmap(df.corr(), cmap='viridis_r')"
   ],
   "outputs": [
    {
     "data": {
      "text/plain": [
       "<Axes: >"
      ]
     },
     "execution_count": 275,
     "metadata": {},
     "output_type": "execute_result"
    },
    {
     "data": {
      "text/plain": [
       "<Figure size 1000x600 with 2 Axes>"
      ],
      "image/png": "[encoded data removed]"
     },
     "metadata": {},
     "output_type": "display_data"
    }
   ],
   "execution_count": 275
  },
  {
   "cell_type": "markdown",
   "metadata": {},
   "source": [
    "- pretty colorful, and heatmap was useful to see pattern from a large datashet, \n",
    "- in this case, the correlation of winds to PM<sub>2.5</sub> is light green and yellowish - which is weak"
   ]
  },
  {
   "cell_type": "code",
   "metadata": {
    "ExecuteTime": {
     "end_time": "2024-12-17T15:41:13.378889Z",
     "start_time": "2024-12-17T15:41:13.256997Z"
    }
   },
   "source": [
    "# let try to plot by horizonal bars\n",
    "df.corr()['pm25'].sort_values().to_frame().drop('pm25').plot.barh()"
   ],
   "outputs": [
    {
     "data": {
      "text/plain": [
       "<Axes: >"
      ]
     },
     "execution_count": 276,
     "metadata": {},
     "output_type": "execute_result"
    },
    {
     "data": {
      "text/plain": [
       "<Figure size 1000x600 with 1 Axes>"
      ],
      "image/png": "[encoded data removed]"
     },
     "metadata": {},
     "output_type": "display_data"
    }
   ],
   "execution_count": 276
  },
  {
   "cell_type": "code",
   "metadata": {
    "ExecuteTime": {
     "end_time": "2024-12-17T15:41:13.402990Z",
     "start_time": "2024-12-17T15:41:13.400503Z"
    }
   },
   "source": [
    "# direction seems important (in agreement with the previous analysis)\n",
    "# let drill more on speed and direction\n",
    "# all columns related to speed\n",
    "vs = [v for v in list(df.columns) if 'v' in v]"
   ],
   "outputs": [],
   "execution_count": 277
  },
  {
   "cell_type": "code",
   "metadata": {
    "ExecuteTime": {
     "end_time": "2024-12-17T15:41:13.504611Z",
     "start_time": "2024-12-17T15:41:13.501842Z"
    }
   },
   "source": [
    "# and direction\n",
    "ds = [v for v in list(df.columns) if 'd' in v]"
   ],
   "outputs": [],
   "execution_count": 278
  },
  {
   "cell_type": "code",
   "metadata": {
    "ExecuteTime": {
     "end_time": "2024-12-17T15:41:13.525450Z",
     "start_time": "2024-12-17T15:41:13.523084Z"
    }
   },
   "source": [
    "# and PM2.5 columns\n",
    "vs.append('pm25')\n",
    "ds.append('pm25')"
   ],
   "outputs": [],
   "execution_count": 279
  },
  {
   "cell_type": "code",
   "metadata": {
    "ExecuteTime": {
     "end_time": "2024-12-17T15:41:13.601709Z",
     "start_time": "2024-12-17T15:41:13.593533Z"
    }
   },
   "source": [
    "# we can also find out what would the height (to the ground) if we know the standard pressure (in hectopascal)\n",
    "mpcalc.pressure_to_height_std([850, 500, 250]*units.hectopascal)"
   ],
   "outputs": [
    {
     "data": {
      "text/plain": [
       "<Quantity([ 1.456514    5.57143442 10.35737515], 'kilometer')>"
      ],
      "text/html": [
       "<table><tbody><tr><th>Magnitude</th><td style='text-align:left;'><pre>[1.4565139962849931 5.571434423209202 10.357375151717509]</pre></td></tr><tr><th>Units</th><td style='text-align:left;'>kilometer</td></tr></tbody></table>"
      ],
      "text/latex": "$\\begin{pmatrix} &  & \\end{pmatrix}\\ \\mathrm{kilometer}$"
     },
     "execution_count": 280,
     "metadata": {},
     "output_type": "execute_result"
    }
   ],
   "execution_count": 280
  },
  {
   "cell_type": "code",
   "metadata": {
    "ExecuteTime": {
     "end_time": "2024-12-17T15:41:13.670009Z",
     "start_time": "2024-12-17T15:41:13.667531Z"
    }
   },
   "source": [
    "# just for proximation\n",
    "ylabelsz = [50, 1456, 10, 2, 5500, 10000]"
   ],
   "outputs": [],
   "execution_count": 281
  },
  {
   "cell_type": "code",
   "metadata": {
    "ExecuteTime": {
     "end_time": "2024-12-17T15:41:13.915147Z",
     "start_time": "2024-12-17T15:41:13.769860Z"
    }
   },
   "source": [
    "fig, ax = plt.subplots(figsize=(6,6))\n",
    "df[vs].corr()['pm25'].sort_values().to_frame().drop('pm25').plot.barh(ax=ax)\n",
    "ax.set_yticklabels(ylabelsz)\n",
    "ax.set_ylabel('Height, m')\n",
    "ax.set_xlabel('Pearson correlation coefficient')\n",
    "ax.set_title('Correlation between wind at different height and $PM_{2.5}$\\nfor Hanoi, 2018', y=1.05)\n",
    "ax.text(1.0,1.02, s='Datasource: MERRA-2', va='center', ha='right', transform=ax.transAxes,\n",
    "       fontsize=8, color='gray')\n",
    "ax.get_legend().remove()\n",
    "ax.grid()\n",
    "fig.tight_layout()\n",
    "fig.savefig('img/2020Aug_wind_corr_heights.png')\n"
   ],
   "outputs": [
    {
     "data": {
      "text/plain": [
       "<Figure size 600x600 with 1 Axes>"
      ],
      "image/png": "[encoded data removed]"
     },
     "metadata": {},
     "output_type": "display_data"
    }
   ],
   "execution_count": 282
  },
  {
   "cell_type": "code",
   "metadata": {
    "ExecuteTime": {
     "end_time": "2024-12-17T15:41:13.956813Z",
     "start_time": "2024-12-17T15:41:13.951300Z"
    }
   },
   "source": [
    "df[vs].corr()['pm25']"
   ],
   "outputs": [
    {
     "data": {
      "text/plain": [
       "v_2m    -0.139372\n",
       "v_10m   -0.160878\n",
       "v_50m   -0.196811\n",
       "v_850   -0.167242\n",
       "v_500    0.240385\n",
       "v_250    0.283819\n",
       "pm25     1.000000\n",
       "Name: pm25, dtype: float64"
      ]
     },
     "execution_count": 283,
     "metadata": {},
     "output_type": "execute_result"
    }
   ],
   "execution_count": 283
  },
  {
   "cell_type": "code",
   "metadata": {
    "ExecuteTime": {
     "end_time": "2024-12-17T15:41:14.019363Z",
     "start_time": "2024-12-17T15:41:14.017767Z"
    }
   },
   "source": [],
   "outputs": [],
   "execution_count": null
  },
  {
   "cell_type": "code",
   "metadata": {
    "ExecuteTime": {
     "end_time": "2024-12-17T15:41:14.245307Z",
     "start_time": "2024-12-17T15:41:14.080659Z"
    }
   },
   "source": [
    "fig, ax = plt.subplots(figsize=(6,6))\n",
    "df[vs].corr()['pm25'].to_frame().drop('pm25').plot.barh(ax=ax)\n",
    "ax.set_yticklabels(sorted(ylabelsz))\n",
    "ax.set_ylabel('Height, m')\n",
    "ax.set_xlabel('Pearson correlation coefficient')\n",
    "ax.set_title('Correlation between wind at different height and $PM_{2.5}$\\nfor Hanoi, 2018', y=1.05)\n",
    "ax.text(1.0,1.02, s='Datasource: MERRA-2', va='center', ha='right', transform=ax.transAxes,\n",
    "       fontsize=8, color='gray')\n",
    "ax.get_legend().remove()\n",
    "ax.grid()\n",
    "fig.tight_layout()\n",
    "fig.savefig('img/2020Aug_wind_corr_heights_inc.png')\n"
   ],
   "outputs": [
    {
     "data": {
      "text/plain": [
       "<Figure size 600x600 with 1 Axes>"
      ],
      "image/png": "[encoded data removed]"
     },
     "metadata": {},
     "output_type": "display_data"
    }
   ],
   "execution_count": 284
  },
  {
   "cell_type": "markdown",
   "metadata": {},
   "source": [
    "- wind speed near ground (<1000m) is inversely correlated with PM<sub>2.5</sub> concentration,\n",
    "- wind speed on the top of atmosphere (>5000m) is possively correlated with PM<sub>2.5</sub>"
   ]
  },
  {
   "cell_type": "code",
   "metadata": {
    "ExecuteTime": {
     "end_time": "2024-12-17T15:41:14.500658Z",
     "start_time": "2024-12-17T15:41:14.406021Z"
    }
   },
   "source": [
    "# with direction\n",
    "df[ds].corr()['pm25'].sort_values().to_frame().drop('pm25').plot.barh()"
   ],
   "outputs": [
    {
     "data": {
      "text/plain": [
       "<Axes: >"
      ]
     },
     "execution_count": 285,
     "metadata": {},
     "output_type": "execute_result"
    },
    {
     "data": {
      "text/plain": [
       "<Figure size 1000x600 with 1 Axes>"
      ],
      "image/png": "[encoded data removed]"
     },
     "metadata": {},
     "output_type": "display_data"
    }
   ],
   "execution_count": 285
  },
  {
   "cell_type": "markdown",
   "metadata": {},
   "source": [
    "- noted that wind direction is the degree due North, so a large degree (or really close to zero) is the northerly wind (wind blows from the North). We may have look at this in a later time"
   ]
  },
  {
   "cell_type": "code",
   "metadata": {
    "ExecuteTime": {
     "end_time": "2024-12-17T15:41:14.619219Z",
     "start_time": "2024-12-17T15:41:14.614707Z"
    }
   },
   "source": [
    "# filter only wind columns\n",
    "vs0 = ['v_2m', 'v_10m', 'v_50m', 'v_850', 'v_500', 'v_250']"
   ],
   "outputs": [],
   "execution_count": 286
  },
  {
   "cell_type": "code",
   "metadata": {
    "ExecuteTime": {
     "end_time": "2024-12-17T15:41:14.927399Z",
     "start_time": "2024-12-17T15:41:14.662575Z"
    }
   },
   "source": [
    "sns.boxenplot(data=df[vs0])"
   ],
   "outputs": [
    {
     "data": {
      "text/plain": [
       "<Axes: >"
      ]
     },
     "execution_count": 287,
     "metadata": {},
     "output_type": "execute_result"
    },
    {
     "data": {
      "text/plain": [
       "<Figure size 1000x600 with 1 Axes>"
      ],
      "image/png": "[encoded data removed]"
     },
     "metadata": {},
     "output_type": "display_data"
    }
   ],
   "execution_count": 287
  },
  {
   "cell_type": "code",
   "metadata": {
    "ExecuteTime": {
     "end_time": "2024-12-17T15:41:15.184085Z",
     "start_time": "2024-12-17T15:41:14.945672Z"
    }
   },
   "source": [
    "fig, ax = plt.subplots()\n",
    "sns.boxplot(data=df[vs0], ax=ax)"
   ],
   "outputs": [
    {
     "data": {
      "text/plain": [
       "<Axes: >"
      ]
     },
     "execution_count": 288,
     "metadata": {},
     "output_type": "execute_result"
    },
    {
     "data": {
      "text/plain": [
       "<Figure size 1000x600 with 1 Axes>"
      ],
      "image/png": "[encoded data removed]"
     },
     "metadata": {},
     "output_type": "display_data"
    }
   ],
   "execution_count": 288
  },
  {
   "cell_type": "code",
   "metadata": {
    "ExecuteTime": {
     "end_time": "2024-12-17T15:41:15.206109Z",
     "start_time": "2024-12-17T15:41:15.202744Z"
    }
   },
   "source": [
    "ds"
   ],
   "outputs": [
    {
     "data": {
      "text/plain": [
       "['d_2m', 'd_10m', 'd_50m', 'd_850', 'd_500', 'd_250', 'pm25']"
      ]
     },
     "execution_count": 289,
     "metadata": {},
     "output_type": "execute_result"
    }
   ],
   "execution_count": 289
  },
  {
   "cell_type": "code",
   "metadata": {
    "ExecuteTime": {
     "end_time": "2024-12-17T15:41:15.264713Z",
     "start_time": "2024-12-17T15:41:15.262368Z"
    }
   },
   "source": [
    "ds0 = ['d_2m', 'd_10m', 'd_50m', 'd_850', 'd_500', 'd_250']"
   ],
   "outputs": [],
   "execution_count": 290
  },
  {
   "cell_type": "code",
   "metadata": {
    "ExecuteTime": {
     "end_time": "2024-12-17T15:41:15.575244Z",
     "start_time": "2024-12-17T15:41:15.308972Z"
    }
   },
   "source": [
    "sns.boxplot(data=df[ds0])"
   ],
   "outputs": [
    {
     "data": {
      "text/plain": [
       "<Axes: >"
      ]
     },
     "execution_count": 291,
     "metadata": {},
     "output_type": "execute_result"
    },
    {
     "data": {
      "text/plain": [
       "<Figure size 1000x600 with 1 Axes>"
      ],
      "image/png": "[encoded data removed]"
     },
     "metadata": {},
     "output_type": "display_data"
    }
   ],
   "execution_count": 291
  },
  {
   "cell_type": "markdown",
   "metadata": {},
   "source": [
    "- nothing much to comment on"
   ]
  },
  {
   "cell_type": "markdown",
   "metadata": {},
   "source": [
    "# Convert specific humdity to relative humdity"
   ]
  },
  {
   "cell_type": "markdown",
   "metadata": {},
   "source": [
    " The formula used is that from [Bolton1980]_ for T in degrees Celsius:\n",
    "\n",
    " $$ 6.112 e^\\frac{17.67T}{T + 243.5}$$"
   ]
  },
  {
   "cell_type": "code",
   "metadata": {
    "ExecuteTime": {
     "end_time": "2024-12-17T15:41:15.645438Z",
     "start_time": "2024-12-17T15:41:15.593998Z"
    }
   },
   "source": [
    "# let load the data file from MERRA-2\n",
    "df = pd.read_csv('data/merra2_slv_hanoi_2018.csv',\n",
    "                parse_dates=['time'],\n",
    "                index_col=['time'])\n",
    "df.head()"
   ],
   "outputs": [
    {
     "data": {
      "text/plain": [
       "                          U2M       V250      TROPT      TROPPB        T2M  \\\n",
       "time                                                                         \n",
       "2018-01-01 00:00:00  0.023183  10.807207  192.34645  10051.0290  287.10890   \n",
       "2018-01-01 01:00:00  0.189619  11.351880  192.50723  10052.2750  286.79376   \n",
       "2018-01-01 02:00:00  0.243190  11.913273  192.63431  10051.5625  286.48932   \n",
       "2018-01-01 03:00:00  0.195083  12.295908  192.71167  10052.2780  286.24753   \n",
       "2018-01-01 04:00:00  0.132475  12.672207  192.72789  10050.9120  285.96360   \n",
       "\n",
       "                          TQL       T500      U850         PS      V850  ...  \\\n",
       "time                                                                     ...   \n",
       "2018-01-01 00:00:00  0.008423  267.34950 -0.678858  100905.08  6.310610  ...   \n",
       "2018-01-01 01:00:00  0.009235  267.07660 -0.398818  100865.09  6.162886  ...   \n",
       "2018-01-01 02:00:00  0.006260  266.77542 -0.217877  100819.56  5.993750  ...   \n",
       "2018-01-01 03:00:00  0.003489  266.50415 -0.217092  100793.71  5.911840  ...   \n",
       "2018-01-01 04:00:00  0.002314  266.30140 -0.108732  100791.80  5.884082  ...   \n",
       "\n",
       "                          H850       T850      U50M      U10M    TROPPV  \\\n",
       "time                                                                      \n",
       "2018-01-01 00:00:00  1527.0985  283.53122  0.030755  0.031674  7564.037   \n",
       "2018-01-01 01:00:00  1522.4517  283.64413  0.424628  0.304242  7369.791   \n",
       "2018-01-01 02:00:00  1518.0483  283.75928  0.544786  0.386887  7256.081   \n",
       "2018-01-01 03:00:00  1515.4990  283.86768  0.383533  0.283328  7255.750   \n",
       "2018-01-01 04:00:00  1514.8696  283.87558  0.213028  0.169195  7256.080   \n",
       "\n",
       "                          H500      V500     T2MWET       U500     QV10M  \n",
       "time                                                                      \n",
       "2018-01-01 00:00:00  5840.2160 -1.304574  284.03730  11.181688  0.007823  \n",
       "2018-01-01 01:00:00  5835.2650 -2.038413  283.94345  11.029030  0.007823  \n",
       "2018-01-01 02:00:00  5830.6333 -2.332026  283.87656  10.573646  0.007822  \n",
       "2018-01-01 03:00:00  5828.6885 -2.251715  283.76090  10.046288  0.007807  \n",
       "2018-01-01 04:00:00  5828.3154 -1.790147  283.66614   9.330713  0.007804  \n",
       "\n",
       "[5 rows x 39 columns]"
      ],
      "text/html": [
       "<div>\n",
       "<style scoped>\n",
       "    .dataframe tbody tr th:only-of-type {\n",
       "        vertical-align: middle;\n",
       "    }\n",
       "\n",
       "    .dataframe tbody tr th {\n",
       "        vertical-align: top;\n",
       "    }\n",
       "\n",
       "    .dataframe thead th {\n",
       "        text-align: right;\n",
       "    }\n",
       "</style>\n",
       "<table border=\"1\" class=\"dataframe\">\n",
       "  <thead>\n",
       "    <tr style=\"text-align: right;\">\n",
       "      <th></th>\n",
       "      <th>U2M</th>\n",
       "      <th>V250</th>\n",
       "      <th>TROPT</th>\n",
       "      <th>TROPPB</th>\n",
       "      <th>T2M</th>\n",
       "      <th>TQL</th>\n",
       "      <th>T500</th>\n",
       "      <th>U850</th>\n",
       "      <th>PS</th>\n",
       "      <th>V850</th>\n",
       "      <th>...</th>\n",
       "      <th>H850</th>\n",
       "      <th>T850</th>\n",
       "      <th>U50M</th>\n",
       "      <th>U10M</th>\n",
       "      <th>TROPPV</th>\n",
       "      <th>H500</th>\n",
       "      <th>V500</th>\n",
       "      <th>T2MWET</th>\n",
       "      <th>U500</th>\n",
       "      <th>QV10M</th>\n",
       "    </tr>\n",
       "    <tr>\n",
       "      <th>time</th>\n",
       "      <th></th>\n",
       "      <th></th>\n",
       "      <th></th>\n",
       "      <th></th>\n",
       "      <th></th>\n",
       "      <th></th>\n",
       "      <th></th>\n",
       "      <th></th>\n",
       "      <th></th>\n",
       "      <th></th>\n",
       "      <th></th>\n",
       "      <th></th>\n",
       "      <th></th>\n",
       "      <th></th>\n",
       "      <th></th>\n",
       "      <th></th>\n",
       "      <th></th>\n",
       "      <th></th>\n",
       "      <th></th>\n",
       "      <th></th>\n",
       "      <th></th>\n",
       "    </tr>\n",
       "  </thead>\n",
       "  <tbody>\n",
       "    <tr>\n",
       "      <th>2018-01-01 00:00:00</th>\n",
       "      <td>0.023183</td>\n",
       "      <td>10.807207</td>\n",
       "      <td>192.34645</td>\n",
       "      <td>10051.0290</td>\n",
       "      <td>287.10890</td>\n",
       "      <td>0.008423</td>\n",
       "      <td>267.34950</td>\n",
       "      <td>-0.678858</td>\n",
       "      <td>100905.08</td>\n",
       "      <td>6.310610</td>\n",
       "      <td>...</td>\n",
       "      <td>1527.0985</td>\n",
       "      <td>283.53122</td>\n",
       "      <td>0.030755</td>\n",
       "      <td>0.031674</td>\n",
       "      <td>7564.037</td>\n",
       "      <td>5840.2160</td>\n",
       "      <td>-1.304574</td>\n",
       "      <td>284.03730</td>\n",
       "      <td>11.181688</td>\n",
       "      <td>0.007823</td>\n",
       "    </tr>\n",
       "    <tr>\n",
       "      <th>2018-01-01 01:00:00</th>\n",
       "      <td>0.189619</td>\n",
       "      <td>11.351880</td>\n",
       "      <td>192.50723</td>\n",
       "      <td>10052.2750</td>\n",
       "      <td>286.79376</td>\n",
       "      <td>0.009235</td>\n",
       "      <td>267.07660</td>\n",
       "      <td>-0.398818</td>\n",
       "      <td>100865.09</td>\n",
       "      <td>6.162886</td>\n",
       "      <td>...</td>\n",
       "      <td>1522.4517</td>\n",
       "      <td>283.64413</td>\n",
       "      <td>0.424628</td>\n",
       "      <td>0.304242</td>\n",
       "      <td>7369.791</td>\n",
       "      <td>5835.2650</td>\n",
       "      <td>-2.038413</td>\n",
       "      <td>283.94345</td>\n",
       "      <td>11.029030</td>\n",
       "      <td>0.007823</td>\n",
       "    </tr>\n",
       "    <tr>\n",
       "      <th>2018-01-01 02:00:00</th>\n",
       "      <td>0.243190</td>\n",
       "      <td>11.913273</td>\n",
       "      <td>192.63431</td>\n",
       "      <td>10051.5625</td>\n",
       "      <td>286.48932</td>\n",
       "      <td>0.006260</td>\n",
       "      <td>266.77542</td>\n",
       "      <td>-0.217877</td>\n",
       "      <td>100819.56</td>\n",
       "      <td>5.993750</td>\n",
       "      <td>...</td>\n",
       "      <td>1518.0483</td>\n",
       "      <td>283.75928</td>\n",
       "      <td>0.544786</td>\n",
       "      <td>0.386887</td>\n",
       "      <td>7256.081</td>\n",
       "      <td>5830.6333</td>\n",
       "      <td>-2.332026</td>\n",
       "      <td>283.87656</td>\n",
       "      <td>10.573646</td>\n",
       "      <td>0.007822</td>\n",
       "    </tr>\n",
       "    <tr>\n",
       "      <th>2018-01-01 03:00:00</th>\n",
       "      <td>0.195083</td>\n",
       "      <td>12.295908</td>\n",
       "      <td>192.71167</td>\n",
       "      <td>10052.2780</td>\n",
       "      <td>286.24753</td>\n",
       "      <td>0.003489</td>\n",
       "      <td>266.50415</td>\n",
       "      <td>-0.217092</td>\n",
       "      <td>100793.71</td>\n",
       "      <td>5.911840</td>\n",
       "      <td>...</td>\n",
       "      <td>1515.4990</td>\n",
       "      <td>283.86768</td>\n",
       "      <td>0.383533</td>\n",
       "      <td>0.283328</td>\n",
       "      <td>7255.750</td>\n",
       "      <td>5828.6885</td>\n",
       "      <td>-2.251715</td>\n",
       "      <td>283.76090</td>\n",
       "      <td>10.046288</td>\n",
       "      <td>0.007807</td>\n",
       "    </tr>\n",
       "    <tr>\n",
       "      <th>2018-01-01 04:00:00</th>\n",
       "      <td>0.132475</td>\n",
       "      <td>12.672207</td>\n",
       "      <td>192.72789</td>\n",
       "      <td>10050.9120</td>\n",
       "      <td>285.96360</td>\n",
       "      <td>0.002314</td>\n",
       "      <td>266.30140</td>\n",
       "      <td>-0.108732</td>\n",
       "      <td>100791.80</td>\n",
       "      <td>5.884082</td>\n",
       "      <td>...</td>\n",
       "      <td>1514.8696</td>\n",
       "      <td>283.87558</td>\n",
       "      <td>0.213028</td>\n",
       "      <td>0.169195</td>\n",
       "      <td>7256.080</td>\n",
       "      <td>5828.3154</td>\n",
       "      <td>-1.790147</td>\n",
       "      <td>283.66614</td>\n",
       "      <td>9.330713</td>\n",
       "      <td>0.007804</td>\n",
       "    </tr>\n",
       "  </tbody>\n",
       "</table>\n",
       "<p>5 rows × 39 columns</p>\n",
       "</div>"
      ]
     },
     "execution_count": 292,
     "metadata": {},
     "output_type": "execute_result"
    }
   ],
   "execution_count": 292
  },
  {
   "cell_type": "code",
   "metadata": {
    "ExecuteTime": {
     "end_time": "2024-12-17T15:41:15.678754Z",
     "start_time": "2024-12-17T15:41:15.675573Z"
    }
   },
   "source": [
    "df.columns"
   ],
   "outputs": [
    {
     "data": {
      "text/plain": [
       "Index(['U2M', 'V250', 'TROPT', 'TROPPB', 'T2M', 'TQL', 'T500', 'U850', 'PS',\n",
       "       'V850', 'H250', 'Q250', 'T2MDEW', 'V50M', 'Q500', 'DISPH', 'H1000',\n",
       "       'TS', 'T10M', 'TROPPT', 'SLP', 'U250', 'Q850', 'ZLCL', 'TQV', 'V2M',\n",
       "       'T250', 'TROPQ', 'V10M', 'H850', 'T850', 'U50M', 'U10M', 'TROPPV',\n",
       "       'H500', 'V500', 'T2MWET', 'U500', 'QV10M'],\n",
       "      dtype='object')"
      ]
     },
     "execution_count": 293,
     "metadata": {},
     "output_type": "execute_result"
    }
   ],
   "execution_count": 293
  },
  {
   "cell_type": "code",
   "metadata": {
    "ExecuteTime": {
     "end_time": "2024-12-17T15:41:15.733453Z",
     "start_time": "2024-12-17T15:41:15.731323Z"
    }
   },
   "source": [
    "# we will need air temperature and dewpoint temperature\n",
    "cols = ['T2M', 'T2MDEW']"
   ],
   "outputs": [],
   "execution_count": 294
  },
  {
   "cell_type": "code",
   "metadata": {
    "ExecuteTime": {
     "end_time": "2024-12-17T15:41:15.855848Z",
     "start_time": "2024-12-17T15:41:15.852148Z"
    }
   },
   "source": [
    "# standard name\n",
    "name_"
   ],
   "outputs": [
    {
     "data": {
      "text/plain": [
       "{'U2M': '2-meter_eastward_wind, m s-1',\n",
       " 'V250': 'northward_wind_at_250_hPa, m s-1',\n",
       " 'TROPT': 'tropopause_temperature_using_blended_TROPP_estimate, K',\n",
       " 'TROPPB': 'tropopause_pressure_based_on_blended_estimate, Pa',\n",
       " 'T2M': '2-meter_air_temperature, K',\n",
       " 'TQL': 'total_precipitable_liquid_water, kg m-2',\n",
       " 'T500': 'air_temperature_at_500_hPa, K',\n",
       " 'U850': 'eastward_wind_at_850_hPa, m s-1',\n",
       " 'PS': 'surface_pressure, Pa',\n",
       " 'V850': 'northward_wind_at_850_hPa, m s-1',\n",
       " 'H250': 'height_at_250_hPa, m',\n",
       " 'Q250': 'specific_humidity_at_250_hPa, kg kg-1',\n",
       " 'T2MDEW': 'dew_point_temperature_at_2_m, K',\n",
       " 'V50M': 'northward_wind_at_50_meters, m s-1',\n",
       " 'Q500': 'specific_humidity_at_500_hPa, kg kg-1',\n",
       " 'DISPH': 'zero_plane_displacement_height, m',\n",
       " 'H1000': 'height_at_1000_mb, m',\n",
       " 'TS': 'surface_skin_temperature, K',\n",
       " 'T10M': '10-meter_air_temperature, K',\n",
       " 'TROPPT': 'tropopause_pressure_based_on_thermal_estimate, Pa',\n",
       " 'SLP': 'sea_level_pressure, Pa',\n",
       " 'U250': 'eastward_wind_at_250_hPa, m s-1',\n",
       " 'Q850': 'specific_humidity_at_850_hPa, kg kg-1',\n",
       " 'ZLCL': 'lifting_condensation_level, m',\n",
       " 'TQV': 'total_precipitable_water_vapor, kg m-2',\n",
       " 'V2M': '2-meter_northward_wind, m s-1',\n",
       " 'T250': 'air_temperature_at_250_hPa, K',\n",
       " 'TROPQ': 'tropopause_specific_humidity_using_blended_TROPP_estimate, kg kg-1',\n",
       " 'V10M': '10-meter_northward_wind, m s-1',\n",
       " 'H850': 'height_at_850_hPa, m',\n",
       " 'T850': 'air_temperature_at_850_hPa, K',\n",
       " 'U50M': 'eastward_wind_at_50_meters, m s-1',\n",
       " 'U10M': '10-meter_eastward_wind, m s-1',\n",
       " 'TROPPV': 'tropopause_pressure_based_on_EPV_estimate, Pa',\n",
       " 'H500': 'height_at_500_hPa, m',\n",
       " 'V500': 'northward_wind_at_500_hPa, m s-1',\n",
       " 'T2MWET': 'wet_bulb_temperature_at_2_m, K',\n",
       " 'U500': 'eastward_wind_at_500_hPa, m s-1',\n",
       " 'QV10M': '10-meter_specific_humidity, kg kg-1'}"
      ]
     },
     "execution_count": 295,
     "metadata": {},
     "output_type": "execute_result"
    }
   ],
   "execution_count": 295
  },
  {
   "cell_type": "code",
   "metadata": {
    "ExecuteTime": {
     "end_time": "2024-12-17T15:41:15.946151Z",
     "start_time": "2024-12-17T15:41:15.943483Z"
    }
   },
   "source": [
    "dft = df[cols]"
   ],
   "outputs": [],
   "execution_count": 296
  },
  {
   "cell_type": "markdown",
   "metadata": {},
   "source": [
    "## Approximation"
   ]
  },
  {
   "cell_type": "code",
   "metadata": {
    "ExecuteTime": {
     "end_time": "2024-12-17T15:41:15.982110Z",
     "start_time": "2024-12-17T15:41:15.978695Z"
    }
   },
   "source": [
    "dft.columns"
   ],
   "outputs": [
    {
     "data": {
      "text/plain": [
       "Index(['T2M', 'T2MDEW'], dtype='object')"
      ]
     },
     "execution_count": 297,
     "metadata": {},
     "output_type": "execute_result"
    }
   ],
   "execution_count": 297
  },
  {
   "metadata": {
    "ExecuteTime": {
     "end_time": "2024-12-17T15:41:16.112723Z",
     "start_time": "2024-12-17T15:41:16.051584Z"
    }
   },
   "cell_type": "code",
   "outputs": [
    {
     "data": {
      "text/plain": [
       "                           T2M     T2MDEW    RH_est\n",
       "time                                               \n",
       "2018-01-01 00:00:00  287.10890  284.03317  84.62135\n",
       "2018-01-01 01:00:00  286.79376  283.94443  85.75335\n",
       "2018-01-01 02:00:00  286.48932  283.87836  86.94520\n",
       "2018-01-01 03:00:00  286.24753  283.75630  87.54385\n",
       "2018-01-01 04:00:00  285.96360  283.65967  88.48035"
      ],
      "text/html": [
       "<div>\n",
       "<style scoped>\n",
       "    .dataframe tbody tr th:only-of-type {\n",
       "        vertical-align: middle;\n",
       "    }\n",
       "\n",
       "    .dataframe tbody tr th {\n",
       "        vertical-align: top;\n",
       "    }\n",
       "\n",
       "    .dataframe thead th {\n",
       "        text-align: right;\n",
       "    }\n",
       "</style>\n",
       "<table border=\"1\" class=\"dataframe\">\n",
       "  <thead>\n",
       "    <tr style=\"text-align: right;\">\n",
       "      <th></th>\n",
       "      <th>T2M</th>\n",
       "      <th>T2MDEW</th>\n",
       "      <th>RH_est</th>\n",
       "    </tr>\n",
       "    <tr>\n",
       "      <th>time</th>\n",
       "      <th></th>\n",
       "      <th></th>\n",
       "      <th></th>\n",
       "    </tr>\n",
       "  </thead>\n",
       "  <tbody>\n",
       "    <tr>\n",
       "      <th>2018-01-01 00:00:00</th>\n",
       "      <td>287.10890</td>\n",
       "      <td>284.03317</td>\n",
       "      <td>84.62135</td>\n",
       "    </tr>\n",
       "    <tr>\n",
       "      <th>2018-01-01 01:00:00</th>\n",
       "      <td>286.79376</td>\n",
       "      <td>283.94443</td>\n",
       "      <td>85.75335</td>\n",
       "    </tr>\n",
       "    <tr>\n",
       "      <th>2018-01-01 02:00:00</th>\n",
       "      <td>286.48932</td>\n",
       "      <td>283.87836</td>\n",
       "      <td>86.94520</td>\n",
       "    </tr>\n",
       "    <tr>\n",
       "      <th>2018-01-01 03:00:00</th>\n",
       "      <td>286.24753</td>\n",
       "      <td>283.75630</td>\n",
       "      <td>87.54385</td>\n",
       "    </tr>\n",
       "    <tr>\n",
       "      <th>2018-01-01 04:00:00</th>\n",
       "      <td>285.96360</td>\n",
       "      <td>283.65967</td>\n",
       "      <td>88.48035</td>\n",
       "    </tr>\n",
       "  </tbody>\n",
       "</table>\n",
       "</div>"
      ]
     },
     "execution_count": 298,
     "metadata": {},
     "output_type": "execute_result"
    }
   ],
   "execution_count": 298,
   "source": [
    "# this use *C degree, but since but of T2M and T2MDEW in Kelvin degree, we don't have convert\n",
    "dft['RH_est'] = dft.apply(lambda row: 100-5*(row['T2M']-row['T2MDEW']), axis=1)\n",
    "dft.head()"
   ]
  },
  {
   "metadata": {},
   "cell_type": "markdown",
   "source": "## Use MetPy package"
  },
  {
   "metadata": {},
   "cell_type": "markdown",
   "source": "ref https://unidata.github.io/MetPy/latest/api/generated/metpy.calc.relative_humidity_from_dewpoint.html#metpy.calc.relative_humidity_from_dewpoint"
  },
  {
   "metadata": {
    "ExecuteTime": {
     "end_time": "2024-12-17T15:41:18.137702Z",
     "start_time": "2024-12-17T15:41:16.138417Z"
    }
   },
   "cell_type": "code",
   "outputs": [],
   "execution_count": 299,
   "source": [
    "# inline method not work\n",
    "dft['RH_mp'] = dft.apply(lambda row: mpcalc.relative_humidity_from_dewpoint(row['T2M']*units.K, row['T2MDEW']*units.K).magnitude*100, axis=1)"
   ]
  },
  {
   "metadata": {
    "ExecuteTime": {
     "end_time": "2024-12-17T15:41:18.171650Z",
     "start_time": "2024-12-17T15:41:18.164907Z"
    }
   },
   "cell_type": "code",
   "outputs": [
    {
     "data": {
      "text/plain": [
       "                           T2M     T2MDEW    RH_est      RH_mp\n",
       "time                                                          \n",
       "2018-01-01 00:00:00  287.10890  284.03317  84.62135  81.704321\n",
       "2018-01-01 01:00:00  286.79376  283.94443  85.75335  82.904195\n",
       "2018-01-01 02:00:00  286.48932  283.87836  86.94520  84.193856\n",
       "2018-01-01 03:00:00  286.24753  283.75630  87.54385  84.840914\n",
       "2018-01-01 04:00:00  285.96360  283.65967  88.48035  85.876586"
      ],
      "text/html": [
       "<div>\n",
       "<style scoped>\n",
       "    .dataframe tbody tr th:only-of-type {\n",
       "        vertical-align: middle;\n",
       "    }\n",
       "\n",
       "    .dataframe tbody tr th {\n",
       "        vertical-align: top;\n",
       "    }\n",
       "\n",
       "    .dataframe thead th {\n",
       "        text-align: right;\n",
       "    }\n",
       "</style>\n",
       "<table border=\"1\" class=\"dataframe\">\n",
       "  <thead>\n",
       "    <tr style=\"text-align: right;\">\n",
       "      <th></th>\n",
       "      <th>T2M</th>\n",
       "      <th>T2MDEW</th>\n",
       "      <th>RH_est</th>\n",
       "      <th>RH_mp</th>\n",
       "    </tr>\n",
       "    <tr>\n",
       "      <th>time</th>\n",
       "      <th></th>\n",
       "      <th></th>\n",
       "      <th></th>\n",
       "      <th></th>\n",
       "    </tr>\n",
       "  </thead>\n",
       "  <tbody>\n",
       "    <tr>\n",
       "      <th>2018-01-01 00:00:00</th>\n",
       "      <td>287.10890</td>\n",
       "      <td>284.03317</td>\n",
       "      <td>84.62135</td>\n",
       "      <td>81.704321</td>\n",
       "    </tr>\n",
       "    <tr>\n",
       "      <th>2018-01-01 01:00:00</th>\n",
       "      <td>286.79376</td>\n",
       "      <td>283.94443</td>\n",
       "      <td>85.75335</td>\n",
       "      <td>82.904195</td>\n",
       "    </tr>\n",
       "    <tr>\n",
       "      <th>2018-01-01 02:00:00</th>\n",
       "      <td>286.48932</td>\n",
       "      <td>283.87836</td>\n",
       "      <td>86.94520</td>\n",
       "      <td>84.193856</td>\n",
       "    </tr>\n",
       "    <tr>\n",
       "      <th>2018-01-01 03:00:00</th>\n",
       "      <td>286.24753</td>\n",
       "      <td>283.75630</td>\n",
       "      <td>87.54385</td>\n",
       "      <td>84.840914</td>\n",
       "    </tr>\n",
       "    <tr>\n",
       "      <th>2018-01-01 04:00:00</th>\n",
       "      <td>285.96360</td>\n",
       "      <td>283.65967</td>\n",
       "      <td>88.48035</td>\n",
       "      <td>85.876586</td>\n",
       "    </tr>\n",
       "  </tbody>\n",
       "</table>\n",
       "</div>"
      ]
     },
     "execution_count": 300,
     "metadata": {},
     "output_type": "execute_result"
    }
   ],
   "execution_count": 300,
   "source": "dft.head()"
  },
  {
   "metadata": {
    "ExecuteTime": {
     "end_time": "2024-12-17T15:41:18.412120Z",
     "start_time": "2024-12-17T15:41:18.235903Z"
    }
   },
   "cell_type": "code",
   "outputs": [
    {
     "data": {
      "text/plain": [
       "[<matplotlib.lines.Line2D at 0x7930337ca860>]"
      ]
     },
     "execution_count": 301,
     "metadata": {},
     "output_type": "execute_result"
    },
    {
     "data": {
      "text/plain": [
       "<Figure size 1000x600 with 1 Axes>"
      ],
      "image/png": "[encoded data removed]"
     },
     "metadata": {},
     "output_type": "display_data"
    }
   ],
   "execution_count": 301,
   "source": [
    "plt.plot(dft.index, dft['RH_est'], color='blue', alpha=0.5)\n",
    "plt.plot(dft.index, dft['RH_mp'], color='orange', alpha=0.5)\n",
    "dftd = dft.resample('1D').mean()\n",
    "plt.plot(dftd.index, dftd['RH_est'], color='blue', lw=5)\n",
    "plt.plot(dftd.index, dftd['RH_mp'], color='orange', lw=1)\n"
   ]
  },
  {
   "metadata": {
    "ExecuteTime": {
     "end_time": "2024-12-17T15:41:18.588199Z",
     "start_time": "2024-12-17T15:41:18.459234Z"
    }
   },
   "cell_type": "code",
   "outputs": [
    {
     "data": {
      "text/plain": [
       "<Axes: >"
      ]
     },
     "execution_count": 302,
     "metadata": {},
     "output_type": "execute_result"
    },
    {
     "data": {
      "text/plain": [
       "<Figure size 1000x600 with 1 Axes>"
      ],
      "image/png": "[encoded data removed]"
     },
     "metadata": {},
     "output_type": "display_data"
    }
   ],
   "execution_count": 302,
   "source": "sns.boxplot(data=dft[['RH_est', 'RH_mp']])"
  },
  {
   "metadata": {},
   "cell_type": "markdown",
   "source": "- they are quite similar, so either go with more accurate method (MetPy) or quick and simple (approxiation)"
  },
  {
   "metadata": {},
   "cell_type": "markdown",
   "source": "# Darksky (forecast and historical API) vs. observed data (Noiba via NOAA)"
  },
  {
   "metadata": {},
   "cell_type": "markdown",
   "source": "## DarkSky"
  },
  {
   "metadata": {
    "ExecuteTime": {
     "end_time": "2024-12-17T15:41:18.617021Z",
     "start_time": "2024-12-17T15:41:18.614780Z"
    }
   },
   "cell_type": "code",
   "outputs": [],
   "execution_count": 303,
   "source": "import datetime"
  },
  {
   "metadata": {
    "ExecuteTime": {
     "end_time": "2024-12-17T15:41:18.689774Z",
     "start_time": "2024-12-17T15:41:18.673627Z"
    }
   },
   "cell_type": "code",
   "outputs": [],
   "execution_count": 304,
   "source": [
    "dk = pd.read_csv('data/darksky_hanoi_2018.csv',\n",
    "                parse_dates=['time'],\n",
    "                index_col=['time'])"
   ]
  },
  {
   "metadata": {
    "ExecuteTime": {
     "end_time": "2024-12-17T15:41:18.735431Z",
     "start_time": "2024-12-17T15:41:18.724125Z"
    }
   },
   "cell_type": "code",
   "outputs": [
    {
     "data": {
      "text/plain": [
       "                     apparenttemperature  cloudcover  dewpoint  humidity  \\\n",
       "time                                                                       \n",
       "2017-12-31 00:00:00                16.98         NaN     10.99      0.68   \n",
       "2017-12-31 01:00:00                16.97         1.0     10.47      0.66   \n",
       "2017-12-31 02:00:00                16.98         NaN      9.99      0.63   \n",
       "2017-12-31 03:00:00                16.98         NaN      9.99      0.63   \n",
       "2017-12-31 04:00:00                16.79         1.0     10.41      0.66   \n",
       "\n",
       "                            icon  ozone  precipintensity  precipprobability  \\\n",
       "time                                                                          \n",
       "2017-12-31 00:00:00  clear-night    NaN              0.0                0.0   \n",
       "2017-12-31 01:00:00       cloudy    NaN              0.0                0.0   \n",
       "2017-12-31 02:00:00  clear-night    NaN              0.0                0.0   \n",
       "2017-12-31 03:00:00  clear-night    NaN              0.0                0.0   \n",
       "2017-12-31 04:00:00       cloudy    NaN              0.0                0.0   \n",
       "\n",
       "                    preciptype  pressure   summary  temperature  uvindex  \\\n",
       "time                                                                       \n",
       "2017-12-31 00:00:00        NaN       NaN     Clear        16.98      0.0   \n",
       "2017-12-31 01:00:00        NaN   1023.82  Overcast        16.97      0.0   \n",
       "2017-12-31 02:00:00        NaN       NaN     Clear        16.98      0.0   \n",
       "2017-12-31 03:00:00        NaN       NaN     Clear        16.98      0.0   \n",
       "2017-12-31 04:00:00        NaN   1023.19  Overcast        16.79      0.0   \n",
       "\n",
       "                     visibility  windbearing  windgust  windspeed  \n",
       "time                                                               \n",
       "2017-12-31 00:00:00       10.01         11.0       NaN       4.60  \n",
       "2017-12-31 01:00:00       10.01          9.0       NaN       3.20  \n",
       "2017-12-31 02:00:00       10.01         11.0       NaN       4.10  \n",
       "2017-12-31 03:00:00       10.01         11.0       NaN       3.60  \n",
       "2017-12-31 04:00:00       10.01          0.0       NaN       3.04  "
      ],
      "text/html": [
       "<div>\n",
       "<style scoped>\n",
       "    .dataframe tbody tr th:only-of-type {\n",
       "        vertical-align: middle;\n",
       "    }\n",
       "\n",
       "    .dataframe tbody tr th {\n",
       "        vertical-align: top;\n",
       "    }\n",
       "\n",
       "    .dataframe thead th {\n",
       "        text-align: right;\n",
       "    }\n",
       "</style>\n",
       "<table border=\"1\" class=\"dataframe\">\n",
       "  <thead>\n",
       "    <tr style=\"text-align: right;\">\n",
       "      <th></th>\n",
       "      <th>apparenttemperature</th>\n",
       "      <th>cloudcover</th>\n",
       "      <th>dewpoint</th>\n",
       "      <th>humidity</th>\n",
       "      <th>icon</th>\n",
       "      <th>ozone</th>\n",
       "      <th>precipintensity</th>\n",
       "      <th>precipprobability</th>\n",
       "      <th>preciptype</th>\n",
       "      <th>pressure</th>\n",
       "      <th>summary</th>\n",
       "      <th>temperature</th>\n",
       "      <th>uvindex</th>\n",
       "      <th>visibility</th>\n",
       "      <th>windbearing</th>\n",
       "      <th>windgust</th>\n",
       "      <th>windspeed</th>\n",
       "    </tr>\n",
       "    <tr>\n",
       "      <th>time</th>\n",
       "      <th></th>\n",
       "      <th></th>\n",
       "      <th></th>\n",
       "      <th></th>\n",
       "      <th></th>\n",
       "      <th></th>\n",
       "      <th></th>\n",
       "      <th></th>\n",
       "      <th></th>\n",
       "      <th></th>\n",
       "      <th></th>\n",
       "      <th></th>\n",
       "      <th></th>\n",
       "      <th></th>\n",
       "      <th></th>\n",
       "      <th></th>\n",
       "      <th></th>\n",
       "    </tr>\n",
       "  </thead>\n",
       "  <tbody>\n",
       "    <tr>\n",
       "      <th>2017-12-31 00:00:00</th>\n",
       "      <td>16.98</td>\n",
       "      <td>NaN</td>\n",
       "      <td>10.99</td>\n",
       "      <td>0.68</td>\n",
       "      <td>clear-night</td>\n",
       "      <td>NaN</td>\n",
       "      <td>0.0</td>\n",
       "      <td>0.0</td>\n",
       "      <td>NaN</td>\n",
       "      <td>NaN</td>\n",
       "      <td>Clear</td>\n",
       "      <td>16.98</td>\n",
       "      <td>0.0</td>\n",
       "      <td>10.01</td>\n",
       "      <td>11.0</td>\n",
       "      <td>NaN</td>\n",
       "      <td>4.60</td>\n",
       "    </tr>\n",
       "    <tr>\n",
       "      <th>2017-12-31 01:00:00</th>\n",
       "      <td>16.97</td>\n",
       "      <td>1.0</td>\n",
       "      <td>10.47</td>\n",
       "      <td>0.66</td>\n",
       "      <td>cloudy</td>\n",
       "      <td>NaN</td>\n",
       "      <td>0.0</td>\n",
       "      <td>0.0</td>\n",
       "      <td>NaN</td>\n",
       "      <td>1023.82</td>\n",
       "      <td>Overcast</td>\n",
       "      <td>16.97</td>\n",
       "      <td>0.0</td>\n",
       "      <td>10.01</td>\n",
       "      <td>9.0</td>\n",
       "      <td>NaN</td>\n",
       "      <td>3.20</td>\n",
       "    </tr>\n",
       "    <tr>\n",
       "      <th>2017-12-31 02:00:00</th>\n",
       "      <td>16.98</td>\n",
       "      <td>NaN</td>\n",
       "      <td>9.99</td>\n",
       "      <td>0.63</td>\n",
       "      <td>clear-night</td>\n",
       "      <td>NaN</td>\n",
       "      <td>0.0</td>\n",
       "      <td>0.0</td>\n",
       "      <td>NaN</td>\n",
       "      <td>NaN</td>\n",
       "      <td>Clear</td>\n",
       "      <td>16.98</td>\n",
       "      <td>0.0</td>\n",
       "      <td>10.01</td>\n",
       "      <td>11.0</td>\n",
       "      <td>NaN</td>\n",
       "      <td>4.10</td>\n",
       "    </tr>\n",
       "    <tr>\n",
       "      <th>2017-12-31 03:00:00</th>\n",
       "      <td>16.98</td>\n",
       "      <td>NaN</td>\n",
       "      <td>9.99</td>\n",
       "      <td>0.63</td>\n",
       "      <td>clear-night</td>\n",
       "      <td>NaN</td>\n",
       "      <td>0.0</td>\n",
       "      <td>0.0</td>\n",
       "      <td>NaN</td>\n",
       "      <td>NaN</td>\n",
       "      <td>Clear</td>\n",
       "      <td>16.98</td>\n",
       "      <td>0.0</td>\n",
       "      <td>10.01</td>\n",
       "      <td>11.0</td>\n",
       "      <td>NaN</td>\n",
       "      <td>3.60</td>\n",
       "    </tr>\n",
       "    <tr>\n",
       "      <th>2017-12-31 04:00:00</th>\n",
       "      <td>16.79</td>\n",
       "      <td>1.0</td>\n",
       "      <td>10.41</td>\n",
       "      <td>0.66</td>\n",
       "      <td>cloudy</td>\n",
       "      <td>NaN</td>\n",
       "      <td>0.0</td>\n",
       "      <td>0.0</td>\n",
       "      <td>NaN</td>\n",
       "      <td>1023.19</td>\n",
       "      <td>Overcast</td>\n",
       "      <td>16.79</td>\n",
       "      <td>0.0</td>\n",
       "      <td>10.01</td>\n",
       "      <td>0.0</td>\n",
       "      <td>NaN</td>\n",
       "      <td>3.04</td>\n",
       "    </tr>\n",
       "  </tbody>\n",
       "</table>\n",
       "</div>"
      ]
     },
     "execution_count": 305,
     "metadata": {},
     "output_type": "execute_result"
    }
   ],
   "execution_count": 305,
   "source": "dk.head()"
  },
  {
   "metadata": {
    "ExecuteTime": {
     "end_time": "2024-12-17T15:41:18.806437Z",
     "start_time": "2024-12-17T15:41:18.804584Z"
    }
   },
   "cell_type": "code",
   "outputs": [],
   "execution_count": 306,
   "source": [
    "dk['time'] = dk['utctime'].apply(dt.fromtimestamp)\n",
    "dk.to_csv('data/darksky_hanoi_2018.csv')"
   ]
  }
 ],
 "metadata": {
  "kernelspec": {
   "display_name": "Python 3",
   "language": "python",
   "name": "python3"
  },
  "language_info": {
   "codemirror_mode": {
    "name": "ipython",
    "version": 3
   },
   "file_extension": ".py",
   "mimetype": "text/x-python",
   "name": "python",
   "nbconvert_exporter": "python",
   "pygments_lexer": "ipython3",
   "version": "3.6.9"
  },
  "toc": {
   "base_numbering": 1,
   "nav_menu": {},
   "number_sections": true,
   "sideBar": true,
   "skip_h1_title": false,
   "title_cell": "Table of Contents",
   "title_sidebar": "Contents",
   "toc_cell": true,
   "toc_position": {},
   "toc_section_display": true,
   "toc_window_display": true
  },
  "toc-autonumbering": true,
  "toc-showmarkdowntxt": false,
  "toc-showtags": false
 },
 "nbformat": 4,
 "nbformat_minor": 4
}
